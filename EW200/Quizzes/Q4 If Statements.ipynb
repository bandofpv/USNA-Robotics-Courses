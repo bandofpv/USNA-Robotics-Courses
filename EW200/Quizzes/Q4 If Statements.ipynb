{
 "cells": [
  {
   "cell_type": "markdown",
   "id": "246dba5f",
   "metadata": {},
   "source": [
    "<img src=\"https://www.usna.edu/WRC/_files/WRClogos/WRCE-logo-combined-01-crop.png\" width=\"200px\">\n",
    "\n",
    "# Quiz 4: If Statements"
   ]
  },
  {
   "cell_type": "markdown",
   "id": "e2b79365",
   "metadata": {},
   "source": [
    "Write your code beneath each question. Initial values for variables are provided for each question. You should change these values to verify your code works correctly."
   ]
  },
  {
   "cell_type": "code",
   "execution_count": 1,
   "id": "b53ee75d",
   "metadata": {},
   "outputs": [
    {
     "name": "stdout",
     "output_type": "stream",
     "text": [
      "x is between -20 and 20 inclusive.\n",
      "x is big\n",
      "the word doesn't start with a, b, or c\n",
      "yes\n"
     ]
    }
   ],
   "source": [
    "# 1. write a conditional statement to test if x is between -20 and 20 inclusive (2pts)\n",
    "x = 5\n",
    "if -20 <= x <= 20: \n",
    "    print(\"x is between -20 and 20 inclusive.\")\n",
    "\n",
    "# 2. write a conditional statement to test if x is in the list x_values (1 pt)\n",
    "x = 5\n",
    "x_values = [-5, 8, 10]\n",
    "if x in x_values:\n",
    "    print(\"x is in the list of x_values. \")\n",
    "\n",
    "# 3. write an if statement to print 'x is big' if x is larger than 10 (1 pt)\n",
    "x = 15\n",
    "if x > 10:\n",
    "    print(\"x is big\")\n",
    "\n",
    "# 4. write an if-elif chain to print a message if the first letter of a word\n",
    "# starts with an a, b, or c, otherwise print 'the word doesn't start with a, b, or c' (3 pts)\n",
    "word = 'car' # expected output     'the word begins with a c'\n",
    "word = 'zanzabar' #expected output 'the word doesn't start with a, b, or c'\n",
    "if 'a' in word[0]:\n",
    "    print(\"'a' is in the word\")\n",
    "elif 'b' in word[0]:\n",
    "    print(\"'b' is in the word\")\n",
    "elif 'c' in word[0]:\n",
    "    print(\"'c' is in the word\")\n",
    "else: \n",
    "    print(\"the word doesn't start with a, b, or c\")\n",
    "\n",
    "# 5. write code to test if x, y or their sum is at least 5. Simply print 'yes' or 'no'. (2 pts)\n",
    "# x=4, y=2   'yes'\n",
    "# x=8, y=-10 'yes'\n",
    "# x=0, y=4   'no'\n",
    "x=4\n",
    "y=4\n",
    "if (x >= 5) or (y >= 5) or (x+y >= 5):\n",
    "    print('yes')\n",
    "else:\n",
    "    print('no')"
   ]
  },
  {
   "cell_type": "code",
   "execution_count": null,
   "id": "7398fe8e",
   "metadata": {},
   "outputs": [],
   "source": []
  }
 ],
 "metadata": {
  "kernelspec": {
   "display_name": "Python 3 (ipykernel)",
   "language": "python",
   "name": "python3"
  },
  "language_info": {
   "codemirror_mode": {
    "name": "ipython",
    "version": 3
   },
   "file_extension": ".py",
   "mimetype": "text/x-python",
   "name": "python",
   "nbconvert_exporter": "python",
   "pygments_lexer": "ipython3",
   "version": "3.11.4"
  }
 },
 "nbformat": 4,
 "nbformat_minor": 5
}
