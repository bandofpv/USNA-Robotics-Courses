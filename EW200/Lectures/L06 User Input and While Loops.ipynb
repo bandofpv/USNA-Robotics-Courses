{
 "cells": [
  {
   "cell_type": "markdown",
   "id": "874397ba",
   "metadata": {},
   "source": [
    "<img src=\"https://www.usna.edu/WRC/_files/WRClogos/WRCE-logo-combined-01-crop.png\" width=\"200px\">\n",
    "\n",
    "# User Input and While Loops (Chapter 7)"
   ]
  },
  {
   "cell_type": "markdown",
   "id": "aeeb762b",
   "metadata": {},
   "source": [
    "The `input()` function pauses your program and waits for the user to provide text input. Once the user presses `Enter` then the text is assigned to a variable as a string datatype. If value should be a number is must be explicitly converted using the `int()` or `float()` functions."
   ]
  },
  {
   "cell_type": "code",
   "execution_count": 3,
   "id": "55f6968e",
   "metadata": {},
   "outputs": [
    {
     "name": "stdout",
     "output_type": "stream",
     "text": [
      "Please enter your name: Andrew\n",
      "\n",
      "Hello, Andrew!\n"
     ]
    }
   ],
   "source": [
    "name = input(\"Please enter your name: \")\n",
    "print(f\"\\nHello, {name}!\")"
   ]
  },
  {
   "cell_type": "code",
   "execution_count": 2,
   "id": "b28ccd76",
   "metadata": {},
   "outputs": [
    {
     "name": "stdout",
     "output_type": "stream",
     "text": [
      "Enter the number of students in the section: 32\n",
      "32\n"
     ]
    },
    {
     "ename": "TypeError",
     "evalue": "'>' not supported between instances of 'str' and 'int'",
     "output_type": "error",
     "traceback": [
      "\u001b[1;31m---------------------------------------------------------------------------\u001b[0m",
      "\u001b[1;31mTypeError\u001b[0m                                 Traceback (most recent call last)",
      "Cell \u001b[1;32mIn[2], line 4\u001b[0m\n\u001b[0;32m      2\u001b[0m \u001b[38;5;28mprint\u001b[39m(section_size)\n\u001b[0;32m      3\u001b[0m \u001b[38;5;66;03m# This causes an error because section_size is a string\u001b[39;00m\n\u001b[1;32m----> 4\u001b[0m \u001b[38;5;28;01mif\u001b[39;00m section_size \u001b[38;5;241m>\u001b[39m \u001b[38;5;241m20\u001b[39m:\n\u001b[0;32m      5\u001b[0m     \u001b[38;5;28mprint\u001b[39m(\u001b[38;5;124m\"\u001b[39m\u001b[38;5;124mThat is a big section!\u001b[39m\u001b[38;5;124m\"\u001b[39m)\n",
      "\u001b[1;31mTypeError\u001b[0m: '>' not supported between instances of 'str' and 'int'"
     ]
    }
   ],
   "source": [
    "section_size = input(\"Enter the number of students in the section: \")\n",
    "print(section_size)\n",
    "# This causes an error because section_size is a string\n",
    "if section_size > 20:\n",
    "    print(\"That is a big section!\")"
   ]
  },
  {
   "cell_type": "code",
   "execution_count": 4,
   "id": "9091bc16",
   "metadata": {},
   "outputs": [
    {
     "name": "stdout",
     "output_type": "stream",
     "text": [
      "Enter the number of students in the section: 31\n",
      "<class 'str'>\n",
      "<class 'int'>\n",
      "That is a big section!\n"
     ]
    }
   ],
   "source": [
    "section_size = input(\"Enter the number of students in the section: \")\n",
    "print(type(section_size))\n",
    "# convert the variable to an integer\n",
    "numeric_section_size = int(section_size)\n",
    "print(type(numeric_section_size))\n",
    "# This works now\n",
    "if numeric_section_size > 20:\n",
    "    print(\"That is a big section!\")"
   ]
  },
  {
   "cell_type": "code",
   "execution_count": 8,
   "id": "779a1528",
   "metadata": {},
   "outputs": [
    {
     "name": "stdout",
     "output_type": "stream",
     "text": [
      "Enter your numeric exam grade: 96.4\n"
     ]
    },
    {
     "ename": "ValueError",
     "evalue": "invalid literal for int() with base 10: '96.4'",
     "output_type": "error",
     "traceback": [
      "\u001b[1;31m---------------------------------------------------------------------------\u001b[0m",
      "\u001b[1;31mValueError\u001b[0m                                Traceback (most recent call last)",
      "Cell \u001b[1;32mIn[8], line 2\u001b[0m\n\u001b[0;32m      1\u001b[0m exam_grade \u001b[38;5;241m=\u001b[39m \u001b[38;5;28minput\u001b[39m(\u001b[38;5;124m\"\u001b[39m\u001b[38;5;124mEnter your numeric exam grade: \u001b[39m\u001b[38;5;124m\"\u001b[39m)\n\u001b[1;32m----> 2\u001b[0m numeric_grade \u001b[38;5;241m=\u001b[39m \u001b[38;5;28mint\u001b[39m(exam_grade) \u001b[38;5;66;03m# works for integers, but what if you enter a decimal?\u001b[39;00m\n\u001b[0;32m      3\u001b[0m \u001b[38;5;28;01mif\u001b[39;00m numeric_grade \u001b[38;5;241m>\u001b[39m \u001b[38;5;241m90\u001b[39m:\n\u001b[0;32m      4\u001b[0m     \u001b[38;5;28mprint\u001b[39m(\u001b[38;5;124m\"\u001b[39m\u001b[38;5;124mYou got an A!\u001b[39m\u001b[38;5;124m\"\u001b[39m)\n",
      "\u001b[1;31mValueError\u001b[0m: invalid literal for int() with base 10: '96.4'"
     ]
    }
   ],
   "source": [
    "exam_grade = input(\"Enter your numeric exam grade: \")\n",
    "numeric_grade = int(exam_grade) # works for integers, but what if you enter a decimal?\n",
    "if numeric_grade > 90:\n",
    "    print(\"You got an A!\")"
   ]
  },
  {
   "cell_type": "code",
   "execution_count": 7,
   "id": "c4e23193",
   "metadata": {},
   "outputs": [
    {
     "name": "stdout",
     "output_type": "stream",
     "text": [
      "Enter your numeric exam grade: 94.3\n",
      "You got an A!\n"
     ]
    }
   ],
   "source": [
    "exam_grade = input(\"Enter your numeric exam grade: \")\n",
    "numeric_grade = float(exam_grade) # float handles decimal values\n",
    "if numeric_grade > 90:\n",
    "    print(\"You got an A!\")"
   ]
  },
  {
   "cell_type": "code",
   "execution_count": 3,
   "id": "ca02c8c1",
   "metadata": {},
   "outputs": [
    {
     "name": "stdout",
     "output_type": "stream",
     "text": [
      "Enter your first grade: 96.1\n",
      "Enter your second grade: 60.5\n",
      "Your average grade is: 78.3\n"
     ]
    }
   ],
   "source": [
    "#TODO Ask a user for 2 grades and caluculate their average grade\n",
    "grade1 = input(\"Enter your first grade: \")\n",
    "grade2 = input(\"Enter your second grade: \")\n",
    "avg_grade = (float(grade1) + float(grade2)) / 2\n",
    "print(f\"Your average grade is: {avg_grade}\")"
   ]
  },
  {
   "cell_type": "code",
   "execution_count": 4,
   "id": "a18d43ad",
   "metadata": {},
   "outputs": [
    {
     "name": "stdout",
     "output_type": "stream",
     "text": [
      "Input a grade: 90\n",
      "Input a grade: 13\n",
      "Input a grade: q\n",
      "Your average grade is: 51.5\n"
     ]
    }
   ],
   "source": [
    "# now calculate average with unlimited grades\n",
    "g_list = []\n",
    "while True: \n",
    "    # take a grade\n",
    "    g = input(\"Input a grade (q to quit): \")\n",
    "    \n",
    "    # decide if it's time to break this loop\n",
    "    if g == 'q':\n",
    "        break\n",
    "    \n",
    "    # turn it to a float\n",
    "    g = float(g)\n",
    "    \n",
    "    # add it to a list\n",
    "    g_list.append(g)\n",
    "    \n",
    "# calculate the avg\n",
    "g_sum = sum(g_list)\n",
    "g_avg = g_sum / len(g_list)\n",
    "\n",
    "# print the avg\n",
    "print(f\"Your average grade is: {g_avg}\")"
   ]
  },
  {
   "cell_type": "markdown",
   "id": "094f43c7",
   "metadata": {},
   "source": [
    " **Modulo Operator:** returns the remainder of integer division"
   ]
  },
  {
   "cell_type": "code",
   "execution_count": 10,
   "id": "0771457f",
   "metadata": {},
   "outputs": [
    {
     "name": "stdout",
     "output_type": "stream",
     "text": [
      "Enter a number and I'll tell you if it's even or odd: 5\n",
      "\n",
      "The number 5 is odd.\n"
     ]
    }
   ],
   "source": [
    "number = input(\"Enter a number and I'll tell you if it's even or odd: \")\n",
    "number = int(number)\n",
    "if number % 2 == 0:\n",
    "    print(f\"\\nThe number {number} is even.\")\n",
    "else:\n",
    "    print(f\"\\nThe number {number} is odd.\")"
   ]
  },
  {
   "cell_type": "markdown",
   "id": "68f4a983",
   "metadata": {},
   "source": [
    "### While Loops"
   ]
  },
  {
   "cell_type": "markdown",
   "id": "aa74dbfa",
   "metadata": {},
   "source": [
    "The `for` loop takes a collection of items and executes a block of code once for each item in the collection. In contrast, the `while` loop runs as long as, or *while*, a certain condition is true."
   ]
  },
  {
   "cell_type": "code",
   "execution_count": 11,
   "id": "acf8bc3e",
   "metadata": {},
   "outputs": [
    {
     "name": "stdout",
     "output_type": "stream",
     "text": [
      "Type 'quit' to end the program: no\n",
      "\tLooks like you want to go around again!\n",
      "Type 'quit' to end the program: ok\n",
      "\tLooks like you want to go around again!\n",
      "Type 'quit' to end the program: quit\n"
     ]
    }
   ],
   "source": [
    "# letting the user choose when to quit\n",
    "\n",
    "message = \"\" # initialize message before the while loop\n",
    "while message != 'quit':\n",
    "    message = input(\"Type 'quit' to end the program: \")\n",
    "    if message != 'quit':\n",
    "        print(\"\\tLooks like you want to go around again!\")"
   ]
  },
  {
   "cell_type": "code",
   "execution_count": 21,
   "id": "539935ca",
   "metadata": {},
   "outputs": [
    {
     "name": "stdout",
     "output_type": "stream",
     "text": [
      "Type 'quit' to end the program: test\n",
      "test\n",
      "Type 'quit' to end the program: quit\n"
     ]
    }
   ],
   "source": [
    "# using a flag to exit a loop\n",
    "active = True\n",
    "while active:\n",
    "    message = input(\"Type 'quit' to end the program: \")\n",
    "    if message == 'quit':\n",
    "        active = False\n",
    "    else:\n",
    "        print(message)"
   ]
  },
  {
   "cell_type": "code",
   "execution_count": 22,
   "id": "fb6cdb6f",
   "metadata": {},
   "outputs": [
    {
     "name": "stdout",
     "output_type": "stream",
     "text": [
      "Type 'quit' to end the program: test\n",
      "test\n",
      "Type 'quit' to end the program: quit\n"
     ]
    }
   ],
   "source": [
    "# using break to exit a loop\n",
    "while True:\n",
    "    message = input(\"Type 'quit' to end the program: \")\n",
    "    if message == 'quit':\n",
    "        break\n",
    "    print(message) # no need to put inside an else clause"
   ]
  },
  {
   "cell_type": "code",
   "execution_count": 8,
   "id": "2a7529d3",
   "metadata": {},
   "outputs": [
    {
     "name": "stdout",
     "output_type": "stream",
     "text": [
      "1\n",
      "3\n",
      "5\n",
      "7\n",
      "9\n"
     ]
    }
   ],
   "source": [
    "# using continue in a loop\n",
    "current_number = 0\n",
    "while current_number < 10:\n",
    "    current_number += 1\n",
    "    if current_number %2 == 0:\n",
    "        continue # skip back to top, do not print even numbers\n",
    "        \n",
    "    print(current_number)\n",
    "    "
   ]
  },
  {
   "cell_type": "code",
   "execution_count": null,
   "id": "f75b70b3",
   "metadata": {},
   "outputs": [],
   "source": [
    "# avoiding infinite loops (press stop in the toolbar)\n",
    "x = 1\n",
    "while x<=5:\n",
    "    print(x) # x never changes so this loop runs forever"
   ]
  },
  {
   "cell_type": "markdown",
   "id": "8ec5a78f",
   "metadata": {},
   "source": [
    "### Using `while` loops with lists and dictionaries"
   ]
  },
  {
   "cell_type": "code",
   "execution_count": 26,
   "id": "1491b0e5",
   "metadata": {},
   "outputs": [
    {
     "name": "stdout",
     "output_type": "stream",
     "text": [
      "Verifying user: Candace\n",
      "Verifying user: Brian\n",
      "Verifying user: Alice\n",
      "\n",
      "The following users have been confirmed:\n",
      "Candace\n",
      "Brian\n",
      "Alice\n"
     ]
    }
   ],
   "source": [
    "# moving items from one list to another\n",
    "\n",
    "# Start with users that need to be verified, \n",
    "#  and an empty list to hold confirmed users.\n",
    "unconfirmed_users = ['alice', 'brian', 'candace']\n",
    "confirmed_users = []\n",
    "\n",
    "# Verify each user until there are no more unconfirmed users.\n",
    "#  Move each verified user into the list of confirmed users.\n",
    "while unconfirmed_users:\n",
    "    current_user = unconfirmed_users.pop()\n",
    "    \n",
    "    print(f\"Verifying user: {current_user.title()}\")\n",
    "    confirmed_users.append(current_user)\n",
    "    \n",
    "# Display all confirmed users.\n",
    "print(\"\\nThe following users have been confirmed:\")\n",
    "for confirmed_user in confirmed_users:\n",
    "    print(confirmed_user.title())"
   ]
  },
  {
   "cell_type": "code",
   "execution_count": 27,
   "id": "0d2c45a0",
   "metadata": {},
   "outputs": [
    {
     "name": "stdout",
     "output_type": "stream",
     "text": [
      "['dog', 'cat', 'dog', 'goldfish', 'cat', 'rabbit', 'cat']\n",
      "['dog', 'dog', 'goldfish', 'rabbit']\n"
     ]
    }
   ],
   "source": [
    "# removing all instances of specific values from a list\n",
    "pets = ['dog', 'cat', 'dog', 'goldfish', 'cat', 'rabbit', 'cat']\n",
    "print(pets)\n",
    "\n",
    "while 'cat' in pets:\n",
    "    pets.remove('cat')\n",
    "    \n",
    "print(pets)"
   ]
  },
  {
   "cell_type": "code",
   "execution_count": 14,
   "id": "625d7c46",
   "metadata": {},
   "outputs": [
    {
     "name": "stdout",
     "output_type": "stream",
     "text": [
      "\n",
      "What is your name? Andrew\n",
      "Which mountain would you like to climb someday? Everest\n",
      "Would you like to let another person respond? (yes/ no) yes\n",
      "\n",
      "What is your name? Dug\n",
      "Which mountain would you like to climb someday? idk\n",
      "Would you like to let another person respond? (yes/ no) n\n",
      "\n",
      "What is your name? no\n",
      "Which mountain would you like to climb someday? no\n",
      "Would you like to let another person respond? (yes/ no) no\n",
      "\n",
      "--- Poll Results ---\n",
      "Andrew would like to climb Everest.\n",
      "Dug would like to climb idk.\n",
      "no would like to climb no.\n"
     ]
    }
   ],
   "source": [
    "# Filling a dictionary with user input\n",
    "\n",
    "responses = {}\n",
    "\n",
    "# Set a flag to indicate that polling is active.\n",
    "polling_active = True\n",
    "\n",
    "while polling_active:\n",
    "    # Prompt for the person's name and response.\n",
    "    name = input(\"\\nWhat is your name? \")\n",
    "    response = input(\"Which mountain would you like to climb someday? \")\n",
    "    \n",
    "    # Store the response in the dictionary.\n",
    "    responses[name] = response\n",
    "    \n",
    "    # Find out if anyone else is going to take the poll.\n",
    "    repeat = input(\"Would you like to let another person respond? (yes/ no) \")\n",
    "    if repeat == 'no':\n",
    "        polling_active = False\n",
    "        \n",
    "# Polling is complete. Show the results.\n",
    "print(\"\\n--- Poll Results ---\")\n",
    "for name, response in responses.items():\n",
    "    print(f\"{name} would like to climb {response}.\")"
   ]
  },
  {
   "cell_type": "markdown",
   "id": "20e482ab",
   "metadata": {},
   "source": [
    "-----\n",
    "\n",
    "## Homework Problems"
   ]
  },
  {
   "cell_type": "markdown",
   "id": "a2eeddc0",
   "metadata": {},
   "source": [
    "**7-1. Rental Car:** Write a program that asks the user what kind of rental car they would like. Print a message about that car, such as \"Let me see if I can find you a Subaru.\""
   ]
  },
  {
   "cell_type": "code",
   "execution_count": 16,
   "id": "36700fb3",
   "metadata": {},
   "outputs": [
    {
     "name": "stdout",
     "output_type": "stream",
     "text": [
      "Hello! Please enter what kind of car you would like to rent: Subaru\n",
      "Let me see if I can find you a Subaru.\n"
     ]
    }
   ],
   "source": [
    "car = input(\"Hello! Please enter what kind of car you would like to rent: \")\n",
    "print(f\"Let me see if I can find you a {car}.\")"
   ]
  },
  {
   "cell_type": "markdown",
   "id": "720aa54f",
   "metadata": {},
   "source": [
    "**7-2. Restaurant Seating:** Write a program that asks the user how many people are in their dinner group. If the answer is more than eight, print a message saying they'll have to wait for a table. Otherwise, report that their table is ready."
   ]
  },
  {
   "cell_type": "code",
   "execution_count": 18,
   "id": "bbb92c18",
   "metadata": {},
   "outputs": [
    {
     "name": "stdout",
     "output_type": "stream",
     "text": [
      "Hello! Please enter how many people are in your dinner group: 10\n",
      "Sorry, you will have to wait for a table.\n"
     ]
    }
   ],
   "source": [
    "people = input(\"Hello! Please enter how many people are in your dinner group: \")\n",
    "if int(people) > 8:\n",
    "    print(\"Sorry, you will have to wait for a table.\")\n",
    "    \n",
    "else:\n",
    "    print(\"Your table is ready!\")"
   ]
  },
  {
   "cell_type": "markdown",
   "id": "8455e271",
   "metadata": {},
   "source": [
    "**7-3. Multiple of Ten:** Ask the user for a number, and then report whether the number is a multiple of 10 or not."
   ]
  },
  {
   "cell_type": "code",
   "execution_count": 20,
   "id": "e5122e85",
   "metadata": {},
   "outputs": [
    {
     "name": "stdout",
     "output_type": "stream",
     "text": [
      "Please enter a number: 100\n",
      "100, is a multipule of 10.\n"
     ]
    }
   ],
   "source": [
    "number = input(\"Please enter a number: \")\n",
    "if float(number) % 10 == 0: \n",
    "    print(f\"{number}, is a multipule of 10.\")\n",
    "\n",
    "else:\n",
    "    print(f\"{number}, is not a multipule of 10.\")"
   ]
  },
  {
   "cell_type": "markdown",
   "id": "9b79f698",
   "metadata": {},
   "source": [
    "**7-4. Pizza Toppings:** Write a loop that prompts the user to enter a series of pizza toppings until they enter a `'quit'` value. As they enter each topping, print a message saying you'll add that topping to their pizza."
   ]
  },
  {
   "cell_type": "code",
   "execution_count": 22,
   "id": "f2e56951",
   "metadata": {},
   "outputs": [
    {
     "name": "stdout",
     "output_type": "stream",
     "text": [
      "Please enter a pizza topping (type 'quit' if done): meat\n",
      "Thank you. We will add meat to your pizza.\n",
      "Please enter a pizza topping (type 'quit' if done): peppers\n",
      "Thank you. We will add peppers to your pizza.\n",
      "Please enter a pizza topping (type 'quit' if done): quit\n"
     ]
    }
   ],
   "source": [
    "while True: \n",
    "    topping = input(\"Please enter a pizza topping (type 'quit' if done): \")\n",
    "    \n",
    "    if topping == 'quit':\n",
    "        break\n",
    "    \n",
    "    print(f\"Thank you. We will add {topping} to your pizza.\")"
   ]
  },
  {
   "cell_type": "markdown",
   "id": "29d6674b",
   "metadata": {},
   "source": [
    "**7-5. Movie Tickets:** A movie theater charges different ticket prices depending on a person's age. If a person is under the age of 3, the ticket is free; if they are between 3 and 12, the ticket is \\\\$10; and if they are over age 12, the ticket is \\\\$15. Write a loop in which you ask users their age, and then tell them the cost of their movie ticket."
   ]
  },
  {
   "cell_type": "code",
   "execution_count": 24,
   "id": "2fe6ba54",
   "metadata": {},
   "outputs": [
    {
     "name": "stdout",
     "output_type": "stream",
     "text": [
      "Input your age (type 'quit' to cancel): 2\n",
      "Your ticket is free.\n",
      "Input your age (type 'quit' to cancel): 10\n",
      "Your ticket is $10.\n",
      "Input your age (type 'quit' to cancel): 65\n",
      "Your ticket is $15.\n",
      "Input your age (type 'quit' to cancel): quit\n"
     ]
    }
   ],
   "source": [
    "while True: \n",
    "    age = input(\"Input your age (type 'quit' to cancel): \")\n",
    "    if age == 'quit':\n",
    "        break\n",
    "    elif int(age) < 3:\n",
    "        print(\"Your ticket is free.\")\n",
    "    elif 3 < int(age) < 12:\n",
    "        print(\"Your ticket is $10.\")\n",
    "    else: \n",
    "        print(\"Your ticket is $15.\")"
   ]
  },
  {
   "cell_type": "markdown",
   "id": "9e526279",
   "metadata": {},
   "source": [
    "**7-6. Three Exits:** Write different versions of either Exercise 7-4 or Exercise 7-5 that do each of the following at least once:\n",
    "* Use a conditional test in the `while` statement to stop the loop.\n",
    "* Use an active variable to control how long the loop runs.\n",
    "* Use a `break` statement to ext the loop when the user enters a `'quit'` value."
   ]
  },
  {
   "cell_type": "code",
   "execution_count": 28,
   "id": "92715e7e",
   "metadata": {},
   "outputs": [
    {
     "name": "stdout",
     "output_type": "stream",
     "text": [
      "Please enter a pizza topping (type 'quit' if done): meat\n",
      "Thank you. We will add meat to your pizza.\n",
      "Please enter a pizza topping (type 'quit' if done): quit\n",
      "Please enter a pizza topping (type 'quit' if done): peppers\n",
      "Thank you. We will add peppers to your pizza.\n",
      "Please enter a pizza topping (type 'quit' if done): quit\n",
      "Please enter a pizza topping (type 'quit' if done): onions\n",
      "Thank you. We will add onions to your pizza.\n",
      "Please enter a pizza topping (type 'quit' if done): quit\n"
     ]
    }
   ],
   "source": [
    "topping = ''\n",
    "\n",
    "while topping != 'quit': \n",
    "    topping = input(\"Please enter a pizza topping (type 'quit' if done): \")\n",
    "    \n",
    "    if topping == 'quit':\n",
    "        continue\n",
    "    \n",
    "    print(f\"Thank you. We will add {topping} to your pizza.\")\n",
    "    \n",
    "print(\"\\n\")\n",
    "active = True    \n",
    "\n",
    "while active: \n",
    "    topping = input(\"Please enter a pizza topping (type 'quit' if done): \")\n",
    "    \n",
    "    if topping == 'quit':\n",
    "        active = False\n",
    "        continue\n",
    "    \n",
    "    print(f\"Thank you. We will add {topping} to your pizza.\")\n",
    "    \n",
    "print(\"\\n\")\n",
    "\n",
    "while True: \n",
    "    topping = input(\"Please enter a pizza topping (type 'quit' if done): \")\n",
    "    \n",
    "    if topping == 'quit':\n",
    "        break\n",
    "    \n",
    "    print(f\"Thank you. We will add {topping} to your pizza.\")"
   ]
  },
  {
   "cell_type": "markdown",
   "id": "288cfd14",
   "metadata": {},
   "source": [
    "**7-7. Infinity:** Write a loop that never ends, and run it. To stop the loop, press the black square (stop) button on the top toolbar."
   ]
  },
  {
   "cell_type": "code",
   "execution_count": 30,
   "id": "9ab83565",
   "metadata": {},
   "outputs": [
    {
     "ename": "KeyboardInterrupt",
     "evalue": "",
     "output_type": "error",
     "traceback": [
      "\u001b[1;31m---------------------------------------------------------------------------\u001b[0m",
      "\u001b[1;31mKeyboardInterrupt\u001b[0m                         Traceback (most recent call last)",
      "Cell \u001b[1;32mIn[30], line 2\u001b[0m\n\u001b[0;32m      1\u001b[0m \u001b[38;5;28;01mwhile\u001b[39;00m \u001b[38;5;28;01mTrue\u001b[39;00m:\n\u001b[1;32m----> 2\u001b[0m     \u001b[38;5;28;01mcontinue\u001b[39;00m\n",
      "\u001b[1;31mKeyboardInterrupt\u001b[0m: "
     ]
    }
   ],
   "source": [
    "while True:\n",
    "    continue"
   ]
  },
  {
   "cell_type": "markdown",
   "id": "83eb0b0b",
   "metadata": {},
   "source": [
    "**7-8. Deli:** Make a list called `sandwich_orders` and fill it with the names of at least five sandwiches. Then make an empty list called `finished_sandwiches`. Loop through the list of sandwich orders and print a message for each order, such as \"I made your tuna sandwich\". As each sandwich is made, move it to the list of finished sandwiches. After all the sandwiches have been made, print a message listing each sandwich that was made."
   ]
  },
  {
   "cell_type": "code",
   "execution_count": 60,
   "id": "f4634957",
   "metadata": {},
   "outputs": [
    {
     "name": "stdout",
     "output_type": "stream",
     "text": [
      "I made your ham sandwich.\n",
      "I made your cheese sandwich.\n",
      "I made your pb&g sandwich.\n",
      "I made your blt sandwich.\n",
      "I made your bacon sandwich.\n",
      "\n",
      "The following sandwiches were made: ham, cheese, pb&g, blt, and bacon \n"
     ]
    }
   ],
   "source": [
    "sandwich_orders = ['bacon', 'blt', 'pb&g', 'cheese', 'ham']\n",
    "finished_sandwiches = []\n",
    "\n",
    "while sandwich_orders:\n",
    "    sandwich = sandwich_orders.pop()\n",
    "    print(f\"I made your {sandwich} sandwich.\")\n",
    "    finished_sandwiches.append(sandwich)\n",
    "\n",
    "print(f\"\\nThe following sandwiches were made: \", end = '')\n",
    "for sandwich in finished_sandwiches:\n",
    "    if sandwich != finished_sandwiches[len(finished_sandwiches)-1]:\n",
    "        print(f\"{sandwich}\", end = ', ')\n",
    "    else:\n",
    "        print(f\"and {sandwich} \")"
   ]
  },
  {
   "cell_type": "markdown",
   "id": "ffef5533",
   "metadata": {},
   "source": [
    "**7-9. No Pastrami:** Using the list `sandwich_orders` from Exercise 7-8, make sure the sandwich `'pastrami'` appears in the list at least three times. Add code near the beginning of your program to print a message saying the deli has run out of pastrami, and then use a `while` loop to remove all occurrences of `'pastrami'` from `sandwich_orders`. Make sure no pastrami sandwiches end up in `finished_sandwiches`"
   ]
  },
  {
   "cell_type": "code",
   "execution_count": 48,
   "id": "524622b8",
   "metadata": {},
   "outputs": [
    {
     "name": "stdout",
     "output_type": "stream",
     "text": [
      "Sorry, the deli has ran out of pastrami.\n",
      "I made your ham sandwich.\n",
      "I made your cheese sandwich.\n",
      "I made your pb&g sandwich.\n",
      "I made your blt sandwich.\n",
      "I made your bacon sandwich.\n",
      "The following sandwiches were made: ham, cheese, pb&g, blt, and bacon \n"
     ]
    }
   ],
   "source": [
    "sandwich_orders = ['bacon', 'blt', 'pb&g', 'pastrami', 'cheese', 'pastrami', 'ham', 'pastrami']\n",
    "finished_sandwiches = []\n",
    "\n",
    "print(\"Sorry, the deli has ran out of pastrami.\")\n",
    "while 'pastrami' in sandwich_orders:\n",
    "    sandwich_orders.remove('pastrami')\n",
    "\n",
    "while sandwich_orders:\n",
    "    sandwich = sandwich_orders.pop()\n",
    "    print(f\"I made your {sandwich} sandwich.\")\n",
    "    finished_sandwiches.append(sandwich)\n",
    "\n",
    "print(f\"The following sandwiches were made: \", end = '')\n",
    "for sandwich in finished_sandwiches:\n",
    "    if sandwich != finished_sandwiches[len(finished_sandwiches)-1]:\n",
    "        print(f\"{sandwich}\", end = ', ')\n",
    "    else:\n",
    "        print(f\"and {sandwich} \")"
   ]
  },
  {
   "cell_type": "markdown",
   "id": "704a97e6",
   "metadata": {},
   "source": [
    "**7-10. Dream Vacation:** Write a program that polls users about their dream vacation. Write a prompt similar to *If you could visit one place in the world, where would you go?* Include a block of code that prints the results of the poll."
   ]
  },
  {
   "cell_type": "code",
   "execution_count": 53,
   "id": "307ef030",
   "metadata": {},
   "outputs": [
    {
     "name": "stdout",
     "output_type": "stream",
     "text": [
      "Dream Vacation Poll:\n",
      "\n",
      "What is your name? Andrew\n",
      "If you could visit one place in the world, where would you go? costa rica\n",
      "Would you like to enter another response (yes/no)? yes\n",
      "\n",
      "What is your name? maeve\n",
      "If you could visit one place in the world, where would you go? hawaii\n",
      "Would you like to enter another response (yes/no)? no\n",
      "\n",
      "Poll Results: \n",
      "\n",
      "Andrew wants to visit Costa Rica\n",
      "Maeve wants to visit Hawaii\n"
     ]
    }
   ],
   "source": [
    "print(\"Dream Vacation Poll:\")\n",
    "\n",
    "vacation = {}\n",
    "\n",
    "while True:\n",
    "    name = input(\"\\nWhat is your name? \")\n",
    "    location = input(\"If you could visit one place in the world, where would you go? \")\n",
    "    \n",
    "    vacation[name] = location\n",
    "    \n",
    "    quit = input(\"Would you like to enter another response (yes/no)? \")\n",
    "    \n",
    "    if quit == 'no':\n",
    "        break\n",
    "\n",
    "print(\"\\nPoll Results: \\n\")\n",
    "for name, location in vacation.items():\n",
    "    print(f\"{name.title()} wants to visit {location.title()}\")"
   ]
  },
  {
   "cell_type": "code",
   "execution_count": null,
   "id": "247d1bb4",
   "metadata": {},
   "outputs": [],
   "source": []
  }
 ],
 "metadata": {
  "kernelspec": {
   "display_name": "Python 3 (ipykernel)",
   "language": "python",
   "name": "python3"
  },
  "language_info": {
   "codemirror_mode": {
    "name": "ipython",
    "version": 3
   },
   "file_extension": ".py",
   "mimetype": "text/x-python",
   "name": "python",
   "nbconvert_exporter": "python",
   "pygments_lexer": "ipython3",
   "version": "3.11.4"
  }
 },
 "nbformat": 4,
 "nbformat_minor": 5
}
