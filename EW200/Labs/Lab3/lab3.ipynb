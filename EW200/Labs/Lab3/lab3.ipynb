{
 "cells": [
  {
   "cell_type": "markdown",
   "id": "96c68cb0",
   "metadata": {},
   "source": [
    "<img src=\"https://www.usna.edu/WRC/_files/WRClogos/WRCE-logo-combined-01-crop.png\" width=\"200px\">\n",
    "\n",
    "# Lab 3\n",
    "\n",
    "### Colored LEDs"
   ]
  },
  {
   "cell_type": "code",
   "execution_count": null,
   "id": "f6c97f6d",
   "metadata": {},
   "outputs": [],
   "source": [
    "import analogio\n",
    "import pwmio\n",
    "import time\n",
    "from board import *\n",
    "\n",
    "# assign led and knob pins\n",
    "red_knob = analogio.AnalogIn(A0)\n",
    "red_light = pwmio.PWMOut(GP15)\n",
    "green_knob = analogio.AnalogIn(A1)\n",
    "green_light = pwmio.PWMOut(GP14)\n",
    "blue_knob = analogio.AnalogIn(A2)\n",
    "blue_light = pwmio.PWMOut(GP13)\n",
    "\n",
    "MAX = 2**16 - 1\n",
    "GAMMA = 3.0\n",
    "\n",
    "# function to convert knob value into led gamma corrected brightness\n",
    "def gamma_correction(value):\n",
    "    return int(((value / MAX) ** GAMMA) * MAX)\n",
    "\n",
    "while True: \n",
    "    # read knob value and calculate gamma corrected brightness\n",
    "    red_value = red_knob.value\n",
    "    red_gamma = gamma_correction(red_value)\n",
    "    green_value = green_knob.value\n",
    "    green_gamma = gamma_correction(green_value)\n",
    "    blue_value = blue_knob.value\n",
    "    blue_gamma = gamma_correction(blue_value)\n",
    "    \n",
    "    # set led brightness for each pin \n",
    "    red_light.duty_cycle = red_gamma\n",
    "    green_light.duty_cycle = green_gamma\n",
    "    blue_light.duty_cycle = blue_gamma\n",
    "    \n",
    "    time.sleep(0.05)"
   ]
  },
  {
   "cell_type": "markdown",
   "id": "f94fb95b",
   "metadata": {},
   "source": [
    "*Describe the behavior of the LED - can you replicate any color? How about black?*\n",
    "\n",
    "You can replicate almost any color because all colors are composed of Red, Green, and Blue. Unfortunatly you can't replicate black because that would require a value of zero for all three colors which would just be an off LED.\n",
    "\n",
    "### Random Colors"
   ]
  },
  {
   "cell_type": "code",
   "execution_count": null,
   "id": "f54e5d1d",
   "metadata": {},
   "outputs": [],
   "source": [
    "import analogio\n",
    "import pwmio\n",
    "import time\n",
    "from random import randint\n",
    "from board import *\n",
    "\n",
    "# assign led pins\n",
    "red_light = pwmio.PWMOut(GP15)\n",
    "green_light = pwmio.PWMOut(GP14)\n",
    "blue_light = pwmio.PWMOut(GP13)\n",
    "\n",
    "MAX = 2**16 - 1\n",
    "\n",
    "# generate random value between 0 and MAX \n",
    "def random_color():\n",
    "    return randint(0, MAX)\n",
    "\n",
    "while True: \n",
    "    # set led brightness to random value\n",
    "    red_light.duty_cycle = random_color()\n",
    "    green_light.duty_cycle = random_color()\n",
    "    blue_light.duty_cycle = random_color()\n",
    "    \n",
    "    time.sleep(1)"
   ]
  },
  {
   "cell_type": "markdown",
   "id": "1bc755a7",
   "metadata": {},
   "source": [
    "### Color Palettes"
   ]
  },
  {
   "cell_type": "code",
   "execution_count": 2,
   "id": "b04bed1e",
   "metadata": {},
   "outputs": [
    {
     "data": {
      "text/html": [
       "<svg  width=\"440\" height=\"55\"><rect x=\"0\" y=\"0\" width=\"55\" height=\"55\" style=\"fill:#db5f57;stroke-width:2;stroke:rgb(255,255,255)\"/><rect x=\"55\" y=\"0\" width=\"55\" height=\"55\" style=\"fill:#dbc257;stroke-width:2;stroke:rgb(255,255,255)\"/><rect x=\"110\" y=\"0\" width=\"55\" height=\"55\" style=\"fill:#91db57;stroke-width:2;stroke:rgb(255,255,255)\"/><rect x=\"165\" y=\"0\" width=\"55\" height=\"55\" style=\"fill:#57db80;stroke-width:2;stroke:rgb(255,255,255)\"/><rect x=\"220\" y=\"0\" width=\"55\" height=\"55\" style=\"fill:#57d3db;stroke-width:2;stroke:rgb(255,255,255)\"/><rect x=\"275\" y=\"0\" width=\"55\" height=\"55\" style=\"fill:#5770db;stroke-width:2;stroke:rgb(255,255,255)\"/><rect x=\"330\" y=\"0\" width=\"55\" height=\"55\" style=\"fill:#a157db;stroke-width:2;stroke:rgb(255,255,255)\"/><rect x=\"385\" y=\"0\" width=\"55\" height=\"55\" style=\"fill:#db57b2;stroke-width:2;stroke:rgb(255,255,255)\"/></svg>"
      ],
      "text/plain": [
       "[(0.86, 0.3712, 0.33999999999999997),\n",
       " (0.86, 0.7612000000000001, 0.33999999999999997),\n",
       " (0.5688000000000001, 0.86, 0.33999999999999997),\n",
       " (0.33999999999999997, 0.86, 0.5012000000000001),\n",
       " (0.33999999999999997, 0.8287999999999999, 0.86),\n",
       " (0.33999999999999997, 0.43879999999999986, 0.86),\n",
       " (0.6311999999999998, 0.33999999999999997, 0.86),\n",
       " (0.86, 0.33999999999999997, 0.6987999999999996)]"
      ]
     },
     "execution_count": 2,
     "metadata": {},
     "output_type": "execute_result"
    }
   ],
   "source": [
    "import seaborn as sns\n",
    "sns.color_palette(\"hls\", 8)"
   ]
  },
  {
   "cell_type": "code",
   "execution_count": 3,
   "id": "39d69561",
   "metadata": {},
   "outputs": [
    {
     "name": "stdout",
     "output_type": "stream",
     "text": [
      "[(0.86, 0.3712, 0.33999999999999997), (0.86, 0.7612000000000001, 0.33999999999999997), (0.5688000000000001, 0.86, 0.33999999999999997), (0.33999999999999997, 0.86, 0.5012000000000001), (0.33999999999999997, 0.8287999999999999, 0.86), (0.33999999999999997, 0.43879999999999986, 0.86), (0.6311999999999998, 0.33999999999999997, 0.86), (0.86, 0.33999999999999997, 0.6987999999999996)]\n"
     ]
    }
   ],
   "source": [
    "colors = sns.color_palette(\"hls\", 8)\n",
    "print(colors)"
   ]
  },
  {
   "cell_type": "code",
   "execution_count": null,
   "id": "02db5c80",
   "metadata": {},
   "outputs": [],
   "source": [
    "import analogio\n",
    "import pwmio\n",
    "import time\n",
    "from board import *\n",
    "\n",
    "# assign led pins\n",
    "red_light = pwmio.PWMOut(GP15)\n",
    "green_light = pwmio.PWMOut(GP14)\n",
    "blue_light = pwmio.PWMOut(GP13)\n",
    "\n",
    "MAX = 2**16 - 1\n",
    "GAMMA = 3.0\n",
    "\n",
    "# seaborn generated color palette\n",
    "color_palette = [(0.86, 0.3712, 0.33999999999999997), \n",
    "(0.86, 0.7612000000000001, 0.33999999999999997), \n",
    "(0.5688000000000001, 0.86, 0.33999999999999997), \n",
    "(0.33999999999999997, 0.86, 0.5012000000000001), \n",
    "(0.33999999999999997, 0.8287999999999999, 0.86), \n",
    "(0.33999999999999997, 0.43879999999999986, 0.86), \n",
    "(0.6311999999999998, 0.33999999999999997, 0.86), \n",
    "(0.86, 0.33999999999999997, 0.6987999999999996)]\n",
    "\n",
    "corrected_palette = []\n",
    "\n",
    "# convert color_palette list of tuples into a list of lists\n",
    "for x in color_palette: \n",
    "    corrected_color = []\n",
    "    for i in range(len(x)):\n",
    "        y = x[i]\n",
    "        # apply gamma correction \n",
    "        corrected_color.append(int((y ** GAMMA) * MAX))\n",
    "    corrected_palette.append(corrected_color)\n",
    "\n",
    "while True: \n",
    "    # cycle through color palette and set led brightness\n",
    "    for colors in corrected_palette:\n",
    "        red_light.duty_cycle = colors[0]\n",
    "        green_light.duty_cycle = colors[1]\n",
    "        blue_light.duty_cycle = colors[2]    \n",
    "\n",
    "        time.sleep(1)"
   ]
  },
  {
   "cell_type": "markdown",
   "id": "a52ad6dd",
   "metadata": {},
   "source": [
    "### Bonus: Frequency"
   ]
  },
  {
   "cell_type": "code",
   "execution_count": null,
   "id": "4d939860",
   "metadata": {},
   "outputs": [],
   "source": [
    "import analogio\n",
    "import pwmio\n",
    "import time\n",
    "from board import *\n",
    "\n",
    "# assign knob and led pins\n",
    "knob = analogio.AnalogIn(A0)\n",
    "red_light = pwmio.PWMOut(GP15)\n",
    "green_light = pwmio.PWMOut(GP14)\n",
    "blue_light = pwmio.PWMOut(GP13)\n",
    "\n",
    "MAX = 2**16 - 1\n",
    "GAMMA = 3.0\n",
    "\n",
    "# gamma correct knob value for frequency\n",
    "def frequency_correction(value):\n",
    "    return ((value / MAX) ** GAMMA)\n",
    "\n",
    "# seaborn generated color palette\n",
    "color_palette = [(0.86, 0.3712, 0.33999999999999997), \n",
    "(0.86, 0.7612000000000001, 0.33999999999999997), \n",
    "(0.5688000000000001, 0.86, 0.33999999999999997), \n",
    "(0.33999999999999997, 0.86, 0.5012000000000001), \n",
    "(0.33999999999999997, 0.8287999999999999, 0.86), \n",
    "(0.33999999999999997, 0.43879999999999986, 0.86), \n",
    "(0.6311999999999998, 0.33999999999999997, 0.86), \n",
    "(0.86, 0.33999999999999997, 0.6987999999999996)]\n",
    "\n",
    "corrected_palette = []\n",
    "\n",
    "# convert color_palette list of tuples into a list of lists\n",
    "for x in color_palette: \n",
    "    corrected_color = []\n",
    "    for i in range(len(x)):\n",
    "        y = x[i]\n",
    "        # apply gamma correction \n",
    "        corrected_color.append(int((y ** GAMMA) * MAX))\n",
    "    corrected_palette.append(corrected_color)\n",
    "\n",
    "print(corrected_palette)\n",
    "\n",
    "while True:\n",
    "    # cycle through color palette and set led brightness\n",
    "    for colors in corrected_palette:\n",
    "        value = knob.value\n",
    "        frequency = frequency_correction(value)\n",
    "        \n",
    "        red_light.duty_cycle = colors[0]\n",
    "        green_light.duty_cycle = colors[1]\n",
    "        blue_light.duty_cycle = colors[2]    \n",
    "        \n",
    "        # use sleep time to change frequency\n",
    "        time.sleep(frequency)"
   ]
  },
  {
   "cell_type": "markdown",
   "id": "baec2beb",
   "metadata": {},
   "source": [
    "### Bonus: Fading"
   ]
  },
  {
   "cell_type": "code",
   "execution_count": null,
   "id": "48d94037",
   "metadata": {},
   "outputs": [],
   "source": [
    "import analogio\n",
    "import pwmio\n",
    "import time\n",
    "from board import *\n",
    "\n",
    "red_light = pwmio.PWMOut(GP15)\n",
    "green_light = pwmio.PWMOut(GP14)\n",
    "blue_light = pwmio.PWMOut(GP13)\n",
    "\n",
    "MAX = 2**16 - 1\n",
    "GAMMA = 3.0\n",
    "\n",
    "def calc_increment(old, new):\n",
    "    if old < new:\n",
    "        return int(abs(old - new)/10)\n",
    "    else:\n",
    "        return -int(abs(old - new)/10)\n",
    "\n",
    "color_palette = [(0.86, 0.3712, 0.33999999999999997), \n",
    "(0.86, 0.7612000000000001, 0.33999999999999997), \n",
    "(0.5688000000000001, 0.86, 0.33999999999999997), \n",
    "(0.33999999999999997, 0.86, 0.5012000000000001), \n",
    "(0.33999999999999997, 0.8287999999999999, 0.86), \n",
    "(0.33999999999999997, 0.43879999999999986, 0.86), \n",
    "(0.6311999999999998, 0.33999999999999997, 0.86), \n",
    "(0.86, 0.33999999999999997, 0.6987999999999996),\n",
    "(0.86, 0.3712, 0.33999999999999997)]\n",
    "\n",
    "corrected_palette = []\n",
    "\n",
    "for x in color_palette: \n",
    "    corrected_color = []\n",
    "    for i in range(len(x)):\n",
    "        y = x[i]\n",
    "        corrected_color.append(int((y ** GAMMA) * MAX))\n",
    "    corrected_palette.append(corrected_color)\n",
    "\n",
    "while True: \n",
    "    for i in range(len(corrected_palette)-1):\n",
    "        red = corrected_palette[i][0]\n",
    "        red_new = corrected_palette[i+1][0]\n",
    "\n",
    "        blue = corrected_palette[i][1]\n",
    "        blue_new = corrected_palette[i+1][1]\n",
    "\n",
    "        green = corrected_palette[i][2]\n",
    "        green_new = corrected_palette[i+1][2]\n",
    "\n",
    "        for x in range(1,11):\n",
    "            red_light.duty_cycle = red + (x * calc_increment(red, red_new))\n",
    "            blue_light.duty_cycle = blue + (x * calc_increment(blue, blue_new))\n",
    "            green_light.duty_cycle = green + (x * calc_increment(green, green_new))\n",
    "            time.sleep(0.05)\n",
    "        time.sleep(0.5)"
   ]
  }
 ],
 "metadata": {
  "kernelspec": {
   "display_name": "Python 3 (ipykernel)",
   "language": "python",
   "name": "python3"
  },
  "language_info": {
   "codemirror_mode": {
    "name": "ipython",
    "version": 3
   },
   "file_extension": ".py",
   "mimetype": "text/x-python",
   "name": "python",
   "nbconvert_exporter": "python",
   "pygments_lexer": "ipython3",
   "version": "3.11.4"
  }
 },
 "nbformat": 4,
 "nbformat_minor": 5
}
