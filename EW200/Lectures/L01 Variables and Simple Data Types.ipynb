{
 "cells": [
  {
   "cell_type": "markdown",
   "id": "5365182e",
   "metadata": {},
   "source": [
    "<img src=\"https://www.usna.edu/WRC/_files/WRClogos/WRCE-logo-combined-01-crop.png\" width=\"200px\">\n",
    "\n",
    "# Variables and Simple Data Types (Chapter 2)"
   ]
  },
  {
   "cell_type": "code",
   "execution_count": 1,
   "id": "e3055412",
   "metadata": {},
   "outputs": [
    {
     "name": "stdout",
     "output_type": "stream",
     "text": [
      "14\n",
      "Alice\n",
      "<class 'int'>\n",
      "<class 'float'>\n",
      "this is a float --> 1.2234\n"
     ]
    }
   ],
   "source": [
    "# Examples of variables in Python\n",
    "x=4\n",
    "student=\"Alice\"\n",
    "my_favorite_prime_number = 14\n",
    "print(my_favorite_prime_number)\n",
    "print(student)\n",
    "\n",
    "# TODO declare three more variables below:\n",
    "number = 26\n",
    "longer_number = 1.2234\n",
    "a_name = \"Andrew\"\n",
    "\n",
    "# Print type of variable\n",
    "print(type(number))\n",
    "print(type(longer_number))\n",
    "\n",
    "# Need to convert the float into a string in order to concatinate with another string\n",
    "print(\"this is a float --> \" + str(longer_number))"
   ]
  },
  {
   "cell_type": "markdown",
   "id": "1b240342",
   "metadata": {},
   "source": [
    "Rules for naming variables:\n",
    "\n",
    "* Can contain only letters, numbers, and underscores. May not start with a number\n",
    "* No spaces, use underscores instead\n",
    "* Avoid built-in functions and keywords like ``input``, ``print``, ``for``, ``else``, etc\n",
    "* Names should be short but descriptive. Avoid single letter names (easy to forget what they mean).\n"
   ]
  },
  {
   "cell_type": "code",
   "execution_count": 2,
   "id": "f86b7639",
   "metadata": {},
   "outputs": [
    {
     "name": "stdout",
     "output_type": "stream",
     "text": [
      "500\n",
      "100100100100100\n"
     ]
    }
   ],
   "source": [
    "# TODO create variables to hold a student's first and last names and current grade. Name them appropriately.\n",
    "\n",
    "first_name = \"Andrew\"\n",
    "last_name = \"Bernas\"\n",
    "grade = 100\n",
    "print(grade * 5)\n",
    "\n",
    "# Note how you can't do math with Strings!\n",
    "new_grade = \"100\"\n",
    "print(new_grade * 5)"
   ]
  },
  {
   "cell_type": "markdown",
   "id": "90e0d116",
   "metadata": {},
   "source": [
    "----\n",
    "### Strings"
   ]
  },
  {
   "cell_type": "code",
   "execution_count": 3,
   "id": "1fb49d94",
   "metadata": {},
   "outputs": [
    {
     "name": "stdout",
     "output_type": "stream",
     "text": [
      "\"hello\"\n",
      "hello \"hi\" 'yes' \"no\"\n",
      "mom's marmalade\n",
      "MOM'S MARMALADE\n",
      "Tiny Teddy\n",
      "lower\n",
      "UPPER\n",
      "Lord Of The Rings\n"
     ]
    }
   ],
   "source": [
    "# strings are lists of characters enclosed by either \" or ' \n",
    "full_name = \"Alice Aardvark\"\n",
    "favorite_team = 'Antartic Antz'\n",
    "\n",
    "# use \" when you need a ' inside the string\n",
    "favorite_jam = \"Mom's Marmalade\"\n",
    "\n",
    "# use ' when you need a \" inside the string\n",
    "print('\"hello\"')\n",
    "\n",
    "# you can use triple quotes to have both single and double quotes\n",
    "print('''hello \"hi\" 'yes' \"no\"''')\n",
    "\n",
    "# several functions can be used to change the capitalization of a string\n",
    "print(favorite_jam.lower())\n",
    "\n",
    "print(favorite_jam.upper())\n",
    "\n",
    "student = 'tiny teddy'\n",
    "print(student.title())\n",
    "\n",
    "# TODO create three more strings and modify them using one of the capitalization functions\n",
    "make_me_lower_case = \"LOWER\"\n",
    "make_me_upper_case = \"upper\"\n",
    "make_me_a_title = \"lord of the rings\"\n",
    "\n",
    "print(make_me_lower_case.lower())\n",
    "print(make_me_upper_case.upper())\n",
    "\n",
    "# title makes first letter of each term capitalized\n",
    "print(make_me_a_title.title())"
   ]
  },
  {
   "cell_type": "markdown",
   "id": "789c91fd",
   "metadata": {},
   "source": [
    "Strings can be composed from variables. These are called *f-strings* or formatted strings"
   ]
  },
  {
   "cell_type": "code",
   "execution_count": 4,
   "id": "336ece84",
   "metadata": {},
   "outputs": [
    {
     "name": "stdout",
     "output_type": "stream",
     "text": [
      "Hello AliceNice to see you today\n",
      "Hello Alice its nice to see you today\n",
      "1 + 2 = 3\n"
     ]
    }
   ],
   "source": [
    "name = \"Alice\"\n",
    "one = 1\n",
    "two = 2\n",
    "\n",
    "# concatination... notice how you have to add spaces...\n",
    "print(\"Hello \" + name + \"Nice to see you today\")\n",
    "\n",
    "# f-strings allow you to insert variables into strings\n",
    "# insert variable between {}\n",
    "print(f\"Hello {name} its nice to see you today\")\n",
    "\n",
    "# you can also add varibles in an f-string\n",
    "print(f\"{one} + {two} = {one+two}\")"
   ]
  },
  {
   "cell_type": "code",
   "execution_count": 5,
   "id": "ecdfd12e",
   "metadata": {},
   "outputs": [
    {
     "name": "stdout",
     "output_type": "stream",
     "text": [
      "Hey Bob my favorite number is 10\n",
      "This will \n",
      "create a new line\n"
     ]
    }
   ],
   "source": [
    "name = 'Alice'\n",
    "\n",
    "# greeting is an f-string that uses name\n",
    "greeting = f\"Hello, my name is {name}\"\n",
    "\n",
    "friend = 'Bob'\n",
    "message = f\"Hello {friend}, my name is {name}\"\n",
    "\n",
    "# TODO compose a message to Bob telling him your favorite number\n",
    "favorite_number = 10\n",
    "print(f\"Hey {friend} my favorite number is {favorite_number}\")\n",
    "\n",
    "# you can create a new line with \\n\n",
    "print(\"This will \\ncreate a new line\")\n",
    "\n",
    "# \\t creates a tab and \\r repeats"
   ]
  },
  {
   "cell_type": "markdown",
   "id": "74f1265f",
   "metadata": {},
   "source": [
    "**Adding Whitespace** Strings can contain whitespace like tabs and newlines. These non-printing characters are written by using ``\\`` followed by a special character."
   ]
  },
  {
   "cell_type": "code",
   "execution_count": 6,
   "id": "b4ce998f",
   "metadata": {},
   "outputs": [
    {
     "name": "stdout",
     "output_type": "stream",
     "text": [
      "This is line 1\n",
      "This is line 2\n"
     ]
    }
   ],
   "source": [
    "multiline_message = \"This is line 1\\nThis is line 2\" # what if you add a space around the \\n?\n",
    "print(multiline_message)"
   ]
  },
  {
   "cell_type": "code",
   "execution_count": 7,
   "id": "0b49d564",
   "metadata": {},
   "outputs": [
    {
     "name": "stdout",
     "output_type": "stream",
     "text": [
      "Alice\tAardvark\n",
      "\n",
      "\n",
      "\n",
      "Alice\tAardvark\n",
      "Bill\tBobcat\n"
     ]
    }
   ],
   "source": [
    "indented_message = \"Alice\\tAardvark\"\n",
    "print(indented_message)\n",
    "\n",
    "print(\"\\n\\n\") # two empty lines\n",
    "\n",
    "student_roster = \"Alice\\tAardvark\\nBill\\tBobcat\"\n",
    "print(student_roster)"
   ]
  },
  {
   "cell_type": "markdown",
   "id": "99083bc0",
   "metadata": {},
   "source": [
    "**Stripping Whitespace** Whitespace can be removed from the beginning and/or end of a string using ``strip`` functions"
   ]
  },
  {
   "cell_type": "code",
   "execution_count": 8,
   "id": "682116c5",
   "metadata": {},
   "outputs": [
    {
     "name": "stdout",
     "output_type": "stream",
     "text": [
      "I love    ew200   !\n",
      "I love ew200   !\n",
      "I love    ew200!\n",
      "I love ew200!\n",
      "look at all this whitespace\n",
      "False\n",
      "True\n",
      "example\n"
     ]
    }
   ],
   "source": [
    "favorite_class = '   ew200   '\n",
    "print(f\"I love {favorite_class}!\")\n",
    "\n",
    "print(f\"I love {favorite_class.lstrip()}!\") # remove leading whitespace\n",
    "print(f\"I love {favorite_class.rstrip()}!\") # remove trailing whitespace\n",
    "print(f\"I love {favorite_class.strip()}!\")  # remove both leading and trailing whitespace\n",
    "\n",
    "# create a string with leading and trailing white space including \\n and \\t characters\n",
    "# then print it using each of the strip functions\n",
    "testing_strip = \"\\tlook at all this whitespace \\n\"\n",
    "print(testing_strip.strip())\n",
    "\n",
    "rachels_movie = 'forest gump'\n",
    "garrets_movie = \"Forest Gump    \"\n",
    "\n",
    "# == is a comparison for checking if two things are equal to each other\n",
    "print(rachels_movie == garrets_movie)\n",
    "print(rachels_movie.strip().lower() == garrets_movie.strip().lower())\n",
    "\n",
    "# strip can also remove characters\n",
    "website = 'www.example.com'\n",
    "print(website.strip(\"cmowz.\"))"
   ]
  },
  {
   "cell_type": "markdown",
   "id": "2e774d75",
   "metadata": {},
   "source": [
    "---\n",
    "### Numbers"
   ]
  },
  {
   "cell_type": "code",
   "execution_count": 9,
   "id": "6d01f2e0",
   "metadata": {},
   "outputs": [
    {
     "name": "stdout",
     "output_type": "stream",
     "text": [
      "4\n",
      "1\n",
      "40\n",
      "1.5\n",
      "22\n"
     ]
    }
   ],
   "source": [
    "# Python supports basic math operations\n",
    "print(2+2)\n",
    "print(3-2)\n",
    "print(8*5)\n",
    "print(3/2)\n",
    "\n",
    "# Note, don't have parenthesis or else it would print a string\n",
    "print(\"2\" + \"2\")"
   ]
  },
  {
   "cell_type": "code",
   "execution_count": 10,
   "id": "74f1e051",
   "metadata": {},
   "outputs": [
    {
     "name": "stdout",
     "output_type": "stream",
     "text": [
      "9\n"
     ]
    }
   ],
   "source": [
    "# Exponents use **\n",
    "print(3**2)"
   ]
  },
  {
   "cell_type": "markdown",
   "id": "c78ae13a",
   "metadata": {},
   "source": [
    "**WARNING!** Decimals are approximate- they may not give the exact answer, but this is not usually a problem"
   ]
  },
  {
   "cell_type": "code",
   "execution_count": 11,
   "id": "ab31c10c",
   "metadata": {},
   "outputs": [
    {
     "name": "stdout",
     "output_type": "stream",
     "text": [
      "0.30000000000000004\n",
      "0.30000000000000004\n",
      "The answer is 0.3\n"
     ]
    }
   ],
   "source": [
    "print(0.2+0.1)\n",
    "\n",
    "# you can fix the leading decimals with :.1\n",
    "answer = 0.2 + 0.1\n",
    "print(answer)\n",
    "print(f\"The answer is {answer:.1}\")"
   ]
  },
  {
   "cell_type": "markdown",
   "id": "a1724369",
   "metadata": {},
   "source": [
    "#### Math Functions"
   ]
  },
  {
   "cell_type": "code",
   "execution_count": 12,
   "id": "6feb24d4",
   "metadata": {},
   "outputs": [
    {
     "name": "stdout",
     "output_type": "stream",
     "text": [
      "pi=3.141592653589793\n",
      "\n",
      "sin(pi)=1.2246467991473532e-16\n",
      "cos(pi)=-1.0\n",
      "\n",
      "floor(2.16)=2\n",
      "3\n",
      "\n",
      "atan(1.0)=45.0\n"
     ]
    }
   ],
   "source": [
    "from math import sin, cos, pi, floor # add functions from the math package\n",
    "\n",
    "# math has constants like pi\n",
    "print(f\"pi={pi}\")\n",
    "\n",
    "# compute trig functions (should be 0)\n",
    "print(f\"\\nsin(pi)={sin(pi)}\")\n",
    "print(f\"cos(pi)={cos(pi)}\")\n",
    "\n",
    "\n",
    "# other useful functions \n",
    "# floor: rounds down to nearest whole number\n",
    "print(f\"\\nfloor(2.16)={floor(2.16)}\")\n",
    "\n",
    "# TODO import ceil, what do you think it does?\n",
    "from math import ceil\n",
    "print(ceil(2.16))\n",
    "\n",
    "# TODO what is the arctangent of 1.0 in degrees?\n",
    "from math import atan, degrees\n",
    "print(f\"\\natan(1.0)={atan(1.0)*180/pi}\")"
   ]
  },
  {
   "cell_type": "code",
   "execution_count": 13,
   "id": "ed04cd4d",
   "metadata": {},
   "outputs": [
    {
     "name": "stdout",
     "output_type": "stream",
     "text": [
      "1.2246467991473532e-16\n",
      "\n",
      "atan(1.0)=45.0\n"
     ]
    }
   ],
   "source": [
    "import math\n",
    "\n",
    "# if you just import math you have to call math to refer to different funtions: \n",
    "print(math.sin(pi))\n",
    "\n",
    "# converting radians to degrees function\n",
    "print(f\"\\natan(1.0)={math.degrees(atan(1.0))}\")"
   ]
  },
  {
   "cell_type": "code",
   "execution_count": 14,
   "id": "58b340fe",
   "metadata": {},
   "outputs": [
    {
     "name": "stdout",
     "output_type": "stream",
     "text": [
      "3.141592653589793\n"
     ]
    }
   ],
   "source": [
    "# you can import everything in a package \n",
    "# ONLY USE FOR PACKAGES WITH FEW FUNCTIONS\n",
    "from math import *\n",
    "print(pi)"
   ]
  },
  {
   "cell_type": "markdown",
   "id": "5c7454e2",
   "metadata": {},
   "source": [
    "------\n",
    "### Helpful Hints"
   ]
  },
  {
   "cell_type": "code",
   "execution_count": 15,
   "id": "ac340bd8",
   "metadata": {},
   "outputs": [
    {
     "name": "stdout",
     "output_type": "stream",
     "text": [
      "1000000000\n",
      "3\n",
      "9.81\n",
      "Don't forget to use comments in your code!\n"
     ]
    }
   ],
   "source": [
    "# use _ to group digits in large numbers \n",
    "# don't use commas!\n",
    "one_billion = 1_000_000_000\n",
    "print(one_billion)\n",
    "\n",
    "# multiple assignment can be used to initialize several variables at once\n",
    "a, b, c = 1, 2, 3\n",
    "print(c)\n",
    "\n",
    "# if a variable shouldn't change its value during your program use all capital letters\n",
    "# use all caps for variables that you want to stay constant\n",
    "GRAVITATIONAL_CONSTANT = 9.81\n",
    "print(GRAVITATIONAL_CONSTANT)\n",
    "\n",
    "# Use comments in your code to document your work, include citations, and make it easier to read\n",
    "print(\"Don't forget to use comments in your code!\")"
   ]
  },
  {
   "cell_type": "markdown",
   "id": "0d6f4116",
   "metadata": {},
   "source": [
    "-----\n",
    "\n",
    "## Homework Problems"
   ]
  },
  {
   "cell_type": "markdown",
   "id": "b7dadbdf",
   "metadata": {},
   "source": [
    "**2-1. Simple Message:** Assign a message to a variable and then print that message"
   ]
  },
  {
   "cell_type": "code",
   "execution_count": 16,
   "id": "b3caf7fe",
   "metadata": {},
   "outputs": [
    {
     "name": "stdout",
     "output_type": "stream",
     "text": [
      "this is a message created in python\n"
     ]
    }
   ],
   "source": [
    "message = \"this is a message created in python\"\n",
    "print(message)"
   ]
  },
  {
   "cell_type": "markdown",
   "id": "e12891f0",
   "metadata": {},
   "source": [
    "**2-2 Simple Messages:** Assign a message to a variable and then print that message. Then change the value of the variable to a new message, and print the new message"
   ]
  },
  {
   "cell_type": "code",
   "execution_count": 17,
   "id": "a8b22ab1",
   "metadata": {},
   "outputs": [
    {
     "name": "stdout",
     "output_type": "stream",
     "text": [
      "this is a message created in python\n",
      "i now changed the value of the message variable\n"
     ]
    }
   ],
   "source": [
    "message = \"this is a message created in python\"\n",
    "print(message)\n",
    "message = \"i now changed the value of the message variable\"\n",
    "print(message)"
   ]
  },
  {
   "cell_type": "markdown",
   "id": "9fe4fa59",
   "metadata": {},
   "source": [
    "**2-3. Personal Message:** Use a variable to represent a person's name, and print a message to that person. Your message should be simple, such as, \"Hello Eric, would you like to learn some Python today?\""
   ]
  },
  {
   "cell_type": "code",
   "execution_count": 18,
   "id": "629ded4c",
   "metadata": {},
   "outputs": [
    {
     "name": "stdout",
     "output_type": "stream",
     "text": [
      "Hello Andrew, how are you doing today?\n"
     ]
    }
   ],
   "source": [
    "# using f-strings!\n",
    "\n",
    "name = \"Andrew\"\n",
    "print(f\"Hello {name}, how are you doing today?\")"
   ]
  },
  {
   "cell_type": "markdown",
   "id": "4903316c",
   "metadata": {},
   "source": [
    "**2-4. Name Cases:** Use a variable to represent a person's name and then print that peron's name in lowercase, uppercase, and title case."
   ]
  },
  {
   "cell_type": "code",
   "execution_count": 19,
   "id": "ef97cfdd",
   "metadata": {},
   "outputs": [
    {
     "name": "stdout",
     "output_type": "stream",
     "text": [
      "lowercase: andrew \n",
      "uppercase: ANDREW \n",
      "title case: Andrew\n"
     ]
    }
   ],
   "source": [
    "name = \"aNdRew\"\n",
    "print(f\"lowercase: {name.lower()} \\nuppercase: {name.upper()} \\ntitle case: {name.title()}\")"
   ]
  },
  {
   "cell_type": "markdown",
   "id": "cc7e276f",
   "metadata": {},
   "source": [
    "**2-5. Famous Quote:** Find a quote from a famous person you admire. Print the quote and the name of its author. Your output should look somethink like the following, including quotation marks:\n",
    "\n",
    "        Albert Einstein once said, \"A person who never made a mistake never tried anything new\""
   ]
  },
  {
   "cell_type": "code",
   "execution_count": 20,
   "id": "a835b88a",
   "metadata": {},
   "outputs": [
    {
     "name": "stdout",
     "output_type": "stream",
     "text": [
      "Neil Armstrong once said, \"One small step for man, one giant leap for mankind\"\n"
     ]
    }
   ],
   "source": [
    "author = \"Neil Armstrong\"\n",
    "quote = \"One small step for man, one giant leap for mankind\"\n",
    "print(f'{author} once said, \"{quote}\"')"
   ]
  },
  {
   "cell_type": "markdown",
   "id": "2ad2400c",
   "metadata": {},
   "source": [
    "**2-6. Famous Quote 2:** Repeat Exercise 2-5, but this time, represent the famous person's name using a variable called ``famous_person``. Then compose your message and represent it with a new variable called ``message``. Print your message"
   ]
  },
  {
   "cell_type": "code",
   "execution_count": 21,
   "id": "0abcef1d",
   "metadata": {},
   "outputs": [
    {
     "name": "stdout",
     "output_type": "stream",
     "text": [
      "Neil Armstrong once said, \"One small step for man, one giant leap for mankind\"\n"
     ]
    }
   ],
   "source": [
    "famous_person = \"Neil Armstrong\"\n",
    "message = f'{famous_person} once said, \"One small step for man, one giant leap for mankind\"'\n",
    "print(message)"
   ]
  },
  {
   "cell_type": "markdown",
   "id": "95596c31",
   "metadata": {},
   "source": [
    "**2-7. Stripping Names:** Use a variable to represent a person's name, and include some whitespace characters at the beginning and end of the name. Make sure you use each character combination, \"\\t\" and \"\\n\", at least once. \n",
    "Print the name using each of the three stripping functions, ``lstrip()``, ``rstrip()``, and ``strip()``."
   ]
  },
  {
   "cell_type": "code",
   "execution_count": 22,
   "id": "4ff0c776",
   "metadata": {},
   "outputs": [
    {
     "name": "stdout",
     "output_type": "stream",
     "text": [
      "lstrip(): Andrew\n",
      " \n",
      "rstrip(): \tAndrew \n",
      "strip(): Andrew\n"
     ]
    }
   ],
   "source": [
    "name = \"\\tAndrew\\n\"\n",
    "print(f\"lstrip(): {name.lstrip()} \\nrstrip(): {name.rstrip()} \\nstrip(): {name.strip()}\")"
   ]
  },
  {
   "cell_type": "markdown",
   "id": "2604ec0b",
   "metadata": {},
   "source": [
    "**2-8. Number Eight:** Write addition, subtraction, multiplication, and division operations that each result in the number 8. Be sure to enclose your operations in ``print()`` calls to see the results. You should create four lines that look like this:\n",
    "\n",
    "        print(5+3)\n",
    "Your output should simply be four lines with the number 8 appearing once on each line."
   ]
  },
  {
   "cell_type": "code",
   "execution_count": 23,
   "id": "84c93573",
   "metadata": {},
   "outputs": [
    {
     "name": "stdout",
     "output_type": "stream",
     "text": [
      "8\n",
      "8\n",
      "8\n",
      "8\n"
     ]
    }
   ],
   "source": [
    "# demonstrating mathematical operations in python...\n",
    "\n",
    "print(4+4)\n",
    "print(10-2)\n",
    "print(4*2)\n",
    "print(int(8/1))"
   ]
  },
  {
   "cell_type": "markdown",
   "id": "15b077f9",
   "metadata": {},
   "source": [
    "**2-9. Favorite Number:** Use a variable to represent your favorite number. Then, using that variable, create a message that reveals your favorite number. Print that message."
   ]
  },
  {
   "cell_type": "code",
   "execution_count": 24,
   "id": "f08a4d2f",
   "metadata": {},
   "outputs": [
    {
     "name": "stdout",
     "output_type": "stream",
     "text": [
      "my favorite number is 1:\n"
     ]
    }
   ],
   "source": [
    "favorite_number = 1\n",
    "print(f\"my favorite number is {favorite_number}:\")"
   ]
  },
  {
   "cell_type": "markdown",
   "id": "4cb85d46",
   "metadata": {},
   "source": [
    "**2-10. Adding Comments:** Choose two of the previous problems and at at least one comment to each.\n",
    "\n",
    "**2-11. Zen of Python:** Enter ``import this`` and skim through the additional principles."
   ]
  },
  {
   "cell_type": "code",
   "execution_count": 25,
   "id": "bd3441fd",
   "metadata": {
    "scrolled": true
   },
   "outputs": [
    {
     "name": "stdout",
     "output_type": "stream",
     "text": [
      "The Zen of Python, by Tim Peters\n",
      "\n",
      "Beautiful is better than ugly.\n",
      "Explicit is better than implicit.\n",
      "Simple is better than complex.\n",
      "Complex is better than complicated.\n",
      "Flat is better than nested.\n",
      "Sparse is better than dense.\n",
      "Readability counts.\n",
      "Special cases aren't special enough to break the rules.\n",
      "Although practicality beats purity.\n",
      "Errors should never pass silently.\n",
      "Unless explicitly silenced.\n",
      "In the face of ambiguity, refuse the temptation to guess.\n",
      "There should be one-- and preferably only one --obvious way to do it.\n",
      "Although that way may not be obvious at first unless you're Dutch.\n",
      "Now is better than never.\n",
      "Although never is often better than *right* now.\n",
      "If the implementation is hard to explain, it's a bad idea.\n",
      "If the implementation is easy to explain, it may be a good idea.\n",
      "Namespaces are one honking great idea -- let's do more of those!\n"
     ]
    }
   ],
   "source": [
    "import this"
   ]
  }
 ],
 "metadata": {
  "kernelspec": {
   "display_name": "Python 3 (ipykernel)",
   "language": "python",
   "name": "python3"
  },
  "language_info": {
   "codemirror_mode": {
    "name": "ipython",
    "version": 3
   },
   "file_extension": ".py",
   "mimetype": "text/x-python",
   "name": "python",
   "nbconvert_exporter": "python",
   "pygments_lexer": "ipython3",
   "version": "3.11.4"
  }
 },
 "nbformat": 4,
 "nbformat_minor": 5
}
