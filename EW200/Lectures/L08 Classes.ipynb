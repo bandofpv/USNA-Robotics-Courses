{
 "cells": [
  {
   "cell_type": "markdown",
   "id": "874397ba",
   "metadata": {},
   "source": [
    "<img src=\"https://www.usna.edu/WRC/_files/WRClogos/WRCE-logo-combined-01-crop.png\" width=\"200px\">\n",
    "\n",
    "# Classes (Chapter 9)"
   ]
  },
  {
   "cell_type": "markdown",
   "id": "aeeb762b",
   "metadata": {},
   "source": [
    "Object-oriented programming is one of the most effective approaches to writing software. In object-oriented programming you write *classes* that represent real-world things and situations, and you create *objects* based on these classes. "
   ]
  },
  {
   "cell_type": "code",
   "execution_count": 3,
   "id": "4acd41b5",
   "metadata": {},
   "outputs": [],
   "source": [
    "class Dog:\n",
    "    \"\"\"A simple attempt to model a dog.\"\"\"  \n",
    "  \n",
    "    def __init__(self, name, age):\n",
    "        \"\"\"Initialize name and age attributes.\"\"\"\n",
    "        self.name = name\n",
    "        self.age = age\n",
    "        \n",
    "    def sit(self):\n",
    "        \"\"\"Simulate a dog sitting in response to a command.\"\"\"\n",
    "        print(f\"{self.name} is now sitting.\") # don't forget the self. !!! NOT needed for arguements\n",
    "\n",
    "    def roll_over(self):\n",
    "        \"\"\"Simulate rolling over in response to a command.\"\"\"\n",
    "        print(f\"{self.name} rolled over!\")"
   ]
  },
  {
   "cell_type": "markdown",
   "id": "0591d0c2",
   "metadata": {},
   "source": [
    "Create two instances of the `Dog` class. These are called *instances* or *objects*."
   ]
  },
  {
   "cell_type": "code",
   "execution_count": 4,
   "id": "8d6c738b",
   "metadata": {},
   "outputs": [],
   "source": [
    "my_dog = Dog('Willie', 6)\n",
    "your_dog = Dog('Lucy', 3)"
   ]
  },
  {
   "cell_type": "markdown",
   "id": "93ade090",
   "metadata": {},
   "source": [
    "Accessing attributes and calling methods."
   ]
  },
  {
   "cell_type": "code",
   "execution_count": 8,
   "id": "4e328087",
   "metadata": {},
   "outputs": [
    {
     "name": "stdout",
     "output_type": "stream",
     "text": [
      "My dog's name is Willie.\n",
      "My dog is 6 years old.\n",
      "Willie is now sitting.\n",
      "\n",
      "Your dog's name is George.\n",
      "Your dog is 3 years old.\n",
      "George is now sitting.\n",
      "George\n"
     ]
    }
   ],
   "source": [
    "print(f\"My dog's name is {my_dog.name}.\")\n",
    "print(f\"My dog is {my_dog.age} years old.\")\n",
    "my_dog.sit()\n",
    "\n",
    "print(f\"\\nYour dog's name is {your_dog.name}.\")\n",
    "print(f\"Your dog is {your_dog.age} years old.\")\n",
    "your_dog.sit()\n",
    "\n",
    "# you can also change the class' attributes\n",
    "your_dog.name = 'George'\n",
    "print(your_dog.name)"
   ]
  },
  {
   "cell_type": "code",
   "execution_count": 19,
   "id": "c95eca04",
   "metadata": {},
   "outputs": [
    {
     "name": "stdout",
     "output_type": "stream",
     "text": [
      "The strawberry was eaten!\n",
      "\n",
      "\n",
      "jarvis is ALIVE!\n",
      "Yeah, 'Is the earth flat?' is a great question!\n",
      "\n",
      "\n",
      "Gru is ALIVE!\n",
      "Yeah, 'Is vanilla the worst ice cream flavor?' is a great question!\n"
     ]
    }
   ],
   "source": [
    "class Fruit():\n",
    "    \n",
    "    def __init__(self, name, color):\n",
    "        self.name = name\n",
    "        self.color = color\n",
    "        \n",
    "    def eat(self):\n",
    "        print(f\"The {self.name} was eaten!\")\n",
    "\n",
    "my_fruit = Fruit(\"strawberry\", \"red\")\n",
    "my_fruit.eat()\n",
    "\n",
    "print(\"\\n\")\n",
    "\n",
    "class ChatBot():\n",
    "    \n",
    "    def __init__(self, name, attitude='helpful'):\n",
    "        \"\"\"attributes: name and attitude with default of being 'helpful'\"\"\"\n",
    "        self.name = name\n",
    "        self.attitude = attitude\n",
    "        print(f\"{self.name} is ALIVE!\")\n",
    "        \n",
    "    def answer(self, question):\n",
    "        if self.attitude == 'snarky':\n",
    "            print(f\"Yeah, '{question}' is a stupid question!\") # NO self. for question arguement!!!\n",
    "        if self.attitude == 'helpful':\n",
    "            print(f\"Yeah, '{question}' is a great question!\")\n",
    "            \n",
    "j_chatbot = ChatBot('jarvis', 'helpful')\n",
    "j_chatbot.answer(\"Is the earth flat?\")\n",
    "\n",
    "print(\"\\n\")\n",
    "\n",
    "g_chatbot = ChatBot('Gru')\n",
    "g_chatbot.answer(\"Is vanilla the worst ice cream flavor?\")"
   ]
  },
  {
   "cell_type": "code",
   "execution_count": 3,
   "id": "de762525",
   "metadata": {},
   "outputs": [
    {
     "name": "stdout",
     "output_type": "stream",
     "text": [
      "AI102 is at 16:00\n"
     ]
    }
   ],
   "source": [
    "class Flight():\n",
    "    \n",
    "    def __init__(self, number, time):\n",
    "        self.number = number\n",
    "        self.time = time\n",
    "        \n",
    "    def get_flight_time(self):\n",
    "        print(f\"{self.number.upper()} is at {self.time}\")\n",
    "        \n",
    "my_flight = Flight(\"AI102\", \"16:00\")\n",
    "my_flight.get_flight_time()"
   ]
  },
  {
   "cell_type": "markdown",
   "id": "29618bfa",
   "metadata": {},
   "source": [
    "### Working with Classes and Instances"
   ]
  },
  {
   "cell_type": "code",
   "execution_count": 4,
   "id": "115ead70",
   "metadata": {},
   "outputs": [],
   "source": [
    "\"\"\"A class that can be used to represent a car.\"\"\"\n",
    "\n",
    "class Car():\n",
    "    \"\"\"A simple attempt to represent a car.\"\"\"\n",
    "\n",
    "    def __init__(self, manufacturer, model, year):\n",
    "        \"\"\"Initialize attributes to describe a car.\"\"\"\n",
    "        self.manufacturer = manufacturer\n",
    "        self.model = model\n",
    "        self.year = year\n",
    "        self.odometer_reading = 0\n",
    "        \n",
    "    def get_descriptive_name(self):\n",
    "        \"\"\"Return a neatly formatted descriptive name.\"\"\"\n",
    "        long_name = str(self.year) + ' ' + self.manufacturer + ' ' + self.model\n",
    "        return long_name.title()\n",
    "    \n",
    "    def read_odometer(self):\n",
    "        \"\"\"Print a statement showing the car's mileage.\"\"\"\n",
    "        print(\"This car has \" + str(self.odometer_reading) + \" miles on it.\")\n",
    "        \n",
    "    def update_odometer(self, mileage):\n",
    "        \"\"\"\n",
    "        Set the odometer reading to the given value.\n",
    "        Reject the change if it attempts to roll the odometer back.\n",
    "        \"\"\"\n",
    "        if mileage >= self.odometer_reading: # NOTE: how the mileage argument doesn't need a self. !!!\n",
    "            self.odometer_reading = mileage\n",
    "        else:\n",
    "            print(\"You can't roll back an odometer!\")\n",
    "    \n",
    "    def increment_odometer(self, miles):\n",
    "        \"\"\"Add the given amount to the odometer reading.\"\"\"\n",
    "        self.odometer_reading += miles"
   ]
  },
  {
   "cell_type": "code",
   "execution_count": 5,
   "id": "a2a6a140",
   "metadata": {},
   "outputs": [
    {
     "name": "stdout",
     "output_type": "stream",
     "text": [
      "2019 Audi A4\n",
      "This car has 0 miles on it.\n"
     ]
    }
   ],
   "source": [
    "# create a new car, odometer receives a default value\n",
    "my_new_car = Car('audi', 'a4', 2019)\n",
    "print(my_new_car.get_descriptive_name())\n",
    "my_new_car.read_odometer()"
   ]
  },
  {
   "cell_type": "code",
   "execution_count": 6,
   "id": "3dcbf612",
   "metadata": {},
   "outputs": [
    {
     "name": "stdout",
     "output_type": "stream",
     "text": [
      "This car has 23 miles on it.\n"
     ]
    }
   ],
   "source": [
    "# modifying attribute values\n",
    "my_new_car.odometer_reading = 23\n",
    "my_new_car.read_odometer()"
   ]
  },
  {
   "cell_type": "code",
   "execution_count": 7,
   "id": "0d7616ae",
   "metadata": {},
   "outputs": [
    {
     "name": "stdout",
     "output_type": "stream",
     "text": [
      "This car has 56 miles on it.\n",
      "You can't roll back an odometer!\n"
     ]
    }
   ],
   "source": [
    "# modifying attribute directly with a method\n",
    "my_new_car.update_odometer(56)\n",
    "my_new_car.read_odometer()\n",
    "# this allows custom logic to validate the attribute value\n",
    "my_new_car.update_odometer(10)"
   ]
  },
  {
   "cell_type": "code",
   "execution_count": 8,
   "id": "e8619a6c",
   "metadata": {},
   "outputs": [
    {
     "name": "stdout",
     "output_type": "stream",
     "text": [
      "This car has 76 miles on it.\n"
     ]
    }
   ],
   "source": [
    "# modifying attribute indirectly with a method\n",
    "my_new_car.increment_odometer(20)\n",
    "my_new_car.read_odometer()"
   ]
  },
  {
   "cell_type": "markdown",
   "id": "50d0977c",
   "metadata": {},
   "source": [
    "### Inheritance"
   ]
  },
  {
   "cell_type": "markdown",
   "id": "2f4637c3",
   "metadata": {},
   "source": [
    "`ElectricCar` inherts all methods and attributes from `Car`"
   ]
  },
  {
   "cell_type": "code",
   "execution_count": 9,
   "id": "113ddc09",
   "metadata": {},
   "outputs": [],
   "source": [
    "class ElectricCar(Car):\n",
    "    \"\"\"Models aspects of a car, specific to electric vehicles.\"\"\"\n",
    "\n",
    "    def __init__(self, manufacturer, model, year):\n",
    "        \"\"\"Initialize attributes of the parent class.\"\"\"\n",
    "        super().__init__(manufacturer, model, year)\n"
   ]
  },
  {
   "cell_type": "code",
   "execution_count": 10,
   "id": "30daac76",
   "metadata": {},
   "outputs": [
    {
     "name": "stdout",
     "output_type": "stream",
     "text": [
      "2019 Tesla Model S\n"
     ]
    }
   ],
   "source": [
    "my_tesla = ElectricCar('tesla','model s',2019)\n",
    "print(my_tesla.get_descriptive_name()) # inherited from Car"
   ]
  },
  {
   "cell_type": "markdown",
   "id": "76f53523",
   "metadata": {},
   "source": [
    "New `ElectricCar` class that has a ``battery_size`` attribute and associated method ``describe_battery()``"
   ]
  },
  {
   "cell_type": "code",
   "execution_count": 11,
   "id": "02f0ae2f",
   "metadata": {},
   "outputs": [],
   "source": [
    "class ElectricCar(Car):\n",
    "    \"\"\"Models aspects of a car, specific to electric vehicles.\"\"\"\n",
    "\n",
    "    def __init__(self, manufacturer, model, year):\n",
    "        \"\"\"\n",
    "        Initialize attributes of the parent class.\n",
    "        Then initialize attributes specific to an electric car.\n",
    "        \"\"\"\n",
    "        super().__init__(manufacturer, model, year)\n",
    "        self.battery_size = 75\n",
    "        \n",
    "    def describe_battery(self):\n",
    "        \"\"\"Print a statement describing the battery size.\"\"\"\n",
    "        print(f\"This car has a {self.battery_size}-kWh battery.\")"
   ]
  },
  {
   "cell_type": "code",
   "execution_count": 12,
   "id": "e92985f5",
   "metadata": {},
   "outputs": [
    {
     "name": "stdout",
     "output_type": "stream",
     "text": [
      "2019 Tesla Model S\n",
      "This car has a 75-kWh battery.\n"
     ]
    },
    {
     "ename": "AttributeError",
     "evalue": "'Car' object has no attribute 'describe_battery'",
     "output_type": "error",
     "traceback": [
      "\u001b[1;31m---------------------------------------------------------------------------\u001b[0m",
      "\u001b[1;31mAttributeError\u001b[0m                            Traceback (most recent call last)",
      "Cell \u001b[1;32mIn[12], line 6\u001b[0m\n\u001b[0;32m      3\u001b[0m my_tesla\u001b[38;5;241m.\u001b[39mdescribe_battery() \u001b[38;5;66;03m# specific to Electric Cars\u001b[39;00m\n\u001b[0;32m      5\u001b[0m my_toyota \u001b[38;5;241m=\u001b[39m Car(\u001b[38;5;124m'\u001b[39m\u001b[38;5;124mtoyota\u001b[39m\u001b[38;5;124m'\u001b[39m,\u001b[38;5;124m'\u001b[39m\u001b[38;5;124mcorolla\u001b[39m\u001b[38;5;124m'\u001b[39m,\u001b[38;5;241m2007\u001b[39m)\n\u001b[1;32m----> 6\u001b[0m my_toyota\u001b[38;5;241m.\u001b[39mdescribe_battery()\n",
      "\u001b[1;31mAttributeError\u001b[0m: 'Car' object has no attribute 'describe_battery'"
     ]
    }
   ],
   "source": [
    "my_tesla = ElectricCar('tesla','model s',2019)\n",
    "print(my_tesla.get_descriptive_name()) # inherited from Car\n",
    "my_tesla.describe_battery() # specific to Electric Cars\n",
    "\n",
    "my_toyota = Car('toyota','corolla',2007)\n",
    "my_toyota.describe_battery() # does not work, not an ElectricCar!"
   ]
  },
  {
   "cell_type": "markdown",
   "id": "ce0c1c4c",
   "metadata": {},
   "source": [
    "Overriding methods in a child class"
   ]
  },
  {
   "cell_type": "code",
   "execution_count": 13,
   "id": "d640f729",
   "metadata": {},
   "outputs": [],
   "source": [
    "class ElectricCar(Car):\n",
    "    \"\"\"Models aspects of a car, specific to electric vehicles.\"\"\"\n",
    "\n",
    "    def __init__(self, manufacturer, model, year):\n",
    "        \"\"\"\n",
    "        Initialize attributes of the parent class.\n",
    "        Then initialize attributes specific to an electric car.\n",
    "        \"\"\"\n",
    "        super().__init__(manufacturer, model, year)\n",
    "        self.battery_size = 75\n",
    "        \n",
    "    def describe_battery(self):\n",
    "        \"\"\"Print a statement describing the battery size.\"\"\"\n",
    "        print(f\"This car has a {self.battery_size}-kWh battery.\")\n",
    "        \n",
    "    def get_descriptive_name(self): # overrides parent method!\n",
    "        \"\"\"Return a neatly formatted descriptive name.\"\"\"\n",
    "        long_name = str(self.year) + ' ' + self.manufacturer + ' ' + self.model + ' [Electric!]'\n",
    "        return long_name.title()"
   ]
  },
  {
   "cell_type": "code",
   "execution_count": 14,
   "id": "b4fc5176",
   "metadata": {},
   "outputs": [
    {
     "name": "stdout",
     "output_type": "stream",
     "text": [
      "2019 Tesla Model S [Electric!]\n",
      "2007 Toyota Corolla\n"
     ]
    }
   ],
   "source": [
    "my_tesla = ElectricCar('tesla','model s',2019)\n",
    "print(my_tesla.get_descriptive_name()) # specific to ElectricCar\n",
    "\n",
    "print(my_toyota.get_descriptive_name()) # generic Car method"
   ]
  },
  {
   "cell_type": "markdown",
   "id": "0003aa09",
   "metadata": {},
   "source": [
    "### Modeling Real World Objects\n",
    "Deciding what classes to make and whether to use inheritance can be complicated. There is often no single right answer, it is up to the programmer to figure out what works best."
   ]
  },
  {
   "cell_type": "code",
   "execution_count": 15,
   "id": "f4af74d9",
   "metadata": {},
   "outputs": [],
   "source": [
    "class Battery():\n",
    "    \"\"\"A simple attempt to model a battery for an electric car.\"\"\"\n",
    "\n",
    "    def __init__(self, battery_size=60):\n",
    "        \"\"\"Initialize the batteery's attributes.\"\"\"\n",
    "        self.battery_size = battery_size\n",
    "\n",
    "    def describe_battery(self):\n",
    "        \"\"\"Print a statement describing the battery size.\"\"\"\n",
    "        print(\"This car has a \" + str(self.battery_size) + \"-kWh battery.\")  \n",
    "        \n",
    "    def get_range(self):\n",
    "        \"\"\"Print a statement about the range this battery provides.\"\"\"\n",
    "        if self.battery_size == 60:\n",
    "            range = 140\n",
    "        elif self.battery_size == 85:\n",
    "            range = 185\n",
    "            \n",
    "        message = \"This car can go approximately \" + str(range)\n",
    "        message += \" miles on a full charge.\"\n",
    "        print(message)"
   ]
  },
  {
   "cell_type": "markdown",
   "id": "0a647b2a",
   "metadata": {},
   "source": [
    "A new `ElectricCar` class that uses `Battery` to track aspects of the car's battery"
   ]
  },
  {
   "cell_type": "code",
   "execution_count": 16,
   "id": "951a66ce",
   "metadata": {},
   "outputs": [],
   "source": [
    "class ElectricCar(Car):\n",
    "    \"\"\"Models aspects of a car, specific to electric vehicles.\"\"\"\n",
    "\n",
    "    def __init__(self, manufacturer, model, year):\n",
    "        \"\"\"\n",
    "        Initialize attributes of the parent class.\n",
    "        Then initialize attributes specific to an electric car.\n",
    "        \"\"\"\n",
    "        super().__init__(manufacturer, model, year)\n",
    "        self.battery = Battery()"
   ]
  },
  {
   "cell_type": "code",
   "execution_count": 17,
   "id": "16d9f6e4",
   "metadata": {},
   "outputs": [
    {
     "name": "stdout",
     "output_type": "stream",
     "text": [
      "This car has a 60-kWh battery.\n",
      "This car can go approximately 140 miles on a full charge.\n"
     ]
    }
   ],
   "source": [
    "my_tesla = ElectricCar('tesla','model s',2019)\n",
    "my_tesla.battery.describe_battery() # my_tesla has a battery which has the method describe_battery()\n",
    "\n",
    "my_tesla.battery.get_range()"
   ]
  },
  {
   "cell_type": "markdown",
   "id": "309acf01",
   "metadata": {},
   "source": [
    "### Importing Classes"
   ]
  },
  {
   "cell_type": "code",
   "execution_count": 1,
   "id": "2cd36430",
   "metadata": {
    "scrolled": true
   },
   "outputs": [
    {
     "name": "stdout",
     "output_type": "stream",
     "text": [
      "2015 Volkswagen Beetle\n",
      "2015 Tesla Roadster [Electric!]\n"
     ]
    }
   ],
   "source": [
    "import car\n",
    "import electric_car\n",
    "\n",
    "# use the Car class defined in car.py\n",
    "my_beetle = car.Car('volkswagen', 'beetle', 2015)\n",
    "print(my_beetle.get_descriptive_name())\n",
    "\n",
    "# use the ElectricCar class defined in electric_car.py\n",
    "my_tesla = electric_car.ElectricCar('tesla', 'roadster', 2015)\n",
    "print(my_tesla.get_descriptive_name())"
   ]
  },
  {
   "cell_type": "markdown",
   "id": "d6e28e90",
   "metadata": {},
   "source": [
    "### The Python Standard Library"
   ]
  },
  {
   "cell_type": "code",
   "execution_count": 83,
   "id": "3c029b1c",
   "metadata": {},
   "outputs": [
    {
     "name": "stdout",
     "output_type": "stream",
     "text": [
      "You rolled a 6\n",
      "Your service selection is: marines\n"
     ]
    }
   ],
   "source": [
    "# example usage of a module from the standard library\n",
    "# random provides tools for generating random data\n",
    "\n",
    "from random import randint # <-- we didn't write this file, it comes with Python\n",
    "print(f\"You rolled a {randint(1,6)}\")\n",
    "\n",
    "from random import choice\n",
    "communities = ['subs','pilot','cyber','swo','marines','army']\n",
    "# feeling lucky?\n",
    "print(f\"Your service selection is: {choice(communities)}\")"
   ]
  },
  {
   "cell_type": "markdown",
   "id": "20e482ab",
   "metadata": {},
   "source": [
    "-----\n",
    "\n",
    "## Homework Problems"
   ]
  },
  {
   "cell_type": "markdown",
   "id": "a2eeddc0",
   "metadata": {},
   "source": [
    "**9-1. Restaurant:** Make a  class called `Restaurant`. The `__init__()` method for `Restaurant` should store two attributes: a `restaurant_name` and a `cuisine_type`. Make a method called `describe_restaurant()` that prints these two pieces of information, and a method called `open_restaurant()` that prints a message indicating that the restaurant is open.\n",
    "\n",
    "Make an instance called `restaurant` from your class. Print the two attributes individually, and then call both methods."
   ]
  },
  {
   "cell_type": "code",
   "execution_count": 126,
   "id": "36700fb3",
   "metadata": {},
   "outputs": [
    {
     "name": "stdout",
     "output_type": "stream",
     "text": [
      "Chipotle\n",
      "Mexican\n",
      "Chipotle makes Mexican food\n",
      "Chipotle is open!\n"
     ]
    }
   ],
   "source": [
    "class Restaurant():\n",
    "    def __init__(self, restaurant_name, cuisine_type):\n",
    "        self.restaurant_name = str(restaurant_name).title()\n",
    "        self.cuisine_type = str(cuisine_type).title()\n",
    "        \n",
    "    def describe_restaurant(self):\n",
    "        print(f\"{self.restaurant_name} makes {self.cuisine_type} food\")\n",
    "        \n",
    "    def open_restaurant(self):\n",
    "        print(f\"{self.restaurant_name} is open!\")\n",
    "        \n",
    "restaurant = Restaurant('chipotle', 'mexican')\n",
    "print(restaurant.restaurant_name)\n",
    "print(restaurant.cuisine_type)\n",
    "restaurant.describe_restaurant()\n",
    "restaurant.open_restaurant()"
   ]
  },
  {
   "cell_type": "markdown",
   "id": "528eac87",
   "metadata": {},
   "source": [
    "**9-2. Three Restaurants:** Start with your class from above. Create three different instances of the class, and call `describe_restaurant()` for each instance."
   ]
  },
  {
   "cell_type": "code",
   "execution_count": 37,
   "id": "4537675c",
   "metadata": {},
   "outputs": [
    {
     "name": "stdout",
     "output_type": "stream",
     "text": [
      "Iron Rooster makes American food\n",
      "Pussers makes Caribbean food\n",
      "Moes makes Mexican food\n"
     ]
    }
   ],
   "source": [
    "restaurant1 = Restaurant('iron rooster', 'american')\n",
    "restaurant1.describe_restaurant()\n",
    "\n",
    "restaurant2 = Restaurant('pussers', 'caribbean')\n",
    "restaurant2.describe_restaurant()\n",
    "\n",
    "restaurant3 = Restaurant('moes', 'mexican')\n",
    "restaurant3.describe_restaurant()"
   ]
  },
  {
   "cell_type": "markdown",
   "id": "306d34e2",
   "metadata": {},
   "source": [
    "**9-3. Users:** Make a class called `User`. Create two attributes called `first_name` and `last_name`, and then create at least three other attributes that are typically stored in a user profile. Make a method called `describe_user()` that prints a summary of the user's information. Make another method called `greet_user()` that prints a personalized greeting to the user.\n",
    "\n",
    "Create three instances representing different users, and call both methods for each user."
   ]
  },
  {
   "cell_type": "code",
   "execution_count": 43,
   "id": "3d0f20f2",
   "metadata": {},
   "outputs": [
    {
     "name": "stdout",
     "output_type": "stream",
     "text": [
      "Andrew Bernas \n",
      "age: 20 \n",
      "race: Asian \n",
      "gender: Male\n",
      "Hello Andrew!\n",
      "\n",
      "\n",
      "Dug Moloney \n",
      "age: 21 \n",
      "race: Caucasian \n",
      "gender: Male\n",
      "Hello Dug!\n",
      "\n",
      "\n",
      "Maeve Carrigg \n",
      "age: 19 \n",
      "race: Caucasian \n",
      "gender: Female\n",
      "Hello Maeve!\n",
      "\n",
      "\n"
     ]
    }
   ],
   "source": [
    "class User():\n",
    "    def __init__(self, first_name, last_name, age, race, gender):\n",
    "        self.first_name = first_name.title()\n",
    "        self.last_name = last_name.title()\n",
    "        self.age = age\n",
    "        self.race = race.title()\n",
    "        self.gender = gender.title()\n",
    "    \n",
    "    def describe_user(self):\n",
    "        print(f\"{self.first_name} {self.last_name} \\nage: {self.age} \\nrace: {self.race} \\ngender: {self.gender}\")\n",
    "        \n",
    "    def greet_user(self):\n",
    "        print(f\"Hello {self.first_name}!\")\n",
    "        \n",
    "andrew = User('andrew', 'bernas', 20, 'asian', 'male')\n",
    "andrew.describe_user()\n",
    "andrew.greet_user()\n",
    "print(\"\\n\")\n",
    "\n",
    "dug = User('dug', 'moloney', 21, 'caucasian', 'male')\n",
    "dug.describe_user()\n",
    "dug.greet_user()\n",
    "print(\"\\n\")\n",
    "\n",
    "maeve = User('maeve', 'carrigg', 19, 'caucasian', 'female')\n",
    "maeve.describe_user()\n",
    "maeve.greet_user()\n",
    "print(\"\\n\")"
   ]
  },
  {
   "cell_type": "markdown",
   "id": "e542940c",
   "metadata": {},
   "source": [
    "**9-4. Number Served:** Start with your program from 9-1. Add an attribute called `number_served` with a default value of 0. Create an instance called `restaurant` from this class. Print the number of customers the restaurant has served, and then change this value and print it again.\n",
    "\n",
    "Add a method called `set_number_served()` that lets you set the number of customers that have been served. Call this method with a new number and print the value again.\n",
    "\n",
    "Add a method called `increment_number_served()` that lets you increment the number of customers who've been served. Call this method with any number you like that could represent how many customers were served in, say, a day of business."
   ]
  },
  {
   "cell_type": "code",
   "execution_count": 48,
   "id": "a8e910bd",
   "metadata": {},
   "outputs": [
    {
     "name": "stdout",
     "output_type": "stream",
     "text": [
      "0\n",
      "2\n",
      "4\n",
      "9\n"
     ]
    }
   ],
   "source": [
    "class Restaurant():\n",
    "    def __init__(self, restaurant_name, cuisine_type):\n",
    "        self.restaurant_name = str(restaurant_name).title()\n",
    "        self.cuisine_type = str(cuisine_type).title()\n",
    "        self.number_served = 0\n",
    "        \n",
    "    def describe_restaurant(self):\n",
    "        print(f\"{self.restaurant_name} makes {self.cuisine_type} food\")\n",
    "        \n",
    "    def open_restaurant(self):\n",
    "        print(f\"{self.restaurant_name} is open!\")\n",
    "    \n",
    "    def set_number_served(self, number_served):\n",
    "        self.number_served = number_served\n",
    "    \n",
    "    def increment_number_served(self, increment):\n",
    "        self.number_served += increment\n",
    "    \n",
    "restaurant = Restaurant('chipotle', 'mexican')\n",
    "print(restaurant.number_served)\n",
    "restaurant.number_served = 2\n",
    "print(restaurant.number_served)\n",
    "restaurant.set_number_served(4)\n",
    "print(restaurant.number_served)\n",
    "restaurant.increment_number_served(5)\n",
    "print(restaurant.number_served)"
   ]
  },
  {
   "cell_type": "markdown",
   "id": "ce29786e",
   "metadata": {},
   "source": [
    "**9-5. Login Attempts:** Add an attribute called `login_attempts` to your `User` class from 9-3. Write a method called `increment_login_attempts()` that increments the value of `login_attempts` by 1. Write another method called `reset_login_attempts()` that resets the value of `login_attempts` to 0.\n",
    "\n",
    "Make an instance of the `User` class and call `increment_login_attempts()` several times. Print the value of `login_attempts` to make sure it was incremented propertly, and then call `reset_login_attempts()`. Print `login_attempts` again to make sure it was reset to 0."
   ]
  },
  {
   "cell_type": "code",
   "execution_count": 50,
   "id": "532334ce",
   "metadata": {},
   "outputs": [
    {
     "name": "stdout",
     "output_type": "stream",
     "text": [
      "0\n",
      "3\n",
      "0\n"
     ]
    }
   ],
   "source": [
    "class User():\n",
    "    def __init__(self, first_name, last_name, age, race, gender, login_attempts):\n",
    "        self.first_name = first_name.title()\n",
    "        self.last_name = last_name.title()\n",
    "        self.age = age\n",
    "        self.race = race.title()\n",
    "        self.gender = gender.title()\n",
    "        self.login_attempts = login_attempts\n",
    "    \n",
    "    def describe_user(self):\n",
    "        print(f\"{self.first_name} {self.last_name} \\nage: {self.age} \\nrace: {self.race} \\ngender: {self.gender}\")\n",
    "        \n",
    "    def greet_user(self):\n",
    "        print(f\"Hello {self.first_name}!\")\n",
    "    \n",
    "    def increment_login_attempts(self):\n",
    "        self.login_attempts += 1\n",
    "        \n",
    "    def reset_login_attempts(self):\n",
    "        self.login_attempts = 0\n",
    "        \n",
    "andrew = User('andrew', 'bernas', 20, 'asian', 'male', 0)\n",
    "print(andrew.login_attempts)\n",
    "andrew.increment_login_attempts()\n",
    "andrew.increment_login_attempts()\n",
    "andrew.increment_login_attempts()\n",
    "print(andrew.login_attempts)\n",
    "andrew.reset_login_attempts()\n",
    "print(andrew.login_attempts)"
   ]
  },
  {
   "cell_type": "markdown",
   "id": "d7b5691c",
   "metadata": {},
   "source": [
    "**9-6. Ice Cream Stand:** An ice cream stand is a specific kind of restaurant. Write a class caled `IceCreamStand` that inherits from the `Restaurant` class you wrote in 9-1 or 9-4. Either version of the clas will work; just pick the one you like better. Add an attribute called `flavors` that stores a list of ice cream flavors. Write a method that displays these flavors. Create an instance of `IceCreamStand`, and call this method."
   ]
  },
  {
   "cell_type": "code",
   "execution_count": 59,
   "id": "5514cfea",
   "metadata": {},
   "outputs": [
    {
     "name": "stdout",
     "output_type": "stream",
     "text": [
      "Baskin-Robbins sells: \n",
      "- Chocolate\n",
      "- Vanilla\n",
      "- Rocky Road\n"
     ]
    }
   ],
   "source": [
    "class IceCreamStand(Restaurant):\n",
    "    def __init__(self, restaurant_name, *flavors):\n",
    "        super().__init__(restaurant_name, cuisine_type = 'ice cream')\n",
    "        self.flavors = list(flavors)\n",
    "        \n",
    "    def display_flavors(self):\n",
    "        print(f\"{self.restaurant_name} sells: \")\n",
    "        for flavor in self.flavors: \n",
    "            print(f\"- {flavor.title()}\")\n",
    "\n",
    "baskin_robbins = IceCreamStand('Baskin-Robbins', 'chocolate', 'vanilla', 'rocky road')\n",
    "baskin_robbins.display_flavors()"
   ]
  },
  {
   "cell_type": "markdown",
   "id": "c4dec239",
   "metadata": {},
   "source": [
    "**9-7. Admin:** An administrator is a special kind of user. Write a class called `Admin` that inherits from the `User` class you wrote in 9-3 or 9-5. Add an attribute, `privileges`, that stores a list of strings like *\"can add post\"*, *\"can delete post\"*, *\"can ban user\"*, and so on. Write a method called `show_privileges()` that lists the administrator's set of privileges. Create an instance of `Admin`, and call your method."
   ]
  },
  {
   "cell_type": "code",
   "execution_count": 69,
   "id": "c9d6db89",
   "metadata": {},
   "outputs": [
    {
     "name": "stdout",
     "output_type": "stream",
     "text": [
      "You have the following privileges: \n",
      "- can add post\n",
      "- can delete post\n",
      "- can ban user\n",
      "- can create user\n"
     ]
    }
   ],
   "source": [
    "class Admin(User):\n",
    "    def __init__(self, first_name, last_name, age, race, gender, login_attempts):\n",
    "        super().__init__(first_name, last_name, age, race, gender, login_attempts)\n",
    "        self.privileges = ['can add post', 'can delete post', 'can ban user', 'can create user']\n",
    "        \n",
    "    def show_privileges(self):\n",
    "        print(\"You have the following privileges: \")\n",
    "        for privilege in self.privileges:\n",
    "            print(f\"- {privilege}\")\n",
    "    \n",
    "admin = Admin('andrew', 'bernas', '20', 'asian', 'male', 0)\n",
    "admin.show_privileges()"
   ]
  },
  {
   "cell_type": "markdown",
   "id": "cf17d8a3",
   "metadata": {},
   "source": [
    "**9-8. Privileges:** Write a separate `Privileges` class. The class should have one attribute, `privileges`, that stores a list of strings as described in 9-7. Move the `show_privileges()` method to this class. Make a `Privileges` instance as an attribute in the `Admin` class. Create a new instance of `Admin` and use your method to show its privileges."
   ]
  },
  {
   "cell_type": "code",
   "execution_count": 70,
   "id": "97a0c1e4",
   "metadata": {},
   "outputs": [
    {
     "name": "stdout",
     "output_type": "stream",
     "text": [
      "You have the following privileges: \n",
      "- can add post\n",
      "- can delete post\n",
      "- can ban user\n",
      "- can create user\n"
     ]
    }
   ],
   "source": [
    "class Privileges():\n",
    "    def __init__(self):\n",
    "        self.privileges = ['can add post', 'can delete post', 'can ban user', 'can create user']\n",
    "        \n",
    "    def show_privileges(self):\n",
    "        print(\"You have the following privileges: \")\n",
    "        for privilege in self.privileges:\n",
    "            print(f\"- {privilege}\")\n",
    "            \n",
    "class Admin(User):\n",
    "    def __init__(self, first_name, last_name, age, race, gender, login_attempts):\n",
    "        super().__init__(first_name, last_name, age, race, gender, login_attempts)\n",
    "        self.privileges = Privileges()\n",
    "    \n",
    "admin = Admin('andrew', 'bernas', '20', 'asian', 'male', 0)\n",
    "admin.privileges.show_privileges()"
   ]
  },
  {
   "cell_type": "markdown",
   "id": "1e8dcfd8",
   "metadata": {},
   "source": [
    "**9-9. Battery Upgrade:** Use the final verion of the `electric_car.py` from this lecture. Add a method to the `Battery` class called `upgrade_battery()`. This method should check the battery size and set the capacity to 100 if it isn't already. Make an electric car with a default battery size, call `get_range()` once, and the call `get_range()` a second time after upgrading the battery. You should see an increase in the car's range."
   ]
  },
  {
   "cell_type": "code",
   "execution_count": 75,
   "id": "879119ce",
   "metadata": {},
   "outputs": [
    {
     "name": "stdout",
     "output_type": "stream",
     "text": [
      "This car can go approximately 140 miles on a full charge.\n",
      "This car can go approximately 240 miles on a full charge.\n"
     ]
    }
   ],
   "source": [
    "class Car():\n",
    "    \"\"\"A simple attempt to represent a car.\"\"\"\n",
    "\n",
    "    def __init__(self, manufacturer, model, year):\n",
    "        \"\"\"Initialize attributes to describe a car.\"\"\"\n",
    "        self.manufacturer = manufacturer\n",
    "        self.model = model\n",
    "        self.year = year\n",
    "        self.odometer_reading = 0\n",
    "\n",
    "    def get_descriptive_name(self):\n",
    "        \"\"\"Return a neatly formatted descriptive name.\"\"\"\n",
    "        long_name = str(self.year) + ' ' + self.manufacturer + ' ' + self.model\n",
    "        return long_name.title()\n",
    "\n",
    "    def read_odometer(self):\n",
    "        \"\"\"Print a statement showing the car's mileage.\"\"\"\n",
    "        print(\"This car has \" + str(self.odometer_reading) + \" miles on it.\")\n",
    "\n",
    "    def update_odometer(self, mileage):\n",
    "        \"\"\"\n",
    "        Set the odometer reading to the given value.\n",
    "        Reject the change if it attempts to roll the odometer back.\n",
    "        \"\"\"\n",
    "        if mileage >= self.odometer_reading:\n",
    "            self.odometer_reading = mileage\n",
    "        else:\n",
    "            print(\"You can't roll back an odometer!\")\n",
    "\n",
    "    def increment_odometer(self, miles):\n",
    "        \"\"\"Add the given amount to the odometer reading.\"\"\"\n",
    "        self.odometer_reading += miles\n",
    "\n",
    "class Battery():\n",
    "    \"\"\"A simple attempt to model a battery for an electric car.\"\"\"\n",
    "\n",
    "    def __init__(self, battery_size=60):\n",
    "        \"\"\"Initialize the batteery's attributes.\"\"\"\n",
    "        self.battery_size = battery_size\n",
    "\n",
    "    def describe_battery(self):\n",
    "        \"\"\"Print a statement describing the battery size.\"\"\"\n",
    "        print(\"This car has a \" + str(self.battery_size) + \"-kWh battery.\")  \n",
    "        \n",
    "    def get_range(self):\n",
    "        \"\"\"Print a statement about the range this battery provides.\"\"\"\n",
    "        if self.battery_size == 60:\n",
    "            range = 140\n",
    "        elif self.battery_size == 85:\n",
    "            range = 185\n",
    "        elif self.battery_size == 100:\n",
    "            range = 240\n",
    "        \n",
    "        message = \"This car can go approximately \" + str(range)\n",
    "        message += \" miles on a full charge.\"\n",
    "        print(message)\n",
    "            \n",
    "    def upgrade_battery(self):\n",
    "        if self.battery_size < 100:\n",
    "            self.battery_size = 100\n",
    "            \n",
    "class ElectricCar(Car):\n",
    "    \"\"\"Models aspects of a car, specific to electric vehicles.\"\"\"\n",
    "\n",
    "    def __init__(self, manufacturer, model, year):\n",
    "        \"\"\"\n",
    "        Initialize attributes of the parent class.\n",
    "        Then initialize attributes specific to an electric car.\n",
    "        \"\"\"\n",
    "        super().__init__(manufacturer, model, year)\n",
    "        self.battery = Battery()\n",
    "        \n",
    "tesla = ElectricCar('tesla', 'model s', '2023')\n",
    "tesla.battery.get_range()\n",
    "tesla.battery.upgrade_battery()\n",
    "tesla.battery.get_range()"
   ]
  },
  {
   "cell_type": "markdown",
   "id": "19613a71",
   "metadata": {},
   "source": [
    "**9-10. Imported Restaurant:** Using your latest `Restaurant` class, store it in a module. Import `Restaurant` and make an instance of the class. Then call one of its methods to show that the `import` statement is working properly."
   ]
  },
  {
   "cell_type": "code",
   "execution_count": 77,
   "id": "baffb5cf",
   "metadata": {},
   "outputs": [
    {
     "name": "stdout",
     "output_type": "stream",
     "text": [
      "Chipotle makes Mexican food\n"
     ]
    }
   ],
   "source": [
    "import restaurant \n",
    "\n",
    "chipotle = restaurant.Restaurant('chipotle', 'mexican')\n",
    "chipotle.describe_restaurant()"
   ]
  },
  {
   "cell_type": "markdown",
   "id": "577454fe",
   "metadata": {},
   "source": [
    "**9-11. Imported Admin:** Start with your work form 9-8. Store the classes `User`, `Privileges`, and `Admin` in one module. Import just the `Admin` class and make an instance of it. Then call `show_privileges()` to show that everything is working properly."
   ]
  },
  {
   "cell_type": "code",
   "execution_count": 78,
   "id": "02e3a3ff",
   "metadata": {},
   "outputs": [
    {
     "name": "stdout",
     "output_type": "stream",
     "text": [
      "You have the following privileges: \n",
      "- can add post\n",
      "- can delete post\n",
      "- can ban user\n",
      "- can create user\n"
     ]
    }
   ],
   "source": [
    "from user import Admin\n",
    "\n",
    "admin = Admin('andrew', 'bernas', '20', 'asian', 'male', 0)\n",
    "admin.privileges.show_privileges()"
   ]
  },
  {
   "cell_type": "markdown",
   "id": "1c5078e8",
   "metadata": {},
   "source": [
    "**9-12. Multiple Modules:** Store the `User` class in one module, and store the `Privileges` and `Admin` classes in a a seperate module. Set up the import statements so that you can create an instance of an `Admin` below. Then call `show_privileges()` to show that everything is working properly."
   ]
  },
  {
   "cell_type": "code",
   "execution_count": 81,
   "id": "6979f937",
   "metadata": {},
   "outputs": [
    {
     "name": "stdout",
     "output_type": "stream",
     "text": [
      "You have the following privileges: \n",
      "- can add post\n",
      "- can delete post\n",
      "- can ban user\n",
      "- can create user\n"
     ]
    }
   ],
   "source": [
    "import admin\n",
    "\n",
    "admin = Admin('andrew', 'bernas', '20', 'asian', 'male', 0)\n",
    "admin.privileges.show_privileges()"
   ]
  },
  {
   "cell_type": "markdown",
   "id": "66f328be",
   "metadata": {},
   "source": [
    "**9-13. Dice:** Make a class `Die` with one attribute called `sides`, which has a default value of 6. Write a method called `roll_die()` that prints a random number between 1 and the number of sides the die has. Make a 6-sided die and roll it 10 times.\n",
    "\n",
    "Make a 10-sided die and a 20-sided die. Roll each die 10 times."
   ]
  },
  {
   "cell_type": "code",
   "execution_count": 86,
   "id": "1b83f9e3",
   "metadata": {},
   "outputs": [
    {
     "name": "stdout",
     "output_type": "stream",
     "text": [
      "You rolled a 3\n",
      "You rolled a 3\n",
      "You rolled a 2\n",
      "You rolled a 5\n",
      "You rolled a 6\n",
      "You rolled a 3\n",
      "You rolled a 5\n",
      "You rolled a 2\n",
      "You rolled a 5\n",
      "You rolled a 4\n",
      "\n",
      "\n",
      "You rolled a 6\n",
      "You rolled a 8\n",
      "You rolled a 1\n",
      "You rolled a 6\n",
      "You rolled a 6\n",
      "You rolled a 3\n",
      "You rolled a 4\n",
      "You rolled a 7\n",
      "You rolled a 2\n",
      "You rolled a 9\n",
      "\n",
      "\n",
      "You rolled a 19\n",
      "You rolled a 2\n",
      "You rolled a 18\n",
      "You rolled a 15\n",
      "You rolled a 3\n",
      "You rolled a 15\n",
      "You rolled a 14\n",
      "You rolled a 6\n",
      "You rolled a 13\n",
      "You rolled a 14\n"
     ]
    }
   ],
   "source": [
    "from random import randint\n",
    "\n",
    "class Die():\n",
    "    def __init__(self, sides=6):\n",
    "        self.sides = sides\n",
    "        \n",
    "    def roll_die(self):\n",
    "        print(f\"You rolled a {randint(1,self.sides)}\")\n",
    "        \n",
    "six_sided_die = Die()\n",
    "for x in range(10):\n",
    "    six_sided_die.roll_die()\n",
    "    \n",
    "print(\"\\n\")\n",
    "\n",
    "ten_sided_die = Die(10)\n",
    "for x in range(10):\n",
    "    ten_sided_die.roll_die()\n",
    "    \n",
    "print(\"\\n\")\n",
    "    \n",
    "twenty_sided_die = Die(20)\n",
    "for x in range(10):\n",
    "    twenty_sided_die.roll_die()"
   ]
  },
  {
   "cell_type": "markdown",
   "id": "5d122a44",
   "metadata": {},
   "source": [
    "**9-14. Lottery:** Make a list or tuple containing a series of 10 numbers and five letters. Randomly select four numbers or letters from the list and print a message saying that any ticket matching these four numbers or letters wins a prize."
   ]
  },
  {
   "cell_type": "code",
   "execution_count": 102,
   "id": "8fff4f84",
   "metadata": {},
   "outputs": [
    {
     "name": "stdout",
     "output_type": "stream",
     "text": [
      "['d', '1', 'a', '1']\n"
     ]
    }
   ],
   "source": [
    "from random import choice\n",
    "\n",
    "my_list = (1, 2, 3, 4, 5, 6, 7, 8, 9, 10, 'a', 'b', 'c', 'd', 'e')\n",
    "\n",
    "ticket = []\n",
    "for x in range(4):\n",
    "    ticket.append(str(choice(my_list)))\n",
    "    \n",
    "print(ticket)"
   ]
  },
  {
   "cell_type": "markdown",
   "id": "834a88f4",
   "metadata": {},
   "source": [
    "**9-15. Lottery Analysis:** You can use a loop to see how hard it might be to win the kind of lottery you just modeled. Make a list or tuple called `my_ticket`. Write a loop that keeps pulling numbers until your ticket wins. Print a message reporting how many times the loop had to run to give you a winning ticket."
   ]
  },
  {
   "cell_type": "code",
   "execution_count": 125,
   "id": "98011c3d",
   "metadata": {},
   "outputs": [
    {
     "name": "stdout",
     "output_type": "stream",
     "text": [
      "Looped 106704 times.\n"
     ]
    }
   ],
   "source": [
    "from random import choice\n",
    "\n",
    "my_list = (1, 2, 3, 4, 5, 6, 7, 8, 9, 10, 'a', 'b', 'c', 'd', 'e')\n",
    "my_ticket = ['6', 'e', '5', '1']\n",
    "i = 0\n",
    "\n",
    "while True: \n",
    "    ticket = []\n",
    "    for x in range(4):\n",
    "        ticket.append(str(choice(my_list)))\n",
    "    \n",
    "    if ticket != my_ticket:\n",
    "        i += 1\n",
    "    else:\n",
    "        print(f\"Looped {i} times.\")\n",
    "        break"
   ]
  },
  {
   "cell_type": "markdown",
   "id": "ccaf26d1",
   "metadata": {},
   "source": [
    "**9-16. Python Module of the Week:** One excellent resource for exploring the Python standard library is a site called `Python Module of the Week`. Go to https://pymotw.com/ and look at the table of contents. Find a module that looks interesting to you and read about it, perhaps starting with the `random` module. Write three things you learned about the module below."
   ]
  },
  {
   "cell_type": "markdown",
   "id": "40f147cc",
   "metadata": {},
   "source": [
    "hashlib: \n",
    "- Allows you easy access to cryptographic hashing algorithms\n",
    "- It is “backed” by OpenSSL\n",
    "- Some algorithms are available on all platforms, and some depend on the underlying libraries"
   ]
  }
 ],
 "metadata": {
  "kernelspec": {
   "display_name": "Python 3 (ipykernel)",
   "language": "python",
   "name": "python3"
  },
  "language_info": {
   "codemirror_mode": {
    "name": "ipython",
    "version": 3
   },
   "file_extension": ".py",
   "mimetype": "text/x-python",
   "name": "python",
   "nbconvert_exporter": "python",
   "pygments_lexer": "ipython3",
   "version": "3.11.4"
  }
 },
 "nbformat": 4,
 "nbformat_minor": 5
}
