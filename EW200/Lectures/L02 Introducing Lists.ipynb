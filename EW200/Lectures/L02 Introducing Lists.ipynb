{
 "cells": [
  {
   "cell_type": "markdown",
   "id": "5063ccd3",
   "metadata": {},
   "source": [
    "<img src=\"https://www.usna.edu/WRC/_files/WRClogos/WRCE-logo-combined-01-crop.png\" width=\"200px\">\n",
    "\n",
    "# Introducing Lists (Chapter 3)"
   ]
  },
  {
   "cell_type": "code",
   "execution_count": 1,
   "id": "64706c7f",
   "metadata": {},
   "outputs": [
    {
     "name": "stdout",
     "output_type": "stream",
     "text": [
      "[1, 42, 18]\n",
      "['buffalo chicken sandwich', 'a second buffalo chicken sandwich']\n",
      "[[1, 42, 18], ['buffalo chicken sandwich', 'a second buffalo chicken sandwich']]\n",
      "[-5, 'Go Navy', 'A']\n",
      "['EW200', 'EM211', 'HH215A', 'NN220', 'PE201', 'SM212', 'SP211']\n"
     ]
    }
   ],
   "source": [
    "# a list is a collection of items in a particular order.\n",
    "# lists can contain any type of varible (letters, numbers, strings)\n",
    "favorite_numbers = [1, 42, 18]\n",
    "print(favorite_numbers)\n",
    "\n",
    "favorite_foods = ['buffalo chicken sandwich','a second buffalo chicken sandwich']\n",
    "print(favorite_foods)\n",
    "\n",
    "# lists can even contain other lists\n",
    "all_my_favorites = [favorite_numbers, favorite_foods]\n",
    "print(all_my_favorites)\n",
    "\n",
    "# different types of items can be in the same list\n",
    "random_stuff = [-5, 'Go Navy', 'A']\n",
    "print(random_stuff)\n",
    "\n",
    "# TODO: make a list of all of your classes (like ['EW200', ...]) and print it\n",
    "my_courses = ['EW200', 'EM211', 'HH215A', 'NN220', 'PE201', 'SM212', 'SP211']\n",
    "print(my_courses)"
   ]
  },
  {
   "cell_type": "markdown",
   "id": "b1a07a0f",
   "metadata": {},
   "source": [
    "**Accessing Elements in a List**"
   ]
  },
  {
   "cell_type": "code",
   "execution_count": 2,
   "id": "df3bf933",
   "metadata": {},
   "outputs": [
    {
     "name": "stdout",
     "output_type": "stream",
     "text": [
      "Alice\n",
      "alice\n",
      "Hello my name is Bob\n",
      "Charlie\n",
      "Charlie\n"
     ]
    }
   ],
   "source": [
    "# access items by their position in the list or 'index'\n",
    "names = ['Alice', 'Bob', 'Charlie']\n",
    "print(names[0]) # NOTE the first item has index 0\n",
    "\n",
    "#Array elements act just like normal variables from Chapter 2\n",
    "print(names[0].lower())\n",
    "print(f\"Hello my name is {names[1]}\")\n",
    "\n",
    "#TODO print the last name in the list\n",
    "print(names[2])\n",
    "\n",
    "#TODO what does names[-1] print? ---> The last element in the list!\n",
    "print(names[-1])"
   ]
  },
  {
   "cell_type": "markdown",
   "id": "b37f1924",
   "metadata": {},
   "source": [
    "**Changing, Adding, and Removing Elements**"
   ]
  },
  {
   "cell_type": "code",
   "execution_count": 3,
   "id": "b7507509",
   "metadata": {},
   "outputs": [
    {
     "name": "stdout",
     "output_type": "stream",
     "text": [
      "['Alice', 'Bart', 'Charlie']\n",
      "['Alice', 'Bart', 'Charlie', 'Dan']\n",
      "['Alice', 'Beth', 'Bart', 'Charlie', 'Dan']\n",
      "['Alice', 'Beth', 'Bart', 'Charlie', 'Dan', 'Xavier', 'Yolanda', 'Ziggy']\n",
      "['Beth', 'Bart', 'Charlie', 'Dan']\n",
      "Dan\n",
      "Bart\n",
      "['Beth', 'Charlie']\n",
      "['Charlie']\n",
      "[]\n",
      "['red', 'blue', 'green']\n"
     ]
    }
   ],
   "source": [
    "# Lists are dynamic. You can add, remove, and change elements\n",
    "names = ['Alice','Bob', 'Charlie']\n",
    "names[1] = 'Bart'\n",
    "print(names)\n",
    "\n",
    "#appending to the end of the list\n",
    "names.append('Dan')\n",
    "print(names)\n",
    "\n",
    "# inserting elements into a list\n",
    "names.insert(1, 'Beth')\n",
    "print(names)\n",
    "\n",
    "# combining lists\n",
    "other_names = ['Xavier','Yolanda','Ziggy']\n",
    "all_names = names+other_names\n",
    "print(all_names)\n",
    "\n",
    "# Removing Elements from a list\n",
    "del names[0]\n",
    "print(names)\n",
    "\n",
    "best_friend = names.pop() # pop last item into a variable\n",
    "print(best_friend)\n",
    "\n",
    "other_best_friend = names.pop(1) # pop a particular item into a variable\n",
    "print(other_best_friend)\n",
    "\n",
    "# popping removes item from list\n",
    "print(names)\n",
    "\n",
    "# can use pop by itself too.. not only to store a value in a variable\n",
    "names.pop(0)\n",
    "print(names)\n",
    "\n",
    "# removing item by value\n",
    "names.remove('Charlie')\n",
    "print(names)\n",
    "\n",
    "# CAREFUL: remove only removes the first occurence in the list\n",
    "colors = ['red','green','blue','green']\n",
    "colors.remove('green')\n",
    "print(colors) # still has green"
   ]
  },
  {
   "cell_type": "code",
   "execution_count": 4,
   "id": "02e9c0df",
   "metadata": {},
   "outputs": [
    {
     "ename": "ValueError",
     "evalue": "list.remove(x): x not in list",
     "output_type": "error",
     "traceback": [
      "\u001b[1;31m---------------------------------------------------------------------------\u001b[0m",
      "\u001b[1;31mValueError\u001b[0m                                Traceback (most recent call last)",
      "Cell \u001b[1;32mIn[4], line 2\u001b[0m\n\u001b[0;32m      1\u001b[0m \u001b[38;5;66;03m# if you try to remove something that doesn't exist it will error\u001b[39;00m\n\u001b[1;32m----> 2\u001b[0m colors\u001b[38;5;241m.\u001b[39mremove(\u001b[38;5;124m'\u001b[39m\u001b[38;5;124myellow\u001b[39m\u001b[38;5;124m'\u001b[39m)\n\u001b[0;32m      3\u001b[0m \u001b[38;5;28mprint\u001b[39m(colors)\n",
      "\u001b[1;31mValueError\u001b[0m: list.remove(x): x not in list"
     ]
    }
   ],
   "source": [
    "# if you try to remove something that doesn't exist it will error\n",
    "colors.remove('yellow')\n",
    "print(colors)"
   ]
  },
  {
   "cell_type": "code",
   "execution_count": 5,
   "id": "0471d800",
   "metadata": {},
   "outputs": [
    {
     "name": "stdout",
     "output_type": "stream",
     "text": [
      "['no', 'no']\n"
     ]
    }
   ],
   "source": [
    "# just some testing with while loops (note: integers are not iteratables so need to use in a while loop not for loop)\n",
    "test = ['yes', 'no', 'yes', 'no', 'yes']\n",
    "i = 1\n",
    "while i <= len(test): \n",
    "    if test[i-1] == 'yes': \n",
    "        del test[i-1]\n",
    "    i += 1\n",
    "\n",
    "print(test)"
   ]
  },
  {
   "cell_type": "code",
   "execution_count": 6,
   "id": "6560c30c",
   "metadata": {},
   "outputs": [
    {
     "name": "stdout",
     "output_type": "stream",
     "text": [
      "['a', 'e', 'o', 'u']\n",
      "['a', 'e', 'o', 'u', 'i']\n",
      "e\n"
     ]
    }
   ],
   "source": [
    "# TODO create a list of the vowels in a random order but skip 'i'\n",
    "#      insert i at the end of the list\n",
    "#      pop your favorite vowel off into a new variable\n",
    "\n",
    "vowels = ['a', 'e', 'o', 'u']\n",
    "print(vowels)\n",
    "\n",
    "vowels.append('i') # vowels.insert(-1, 'i') would make it ['a', 'e', 'o', 'i' ,'u'] taking the index of the 'u'\n",
    "print(vowels)\n",
    "\n",
    "favorite_vowel = vowels.pop(1)\n",
    "print(favorite_vowel)"
   ]
  },
  {
   "cell_type": "markdown",
   "id": "a6629874",
   "metadata": {},
   "source": [
    "**Organizing a List**"
   ]
  },
  {
   "cell_type": "code",
   "execution_count": 7,
   "id": "dd70b5f8",
   "metadata": {},
   "outputs": [
    {
     "name": "stdout",
     "output_type": "stream",
     "text": [
      "['Alice', 'Bob', 'Charlie']\n",
      "['Charlie', 'Bob', 'Alice']\n",
      "Original:\n",
      "['Bob', 'Charlie', 'Alice']\n",
      "Sorted:\n",
      "['Alice', 'Bob', 'Charlie']\n",
      "['Bob', 'Charlie', 'Alice']\n",
      "['Alice', 'Charlie', 'Bob']\n"
     ]
    }
   ],
   "source": [
    "#there are several functions that can sort lists in particular order\n",
    "names = ['Bob','Charlie','Alice']\n",
    "names.sort() # in place (permanently sorts)\n",
    "print(names)\n",
    "names.sort(reverse=True) # sorts in reverse\n",
    "print(names)\n",
    "\n",
    "# create a new copy of the list (original is unchanged)\n",
    "names = ['Bob','Charlie','Alice']\n",
    "sorted_names = sorted(names) # doesn't change the original list... creates a new list that is sorted\n",
    "print(\"Original:\")\n",
    "print(names)\n",
    "print(\"Sorted:\")\n",
    "print(sorted_names)\n",
    "\n",
    "# change order (not a sort)\n",
    "print(names)\n",
    "names.reverse() # permanently reverses list\n",
    "print(names)"
   ]
  },
  {
   "cell_type": "code",
   "execution_count": 8,
   "id": "e215aa65",
   "metadata": {},
   "outputs": [
    {
     "name": "stdout",
     "output_type": "stream",
     "text": [
      "['a', 'e', 'i', 'o', 'u']\n",
      "['o', 'a', 'u', 'i', 'e']\n"
     ]
    }
   ],
   "source": [
    "# TODO create a list of the vowels in a random order\n",
    "#      sort the list alphabetically\n",
    "#      reverse the list\n",
    "\n",
    "vowels = ['e', 'i', 'u', 'a', 'o']\n",
    "print(sorted(vowels))\n",
    "vowels.reverse()\n",
    "print(vowels)"
   ]
  },
  {
   "cell_type": "markdown",
   "id": "a646019f",
   "metadata": {},
   "source": [
    "------\n",
    "### Helpful Hints"
   ]
  },
  {
   "cell_type": "code",
   "execution_count": 9,
   "id": "30f4495b",
   "metadata": {},
   "outputs": [
    {
     "name": "stdout",
     "output_type": "stream",
     "text": [
      "Charlie\n",
      "There are 3 names\n"
     ]
    },
    {
     "ename": "IndexError",
     "evalue": "list index out of range",
     "output_type": "error",
     "traceback": [
      "\u001b[1;31m---------------------------------------------------------------------------\u001b[0m",
      "\u001b[1;31mIndexError\u001b[0m                                Traceback (most recent call last)",
      "Cell \u001b[1;32mIn[9], line 10\u001b[0m\n\u001b[0;32m      8\u001b[0m \u001b[38;5;66;03m# index errors are common, especially off-by-one\u001b[39;00m\n\u001b[0;32m      9\u001b[0m names \u001b[38;5;241m=\u001b[39m [\u001b[38;5;124m'\u001b[39m\u001b[38;5;124mBob\u001b[39m\u001b[38;5;124m'\u001b[39m,\u001b[38;5;124m'\u001b[39m\u001b[38;5;124mCharlie\u001b[39m\u001b[38;5;124m'\u001b[39m,\u001b[38;5;124m'\u001b[39m\u001b[38;5;124mAlice\u001b[39m\u001b[38;5;124m'\u001b[39m]\n\u001b[1;32m---> 10\u001b[0m \u001b[38;5;28mprint\u001b[39m(names[\u001b[38;5;241m3\u001b[39m])\n",
      "\u001b[1;31mIndexError\u001b[0m: list index out of range"
     ]
    }
   ],
   "source": [
    "# negative indexes count from the back of the list\n",
    "# -1 is the last item, -2 is the second-to-last, etc\n",
    "print(names[-2])\n",
    "\n",
    "# len returns the length of a list (number of elements)\n",
    "print(f\"There are {len(names)} names\")\n",
    "\n",
    "# index errors are common, especially off-by-one\n",
    "names = ['Bob','Charlie','Alice']\n",
    "print(names[3]) # three names but last element is index 2\n"
   ]
  },
  {
   "cell_type": "markdown",
   "id": "fa4ed6a8",
   "metadata": {},
   "source": [
    "-----\n",
    "\n",
    "## Homework Problems"
   ]
  },
  {
   "cell_type": "markdown",
   "id": "6747b1b5",
   "metadata": {},
   "source": [
    "**3-1. Names:** Store the names of a few of your friends in a list called ``names``. Print each person's name by acceessing each element in the list, one at a time"
   ]
  },
  {
   "cell_type": "code",
   "execution_count": 10,
   "id": "565e1950",
   "metadata": {},
   "outputs": [
    {
     "name": "stdout",
     "output_type": "stream",
     "text": [
      "Mack\n",
      "Dug\n",
      "Chester\n",
      "Maeve\n",
      "Remi\n",
      "\n",
      "\n",
      "Mack\n",
      "Dug\n",
      "Chester\n",
      "Maeve\n",
      "Remi\n"
     ]
    }
   ],
   "source": [
    "names = ['Mack', 'Dug', 'Chester', 'Maeve', 'Remi']\n",
    "\n",
    "# manual example:\n",
    "print(names[0])\n",
    "print(names[1])\n",
    "print(names[2])\n",
    "print(names[3])\n",
    "print(names[4])\n",
    "print(\"\\n\")\n",
    "\n",
    "# for loop example\n",
    "for name in names:\n",
    "    print(name)"
   ]
  },
  {
   "cell_type": "markdown",
   "id": "405ba294",
   "metadata": {},
   "source": [
    "**3-2. Greetings:** Start with the list you used above, but instead of just printing each person's name, print a message to them. The text of each message should be the same, but each message should be personalized with the person's name"
   ]
  },
  {
   "cell_type": "code",
   "execution_count": 11,
   "id": "de3d1872",
   "metadata": {},
   "outputs": [
    {
     "name": "stdout",
     "output_type": "stream",
     "text": [
      "Hello Mack!\n",
      "Hello Dug!\n",
      "Hello Chester!\n",
      "Hello Maeve!\n",
      "Hello Remi!\n",
      "\n",
      "\n",
      "Hello Mack!\n",
      "Hello Dug!\n",
      "Hello Chester!\n",
      "Hello Maeve!\n",
      "Hello Remi!\n"
     ]
    }
   ],
   "source": [
    "# manual example\n",
    "print(f\"Hello {names[0]}!\")\n",
    "print(f\"Hello {names[1]}!\")\n",
    "print(f\"Hello {names[2]}!\")\n",
    "print(f\"Hello {names[3]}!\")\n",
    "print(f\"Hello {names[4]}!\")\n",
    "print(\"\\n\")\n",
    "\n",
    "# for loop example\n",
    "for name in names: \n",
    "    print(f\"Hello {name}!\")"
   ]
  },
  {
   "cell_type": "markdown",
   "id": "e5c45290",
   "metadata": {},
   "source": [
    "**3-3. Your Own List:** Think of your favorite mode of transportation, such as a motorcycle or a car, and make a list that stores several examples. Use your list to print a series of statements about these items, such as \"I would like to own a Honda motorcycle\" "
   ]
  },
  {
   "cell_type": "code",
   "execution_count": 12,
   "id": "2fa6012c",
   "metadata": {},
   "outputs": [
    {
     "name": "stdout",
     "output_type": "stream",
     "text": [
      "I would like to own a car\n",
      "I would like to ride a bike\n",
      "I would like to buy a scooter\n"
     ]
    }
   ],
   "source": [
    "modes_of_transportation = ['car', 'bike', 'scooter']\n",
    "\n",
    "# manual example\n",
    "print(f\"I would like to own a {modes_of_transportation[0]}\")\n",
    "print(f\"I would like to ride a {modes_of_transportation[1]}\")\n",
    "print(f\"I would like to buy a {modes_of_transportation[2]}\")\n"
   ]
  },
  {
   "cell_type": "markdown",
   "id": "d044dc7c",
   "metadata": {},
   "source": [
    "**3-4. Guest List:** If you could invite any famous Naval Officer, living or deceased, to a dinner, who would you invite? Make a list that includes at least three officers you'd like to invite to dinner. Then use your list to print a message to each person, inviting them to dinner. "
   ]
  },
  {
   "cell_type": "code",
   "execution_count": 13,
   "id": "b0dd2916",
   "metadata": {},
   "outputs": [
    {
     "name": "stdout",
     "output_type": "stream",
     "text": [
      "Wendy B. Lawrence, you are invted to dinner!\n",
      "Alfred Thayer Mahan, you are invted to dinner!\n",
      "John Paul Jones, you are invted to dinner!\n"
     ]
    }
   ],
   "source": [
    "naval_officers = ['Wendy B. Lawrence', 'Alfred Thayer Mahan', 'John Paul Jones']\n",
    "print(f\"{naval_officers[0]}, you are invted to dinner!\")\n",
    "print(f\"{naval_officers[1]}, you are invted to dinner!\")\n",
    "print(f\"{naval_officers[2]}, you are invted to dinner!\")"
   ]
  },
  {
   "cell_type": "markdown",
   "id": "dc68b05e",
   "metadata": {},
   "source": [
    "**3-5. Changing Guest List:** One of your guests cannot make it, which is ok because you forgot to invite someone from the Marines. \n",
    "  * Start with the code from above. Add a ``print()`` call at the end of the program stating the name of the guest who can't make it.\n",
    "  * Modify the list, replacing the guest who can't make it with a famous Marine Officer.\n",
    "  * Print a second set of invitation messages, one for each person who is still in your list"
   ]
  },
  {
   "cell_type": "code",
   "execution_count": 14,
   "id": "2319eb77",
   "metadata": {
    "scrolled": true
   },
   "outputs": [
    {
     "name": "stdout",
     "output_type": "stream",
     "text": [
      "John Paul Jones can't make it\n",
      "\n",
      "Wendy B. Lawrence, you are invited to dinner!\n",
      "Alfred Thayer Mahan, you are invited to dinner!\n",
      "John A. Lejeune, you are invited to dinner!\n",
      "\n",
      "\n",
      "Wendy B. Lawrence, you are invted to dinner!\n",
      "Alfred Thayer Mahan, you are invted to dinner!\n",
      "John A. Lejeune, you are invted to dinner!\n"
     ]
    }
   ],
   "source": [
    "print(f\"{naval_officers[-1]} can't make it\\n\")\n",
    "naval_officers[-1] = 'John A. Lejeune'\n",
    "\n",
    "#manual example\n",
    "print(f\"{naval_officers[0]}, you are invited to dinner!\")\n",
    "print(f\"{naval_officers[1]}, you are invited to dinner!\")\n",
    "print(f\"{naval_officers[2]}, you are invited to dinner!\")\n",
    "print(\"\\n\")\n",
    "\n",
    "# for example\n",
    "for officer in naval_officers: \n",
    "    print(f\"{officer}, you are invted to dinner!\")"
   ]
  },
  {
   "cell_type": "markdown",
   "id": "8da7145a",
   "metadata": {},
   "source": [
    "**3-6. More Guests:** You just found a bigger dinner table, so now more space is available. Think of three famous Army Officers to invite to dinner. A joint operation!\n",
    "  * Start with the code from above. Add a ``print()`` call to the end of your program informing people that you found a bigger dinner table.\n",
    "  * Use ``insert()`` to add one new guest to the beginning of your list.\n",
    "  * Use ``insert()`` to add one new guest to the middle of your list.\n",
    "  * Use ``append()`` to add one new guest to the end of your list.\n",
    "  * Print a new set of invitation messages, one for each person in your list."
   ]
  },
  {
   "cell_type": "code",
   "execution_count": 15,
   "id": "0ec23ca8",
   "metadata": {},
   "outputs": [
    {
     "name": "stdout",
     "output_type": "stream",
     "text": [
      "We found a bigger dinner table!\n",
      "\n",
      "Douglas MacArthur, you are invited to dinner!\n",
      "Wendy B. Lawrence, you are invited to dinner!\n",
      "Dwight D. Eisenhower, you are invited to dinner!\n",
      "Alfred Thayer Mahan, you are invited to dinner!\n",
      "John A. Lejeune, you are invited to dinner!\n",
      "George S. Patton, you are invited to dinner!\n"
     ]
    }
   ],
   "source": [
    "print(\"We found a bigger dinner table!\\n\")\n",
    "officers = naval_officers\n",
    "officers.insert(0, 'Douglas MacArthur')\n",
    "officers.insert(2, 'Dwight D. Eisenhower')\n",
    "officers.append('George S. Patton')\n",
    "\n",
    "print(f\"{officers[0]}, you are invited to dinner!\")\n",
    "print(f\"{officers[1]}, you are invited to dinner!\")\n",
    "print(f\"{officers[2]}, you are invited to dinner!\")\n",
    "print(f\"{officers[3]}, you are invited to dinner!\")\n",
    "print(f\"{officers[4]}, you are invited to dinner!\")\n",
    "print(f\"{officers[5]}, you are invited to dinner!\")"
   ]
  },
  {
   "cell_type": "markdown",
   "id": "d285f9be",
   "metadata": {},
   "source": [
    "**3-7. Shrinking Guest List:** You just found out that your new dinner table won't arrive in time for the dinner and you have space for only two guests.\n",
    "\n",
    "  * Start with the program above. Add a new line that prints a message saying that you can invite only two people for dinner.\n",
    "  * Use ``pop()`` to remove guests from your list one at a time until only two names remain in your list. Each time you pop a name from your list, print a message to that person letting them know you're sorry you can't invite them to dinner.\n",
    "  * Print a message to each of the two people still on your list, letting them know they are still invited.\n",
    "  * Use ``del`` to remove the last two names from your list, so you have an empty list. Print your list to make sure you actually have an empty list at the end of your program."
   ]
  },
  {
   "cell_type": "code",
   "execution_count": 16,
   "id": "2127ea1b",
   "metadata": {},
   "outputs": [
    {
     "name": "stdout",
     "output_type": "stream",
     "text": [
      "We can only invite two people for dinner\n",
      "\n",
      "Sorry, George S. Patton, you are no longer invited.\n",
      "Sorry, John A. Lejeune, you are no longer invited.\n",
      "Sorry, Alfred Thayer Mahan, you are no longer invited.\n",
      "Sorry, Dwight D. Eisenhower, you are no longer invited.\n",
      "Douglas MacArthur, you are still invited!\n",
      "Wendy B. Lawrence, you are still invited!\n",
      "[]\n"
     ]
    }
   ],
   "source": [
    "print(\"We can only invite two people for dinner\\n\")\n",
    "print(f\"Sorry, {officers.pop()}, you are no longer invited.\")\n",
    "print(f\"Sorry, {officers.pop()}, you are no longer invited.\")\n",
    "print(f\"Sorry, {officers.pop()}, you are no longer invited.\")\n",
    "print(f\"Sorry, {officers.pop()}, you are no longer invited.\")\n",
    "print(f\"{officers[0]}, you are still invited!\")\n",
    "print(f\"{officers[1]}, you are still invited!\")\n",
    "# have to delete at index zero because once you delete the first officers[0], officers[1] doesn't exist\n",
    "del officers[0], officers[0] \n",
    "print(officers)"
   ]
  },
  {
   "cell_type": "markdown",
   "id": "c184f6be",
   "metadata": {},
   "source": [
    "**3-8. Seeing the World:** Think of at least five places in the world you'd like to visit.\n",
    "* Store the locations in a list. Make sure the list is not in alphabetical order.\n",
    "* Print your list in its original order. Don't worry about printing the list neatly, just print it as a raw Python list.\n",
    "* Use ``sorted()`` to print your list in alphabetical order without modifying the actual list.\n",
    "* Show that your list is still in its original order by printing it.\n",
    "* Use ``sorted()`` to print your list in reverse alphabetical order without changing the order of the original list.\n",
    "* Show that your list is still in its original order by printing it again.\n",
    "* Use ``reverse()`` to change the order of your list. Print the list to show that its order has changed.\n",
    "* Use ``reverse()`` to change the order of your list again. Print the list to show it's back in its original order.\n",
    "* Use ``sort()`` to change your list so it's stored in reverse alphabetical order. Print the list to show that its order has changed."
   ]
  },
  {
   "cell_type": "code",
   "execution_count": 17,
   "id": "1d66fb20",
   "metadata": {},
   "outputs": [
    {
     "name": "stdout",
     "output_type": "stream",
     "text": [
      "['Paris', 'Tokyo', 'New York', 'Manila']\n",
      "['Manila', 'New York', 'Paris', 'Tokyo']\n",
      "['Paris', 'Tokyo', 'New York', 'Manila']\n",
      "['Tokyo', 'Paris', 'New York', 'Manila']\n",
      "['Paris', 'Tokyo', 'New York', 'Manila']\n",
      "['Manila', 'New York', 'Tokyo', 'Paris']\n",
      "['Paris', 'Tokyo', 'New York', 'Manila']\n",
      "['Tokyo', 'Paris', 'New York', 'Manila']\n"
     ]
    }
   ],
   "source": [
    "locations = ['Paris', 'Tokyo', 'New York', 'Manila']\n",
    "print(locations)\n",
    "print(sorted(locations))\n",
    "print(locations)\n",
    "print(sorted(locations, reverse=True))\n",
    "print(locations)\n",
    "locations.reverse()\n",
    "print(locations)\n",
    "locations.reverse()\n",
    "print(locations)\n",
    "locations.sort(reverse=True)\n",
    "print(locations)"
   ]
  },
  {
   "cell_type": "markdown",
   "id": "244d257a",
   "metadata": {},
   "source": [
    "**3-9. Dinner Guests:** Working with one of the programs from **3-4** through **3-7**, use ``len()`` to print a message indicating the number of people you are inviting to dinner."
   ]
  },
  {
   "cell_type": "code",
   "execution_count": 18,
   "id": "35b3fea5",
   "metadata": {},
   "outputs": [
    {
     "name": "stdout",
     "output_type": "stream",
     "text": [
      "I will be inviting 0 people to dinner\n"
     ]
    }
   ],
   "source": [
    "print(f\"I will be inviting {len(officers)} people to dinner\")"
   ]
  },
  {
   "cell_type": "markdown",
   "id": "123e1dd2",
   "metadata": {},
   "source": [
    "**3-10. Every Function:** Think of something you could store in a list. For example, you could make a list of mountains, rivers, countries, cities, languages, or anything else you'd like. Write a program that creates a list containing these items and then uses each function introduced in this chapter at least once. "
   ]
  },
  {
   "cell_type": "code",
   "execution_count": 19,
   "id": "db4b2f57",
   "metadata": {},
   "outputs": [
    {
     "name": "stdout",
     "output_type": "stream",
     "text": [
      "['red', 'yellow', 'green', 'blue']\n",
      "['blue', 'green', 'red', 'yellow']\n",
      "4\n",
      "['red', 'yellow', 'green', 'blue', 'purple']\n",
      "['red', 'yellow', 'green', 'orange', 'blue', 'purple']\n",
      "purple\n",
      "['red', 'yellow', 'green', 'orange', 'blue']\n",
      "['red', 'green', 'orange', 'blue']\n",
      "['blue', 'green', 'orange', 'red']\n",
      "['red', 'orange', 'green', 'blue']\n"
     ]
    }
   ],
   "source": [
    "colors = ['red', 'yellow', 'green', 'blue']\n",
    "print(colors)\n",
    "print(sorted(colors))\n",
    "print(len(colors))\n",
    "colors.append('purple')\n",
    "print(colors)\n",
    "colors.insert(3, 'orange')\n",
    "print(colors)\n",
    "print(colors.pop())\n",
    "print(colors)\n",
    "colors.remove('yellow')\n",
    "print(colors)\n",
    "colors.sort()\n",
    "print(colors)\n",
    "colors.reverse()\n",
    "print(colors)"
   ]
  },
  {
   "cell_type": "markdown",
   "id": "d76af214",
   "metadata": {},
   "source": [
    "**3-11. Intentional Error:** Change an index in one of your programs to produce an index error. Learning how to read and understand Python error messages can significantly speed up your code debugging."
   ]
  },
  {
   "cell_type": "code",
   "execution_count": 20,
   "id": "cb45fd45",
   "metadata": {},
   "outputs": [
    {
     "name": "stdout",
     "output_type": "stream",
     "text": [
      "['Oak', 'Maple', 'Spruce', 'Dogwood']\n"
     ]
    },
    {
     "ename": "IndexError",
     "evalue": "list assignment index out of range",
     "output_type": "error",
     "traceback": [
      "\u001b[1;31m---------------------------------------------------------------------------\u001b[0m",
      "\u001b[1;31mIndexError\u001b[0m                                Traceback (most recent call last)",
      "Cell \u001b[1;32mIn[20], line 3\u001b[0m\n\u001b[0;32m      1\u001b[0m trees \u001b[38;5;241m=\u001b[39m [\u001b[38;5;124m'\u001b[39m\u001b[38;5;124mOak\u001b[39m\u001b[38;5;124m'\u001b[39m, \u001b[38;5;124m'\u001b[39m\u001b[38;5;124mMaple\u001b[39m\u001b[38;5;124m'\u001b[39m, \u001b[38;5;124m'\u001b[39m\u001b[38;5;124mSpruce\u001b[39m\u001b[38;5;124m'\u001b[39m, \u001b[38;5;124m'\u001b[39m\u001b[38;5;124mDogwood\u001b[39m\u001b[38;5;124m'\u001b[39m]\n\u001b[0;32m      2\u001b[0m \u001b[38;5;28mprint\u001b[39m(trees)\n\u001b[1;32m----> 3\u001b[0m trees[\u001b[38;5;241m10\u001b[39m] \u001b[38;5;241m=\u001b[39m \u001b[38;5;124m'\u001b[39m\u001b[38;5;124mRedwood\u001b[39m\u001b[38;5;124m'\u001b[39m\n",
      "\u001b[1;31mIndexError\u001b[0m: list assignment index out of range"
     ]
    }
   ],
   "source": [
    "trees = ['Oak', 'Maple', 'Spruce', 'Dogwood']\n",
    "print(trees)\n",
    "trees[10] = 'Redwood'"
   ]
  }
 ],
 "metadata": {
  "kernelspec": {
   "display_name": "Python 3 (ipykernel)",
   "language": "python",
   "name": "python3"
  },
  "language_info": {
   "codemirror_mode": {
    "name": "ipython",
    "version": 3
   },
   "file_extension": ".py",
   "mimetype": "text/x-python",
   "name": "python",
   "nbconvert_exporter": "python",
   "pygments_lexer": "ipython3",
   "version": "3.11.4"
  }
 },
 "nbformat": 4,
 "nbformat_minor": 5
}
