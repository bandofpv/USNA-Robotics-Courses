{
 "cells": [
  {
   "cell_type": "markdown",
   "id": "246dba5f",
   "metadata": {},
   "source": [
    "<img src=\"https://www.usna.edu/WRC/_files/WRClogos/WRCE-logo-combined-01-crop.png\" width=\"200px\">\n",
    "\n",
    "# Quiz 8: Classes"
   ]
  },
  {
   "cell_type": "markdown",
   "id": "673f81f8",
   "metadata": {},
   "source": [
    "Write a class called `Bike` which has two state variables, `color` and `wheel_size` that are set by passing parameters to the constructor. \n",
    "\n",
    "Add a method called `pedal` that accepts a single parameter called `rotations`. This method should\n",
    "print how far the bike has traveled based on the wheel size. For example if `my_bike` has a\n",
    "wheel_size of 24 then `my_bike.pedal(2)` should print the line \n",
    "    \n",
    "    bike travelled 48 inches"
   ]
  },
  {
   "cell_type": "code",
   "execution_count": 1,
   "id": "66ecaba0",
   "metadata": {},
   "outputs": [],
   "source": [
    "# Bike class here (7pts)\n",
    "\n",
    "class Bike():\n",
    "    def __init__(self, color, wheel_size):\n",
    "        self.color = color\n",
    "        self.wheel_size = wheel_size\n",
    "        \n",
    "    def pedal(self, rotations):\n",
    "        print(f\"bike travelled {self.wheel_size * rotations} inches\")\n"
   ]
  },
  {
   "cell_type": "markdown",
   "id": "49f182a4",
   "metadata": {},
   "source": [
    "*Important!* If you change the Bike class above, make sure you restart your kernel before running the code below."
   ]
  },
  {
   "cell_type": "code",
   "execution_count": 2,
   "id": "b53ee75d",
   "metadata": {},
   "outputs": [
    {
     "name": "stdout",
     "output_type": "stream",
     "text": [
      "bike travelled 240 inches\n"
     ]
    }
   ],
   "source": [
    "# Create a red bike with 24\" wheels (1pt)\n",
    "\n",
    "red_bike = Bike('red', 24)\n",
    "\n",
    "# Create a blue bike with 36\" wheels (1pt)\n",
    "\n",
    "blue_bike = Bike('blue', 36)\n",
    "\n",
    "# Pedal the red bike 10 rotations (this should display the message: bike has travelled 240 inches) (2pts)\n",
    "\n",
    "red_bike.pedal(10)"
   ]
  }
 ],
 "metadata": {
  "kernelspec": {
   "display_name": "Python 3 (ipykernel)",
   "language": "python",
   "name": "python3"
  },
  "language_info": {
   "codemirror_mode": {
    "name": "ipython",
    "version": 3
   },
   "file_extension": ".py",
   "mimetype": "text/x-python",
   "name": "python",
   "nbconvert_exporter": "python",
   "pygments_lexer": "ipython3",
   "version": "3.11.4"
  }
 },
 "nbformat": 4,
 "nbformat_minor": 5
}
