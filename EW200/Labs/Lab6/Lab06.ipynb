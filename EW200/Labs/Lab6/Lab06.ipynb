{
 "cells": [
  {
   "cell_type": "markdown",
   "id": "2bf5c1b2",
   "metadata": {},
   "source": [
    "<img src=\"https://www.usna.edu/WRC/_files/WRClogos/WRCE-logo-combined-01-crop.png\" width=\"200px\">\n",
    "\n",
    "# Lab 6\n",
    "\n",
    "### Nominatim API (OpenStreetMap)"
   ]
  },
  {
   "cell_type": "code",
   "execution_count": 10,
   "id": "ba42f9e4",
   "metadata": {},
   "outputs": [
    {
     "name": "stdout",
     "output_type": "stream",
     "text": [
      "[\n",
      "  {\n",
      "    \"place_id\": 3809116,\n",
      "    \"licence\": \"Data \\u00a9 OpenStreetMap contributors, ODbL 1.0. http://osm.org/copyright\",\n",
      "    \"osm_type\": \"relation\",\n",
      "    \"osm_id\": 133571,\n",
      "    \"lat\": \"38.9786401\",\n",
      "    \"lon\": \"-76.492786\",\n",
      "    \"class\": \"boundary\",\n",
      "    \"type\": \"administrative\",\n",
      "    \"place_rank\": 16,\n",
      "    \"importance\": 0.5722443958642912,\n",
      "    \"addresstype\": \"city\",\n",
      "    \"name\": \"Annapolis\",\n",
      "    \"display_name\": \"Annapolis, Anne Arundel County, Maryland, United States\",\n",
      "    \"boundingbox\": [\n",
      "      \"38.9424993\",\n",
      "      \"39.0025548\",\n",
      "      \"-76.5395832\",\n",
      "      \"-76.4686762\"\n",
      "    ]\n",
      "  }\n",
      "]\n"
     ]
    }
   ],
   "source": [
    "import warnings\n",
    "warnings.filterwarnings('ignore') # ignore warnings from usna \n",
    "import requests\n",
    "import json\n",
    "\n",
    "location = \"annapolis, md\"\n",
    "resp = requests.get(f\"https://nominatim.openstreetmap.org/search?q={location}&format=json\", verify=0)\n",
    "data = resp.json()\n",
    "print(json.dumps(data, indent=2)) # print data from nominatim api response"
   ]
  },
  {
   "cell_type": "code",
   "execution_count": 2,
   "id": "cab03cf3",
   "metadata": {},
   "outputs": [
    {
     "name": "stdout",
     "output_type": "stream",
     "text": [
      "Annapolis, Md is at 38.9786401, -76.492786\n"
     ]
    }
   ],
   "source": [
    "print(f\"{location.title()} is at {data[0]['lat']}, {data[0]['lon']}\")"
   ]
  },
  {
   "cell_type": "markdown",
   "id": "e5785f4c",
   "metadata": {},
   "source": [
    "### OpenWeather API"
   ]
  },
  {
   "cell_type": "code",
   "execution_count": 4,
   "id": "d11e9ccb",
   "metadata": {},
   "outputs": [
    {
     "name": "stdout",
     "output_type": "stream",
     "text": [
      "Currently the weather in Annapolis, MD is mist and 65°F\n"
     ]
    }
   ],
   "source": [
    "import warnings\n",
    "warnings.filterwarnings('ignore')\n",
    "import requests\n",
    "import json\n",
    "\n",
    "def kelvinToFahrenheit(temp):\n",
    "    return int((temp - 273.15) * 9/5 + 32)\n",
    "\n",
    "lat = 38.9786401\n",
    "lon = -76.492786\n",
    "api_key = \"197b9050b68f6d378aebcc356d83f3e5\"\n",
    "resp = requests.get(f\"https://api.openweathermap.org/data/2.5/weather?lat={lat}&lon={lon}&appid={api_key}\", verify=0)\n",
    "data = resp.json()\n",
    "\n",
    "weather_description = data['weather'][0]['description']\n",
    "temperature = data['main']['temp']\n",
    "print(f\"Currently the weather in Annapolis, MD is {weather_description} and {kelvinToFahrenheit(temperature)}°F\")"
   ]
  },
  {
   "cell_type": "markdown",
   "id": "17f2a89b",
   "metadata": {},
   "source": [
    "### Writing a Complete Application"
   ]
  },
  {
   "cell_type": "code",
   "execution_count": 4,
   "id": "5a985da1",
   "metadata": {},
   "outputs": [
    {
     "name": "stdout",
     "output_type": "stream",
     "text": [
      "Enter a location: \n",
      "san francisco, ca\n",
      "Currently the weather in San Francisco, Ca is few clouds and 53°F\n"
     ]
    }
   ],
   "source": [
    "import warnings\n",
    "warnings.filterwarnings('ignore')\n",
    "import requests\n",
    "import json\n",
    "\n",
    "def kelvinToFahrenheit(temp):\n",
    "    return int((temp - 273.15) * 9/5 + 32)\n",
    "\n",
    "location = input(\"Enter a location: \\n\") # prompt user to input a location to find location and weather data\n",
    "loc_resp = requests.get(f\"https://nominatim.openstreetmap.org/search?q={location}&format=json\", verify=0)\n",
    "loc_data = loc_resp.json()\n",
    "\n",
    "lat = loc_data[0]['lat']\n",
    "lon = loc_data[0]['lon']\n",
    "api_key = \"197b9050b68f6d378aebcc356d83f3e5\"\n",
    "weather_resp = requests.get(f\"https://api.openweathermap.org/data/2.5/weather?lat={lat}&lon={lon}&appid={api_key}\", verify=0)\n",
    "weather_data = weather_resp.json()\n",
    "\n",
    "weather_description = weather_data['weather'][0]['description']\n",
    "temperature = weather_data['main']['temp']\n",
    "print(f\"Currently the weather in {location.title()} is {weather_description} and {kelvinToFahrenheit(temperature)}°F\")"
   ]
  },
  {
   "cell_type": "markdown",
   "id": "887133c0",
   "metadata": {},
   "source": [
    "### Bonus: Error Handling"
   ]
  },
  {
   "cell_type": "code",
   "execution_count": 5,
   "id": "fde58fe7",
   "metadata": {},
   "outputs": [
    {
     "name": "stdout",
     "output_type": "stream",
     "text": [
      "Enter a location: \n",
      "pythonville, py\n",
      "Sorry, there is no data for Pythonville, Py\n"
     ]
    }
   ],
   "source": [
    "import warnings\n",
    "warnings.filterwarnings('ignore')\n",
    "import requests\n",
    "import json\n",
    "\n",
    "location = input(\"Enter a location: \\n\")\n",
    "loc_resp = requests.get(f\"https://nominatim.openstreetmap.org/search?q={location}&format=json\", verify=0)\n",
    "loc_data = loc_resp.json() # loc_data will return an empty string if there is no data for the given location\n",
    "\n",
    "if loc_data: \n",
    "    lat = loc_data[0]['lat']\n",
    "    lon = loc_data[0]['lon']\n",
    "    api_key = \"197b9050b68f6d378aebcc356d83f3e5\"\n",
    "    weather_resp = requests.get(f\"https://api.openweathermap.org/data/2.5/weather?lat={lat}&lon={lon}&appid={api_key}\", verify=0)\n",
    "    weather_data = weather_resp.json()\n",
    "\n",
    "    weather_description = weather_data['weather'][0]['description']\n",
    "    temperature = weather_data['main']['temp']\n",
    "    print(f\"Currently the weather in {location.title()} is {weather_description} and {kelvinToFahrenheit(temperature)}°F\")\n",
    "\n",
    "else:\n",
    "    print(f\"Sorry, there is no data for {location.title()}\")"
   ]
  },
  {
   "cell_type": "code",
   "execution_count": null,
   "id": "a7b1cfa8",
   "metadata": {},
   "outputs": [],
   "source": []
  }
 ],
 "metadata": {
  "kernelspec": {
   "display_name": "Python 3 (ipykernel)",
   "language": "python",
   "name": "python3"
  },
  "language_info": {
   "codemirror_mode": {
    "name": "ipython",
    "version": 3
   },
   "file_extension": ".py",
   "mimetype": "text/x-python",
   "name": "python",
   "nbconvert_exporter": "python",
   "pygments_lexer": "ipython3",
   "version": "3.11.4"
  }
 },
 "nbformat": 4,
 "nbformat_minor": 5
}
