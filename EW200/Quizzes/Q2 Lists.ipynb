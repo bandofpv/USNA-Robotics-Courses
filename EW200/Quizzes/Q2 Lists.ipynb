{
 "cells": [
  {
   "cell_type": "markdown",
   "id": "6c59d6fe",
   "metadata": {},
   "source": [
    "<img src=\"https://www.usna.edu/WRC/_files/WRClogos/WRCE-logo-combined-01-crop.png\" width=\"200px\">\n",
    "\n",
    "# Quiz 2: Lists"
   ]
  },
  {
   "cell_type": "markdown",
   "id": "bc9b9b49",
   "metadata": {},
   "source": [
    "Write your code beneath each question and include a print statement to show your answer"
   ]
  },
  {
   "cell_type": "code",
   "execution_count": 1,
   "id": "3e6f4366",
   "metadata": {},
   "outputs": [
    {
     "name": "stdout",
     "output_type": "stream",
     "text": [
      "[2, 4, 8, 10]\n",
      "[1, 3, 7, 9]\n",
      "[2, 4, 8, 10, 1, 3, 7, 9]\n",
      "[1, 2, 3, 4, 7, 8, 9, 10]\n",
      "[1, 2, 3, 4, 5, 6, 7, 8, 9, 10]\n",
      "[1, 2, 3, 4, 5, 6, 7, 9, 10]\n"
     ]
    }
   ],
   "source": [
    "# 1. create a list of the numbers 2, 4, 8, 10 called even (1pt)\n",
    "even = [2, 4, 8, 10]\n",
    "print(even)\n",
    "\n",
    "# 2. create another list of numbers with 1, 3, 7, 9 called odd (1pt)\n",
    "odd = [1, 3, 7, 9]\n",
    "print(odd)\n",
    "\n",
    "# 3. Combine even and odd into a single list called numbers (2pts)\n",
    "numbers = even + odd\n",
    "print(numbers)\n",
    "\n",
    "# 4. Sort numbers so they are in order from 1 - 10 (2pts)\n",
    "numbers.sort()\n",
    "print(numbers)\n",
    "\n",
    "# 5. Insert 5 and 6 into the correct places in the list (2pts)\n",
    "numbers.insert(4, 5)\n",
    "numbers.insert(5, 6)\n",
    "print(numbers)\n",
    "\n",
    "# 6. Remove 8 using the pop() function (2pts)\n",
    "numbers.pop(-3)\n",
    "print(numbers)\n"
   ]
  }
 ],
 "metadata": {
  "kernelspec": {
   "display_name": "Python 3 (ipykernel)",
   "language": "python",
   "name": "python3"
  },
  "language_info": {
   "codemirror_mode": {
    "name": "ipython",
    "version": 3
   },
   "file_extension": ".py",
   "mimetype": "text/x-python",
   "name": "python",
   "nbconvert_exporter": "python",
   "pygments_lexer": "ipython3",
   "version": "3.11.4"
  }
 },
 "nbformat": 4,
 "nbformat_minor": 5
}
