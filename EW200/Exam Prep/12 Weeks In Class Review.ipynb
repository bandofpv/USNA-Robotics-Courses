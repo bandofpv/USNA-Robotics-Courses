{
 "cells": [
  {
   "cell_type": "code",
   "execution_count": 1,
   "metadata": {
    "id": "ceQx0FHOjYde"
   },
   "outputs": [],
   "source": [
    "salary_dict = {\n",
    "    '1/C': 400,\n",
    "    '2/C': 300,\n",
    "    '3/C': 200,\n",
    "    '4/C': 100\n",
    "}"
   ]
  },
  {
   "cell_type": "code",
   "execution_count": 3,
   "metadata": {
    "id": "jiAJsbz9p_np"
   },
   "outputs": [],
   "source": [
    "# Create a class called MidPay.\n",
    "# Attributes should be: name, paygrade, salary_dict, total_salary (should default to 0)\n",
    "# Methods should be make_payment(make_payment), get_annual_salary(return & prints total of last 12 payments), and promote (bump up in rank)\n",
    "\n",
    "class MidPay():\n",
    "    def __init__(self, name, paygrade, salary_dict, total_salary = []):\n",
    "        self.name = name\n",
    "        self.paygrade = paygrade # ie 4/C\n",
    "        self.salary_dict = salary_dict\n",
    "        self.total_salary = total_salary # list\n",
    "\n",
    "    def make_payment(self):\n",
    "        payment = salary_dict[self.paygrade]\n",
    "        self.total_salary.append(payment)\n",
    "        print(\"Paid\")\n",
    "\n",
    "    def get_annual_salary(self):\n",
    "        print(sum(self.total_salary[-12:]))\n",
    "        return sum(self.total_salary[-12:])\n",
    "\n",
    "    def promote(self, new_paygrade):\n",
    "        try:\n",
    "            print(f\"{self.name} was promoted! He/She should now earn {salary_dict[new_paygrade]}\")\n",
    "        except Exception as e:\n",
    "            print(f\"NOT A PAYGRADE. Error {e}\")\n",
    "        else:\n",
    "            self.paygrade = new_paygrade\n"
   ]
  },
  {
   "cell_type": "code",
   "execution_count": 4,
   "metadata": {
    "colab": {
     "base_uri": "https://localhost:8080/"
    },
    "id": "r0Q0Oy6npkXl",
    "outputId": "b0a0ebc9-609b-43d0-f413-1ba8cecc82de"
   },
   "outputs": [
    {
     "name": "stdout",
     "output_type": "stream",
     "text": [
      "Paid\n",
      "Paid\n",
      "Paid\n",
      "Paid\n",
      "Paid\n",
      "Paid\n",
      "1200\n"
     ]
    },
    {
     "data": {
      "text/plain": [
       "1200"
      ]
     },
     "execution_count": 4,
     "metadata": {},
     "output_type": "execute_result"
    }
   ],
   "source": [
    "# make a 3/C instance of MidPay\n",
    "# call Pay me 6 times promote me 8 times, and get annual salary for you taxes!\n",
    "allan_pay = MidPay('Allan', '3/C', salary_dict)\n",
    "for i in range(6):\n",
    "    allan_pay.make_payment()\n",
    "allan_pay.get_annual_salary()"
   ]
  },
  {
   "cell_type": "code",
   "execution_count": 5,
   "metadata": {
    "colab": {
     "base_uri": "https://localhost:8080/",
     "height": 52
    },
    "id": "T68WyU0O1ZqV",
    "outputId": "36892218-6c15-433e-b75f-40340be5455b"
   },
   "outputs": [
    {
     "name": "stdout",
     "output_type": "stream",
     "text": [
      "NOT A PAYGRADE. Error '2/c'\n"
     ]
    },
    {
     "data": {
      "text/plain": [
       "'3/C'"
      ]
     },
     "execution_count": 5,
     "metadata": {},
     "output_type": "execute_result"
    }
   ],
   "source": [
    "allan_pay.promote('2/c')\n",
    "allan_pay.paygrade"
   ]
  },
  {
   "cell_type": "code",
   "execution_count": 6,
   "metadata": {
    "colab": {
     "base_uri": "https://localhost:8080/"
    },
    "id": "sCO0pdNe1kMs",
    "outputId": "1a7ad943-2e0c-4321-daae-4b70f68d4a86"
   },
   "outputs": [
    {
     "name": "stdout",
     "output_type": "stream",
     "text": [
      "Paid\n",
      "Paid\n",
      "Paid\n",
      "Paid\n",
      "Paid\n",
      "Paid\n",
      "Paid\n",
      "Paid\n",
      "2400\n"
     ]
    },
    {
     "data": {
      "text/plain": [
       "2400"
      ]
     },
     "execution_count": 6,
     "metadata": {},
     "output_type": "execute_result"
    }
   ],
   "source": [
    "for i in range(8):\n",
    "    allan_pay.make_payment()\n",
    "allan_pay.get_annual_salary()"
   ]
  },
  {
   "cell_type": "code",
   "execution_count": 7,
   "metadata": {
    "id": "dza18yEbp7Uv"
   },
   "outputs": [],
   "source": [
    "my_poem = '''\n",
    "Nice to meet you, where you been?\n",
    "I could show you incredible things\n",
    "Magic, madness, heaven, sin\n",
    "Saw you there and I thought\n",
    "\"Oh, my God, look at that face\n",
    "You look like my next mistake\n",
    "Love's a game, wanna play?\" Ay\n",
    "New money, suit and tie\n",
    "I can read you like a magazine\n",
    "Ain't it funny? Rumors fly\n",
    "And I know you heard about me\n",
    "So hey, let's be friends\n",
    "I'm dying to see how this one ends\n",
    "Grab your passport and my hand\n",
    "I can make the bad guys good for a weekend\n",
    "So it's gonna be forever\n",
    "Or it's gonna go down in flames\n",
    "You can tell me when it's over, mm\n",
    "If the high was worth the pain\n",
    "Got a long list of ex-lovers\n",
    "They'll tell you I'm insane\n",
    "'Cause you know I love the players\n",
    "And you love the game\n",
    "'Cause we're young, and we're reckless\n",
    "We'll take this way too far\n",
    "It'll leave you breathless, mm\n",
    "Or with a nasty scar\n",
    "Got a long list of ex-lovers\n",
    "They'll tell you I'm insane\n",
    "But I've got a blank space, baby\n",
    "And I'll write your name\n",
    "Cherry lips, crystal skies\n",
    "I could show you incredible things\n",
    "Stolen kisses, pretty lies\n",
    "You're the King, baby, I'm your Queen\n",
    "Find out what you want\n",
    "Be that girl for a month\n",
    "Wait, the worst is yet to come, oh, no\n",
    "Screaming, crying, perfect storms\n",
    "I can make all the tables turn\n",
    "Rose garden filled with thorns\n",
    "Keep you second guessing like\n",
    "\"Oh, my God, who is she?\"\n",
    "I get drunk on jealousy\n",
    "But you'll come back each time you leave\n",
    "'Cause, darling, I'm a nightmare dressed like a daydream\n",
    "So it's gonna be forever\n",
    "Or it's gonna go down in flames\n",
    "You can tell me when it's over, mm\n",
    "If the high was worth the pain\n",
    "Got a long list of ex-lovers\n",
    "They'll tell you I'm insane\n",
    "'Cause you know I love the players\n",
    "And you love the game\n",
    "'Cause we're young, and we're reckless (oh)\n",
    "We'll take this way too far\n",
    "It'll leave you breathless, mm (oh)\n",
    "Or with a nasty scar\n",
    "Got a long list of ex-lovers\n",
    "They'll tell you I'm insane (insane)\n",
    "But I've got a blank space, baby\n",
    "And I'll write your name\n",
    "Boys only want love if it's torture\n",
    "Don't say I didn't, say I didn't warn ya\n",
    "Boys only want love if it's torture\n",
    "Don't say I didn't, say I didn't warn ya\n",
    "So it's gonna be forever\n",
    "Or it's gonna go down in flames\n",
    "You can tell me when it's over (over)\n",
    "If the high was worth the pain\n",
    "Got a long list of ex-lovers\n",
    "They'll tell you I'm insane (I'm insane)\n",
    "'Cause you know I love the players\n",
    "And you love the game\n",
    "'Cause we're young, and we're reckless\n",
    "We'll take this way too far (ooh)\n",
    "It'll leave you breathless, mm\n",
    "Or with a nasty scar (leave a nasty scar)\n",
    "Got a long list of ex-lovers\n",
    "They'll tell you I'm insane\n",
    "But I've got a blank space, baby\n",
    "And I'll write your name\n",
    "'''"
   ]
  },
  {
   "cell_type": "code",
   "execution_count": 8,
   "metadata": {
    "id": "RsresMwFq-uE"
   },
   "outputs": [],
   "source": [
    "# save text to a file\n",
    "with open('poem.txt', 'w') as f:\n",
    "    f.write(my_poem)"
   ]
  },
  {
   "cell_type": "code",
   "execution_count": 9,
   "metadata": {
    "colab": {
     "base_uri": "https://localhost:8080/"
    },
    "id": "Y4TzVE0-rHq7",
    "outputId": "8cac452e-0dfc-49b7-d87e-6dd918710b87"
   },
   "outputs": [
    {
     "data": {
      "text/plain": [
       "83"
      ]
     },
     "execution_count": 9,
     "metadata": {},
     "output_type": "execute_result"
    }
   ],
   "source": [
    "# count number of lines in the poem\n",
    "with open('poem.txt', 'r') as f:\n",
    "    lines = f.readlines()\n",
    "\n",
    "len(lines)"
   ]
  },
  {
   "cell_type": "code",
   "execution_count": 10,
   "metadata": {
    "colab": {
     "base_uri": "https://localhost:8080/"
    },
    "id": "1XjIB_tlrOz3",
    "outputId": "9c06a6da-5707-465b-a531-2c84fc53f77e"
   },
   "outputs": [
    {
     "data": {
      "text/plain": [
       "512"
      ]
     },
     "execution_count": 10,
     "metadata": {},
     "output_type": "execute_result"
    }
   ],
   "source": [
    "# count number of words in the poem\n",
    "with open('poem.txt', 'r') as f:\n",
    "    text = f.read()\n",
    "\n",
    "# IMPORTANT\n",
    "len(text.split())"
   ]
  },
  {
   "cell_type": "code",
   "execution_count": 12,
   "metadata": {
    "colab": {
     "base_uri": "https://localhost:8080/"
    },
    "id": "Qf034hj7srWm",
    "outputId": "e7a879be-38ff-4b1e-cff5-0b34b93bbaa7"
   },
   "outputs": [
    {
     "name": "stdout",
     "output_type": "stream",
     "text": [
      "That file does not exist\n"
     ]
    }
   ],
   "source": [
    "# read the file! handle an exception if the file is not found\n",
    "try:\n",
    "    with open('poem____.txt', 'r') as f:\n",
    "        print(f.read())\n",
    "except FileNotFoundError:\n",
    "    print(\"That file does not exist\")"
   ]
  },
  {
   "cell_type": "code",
   "execution_count": 13,
   "metadata": {
    "id": "MWXAZ_dArSbR"
   },
   "outputs": [],
   "source": [
    "weather_data = [{\n",
    "    'New York': {\n",
    "        'temperature_C': [20.5, 21.2, 22.0, 21.8, 19.7], #temperature over the past 5 hours\n",
    "        'humidity_percent': 65.0,\n",
    "        'precipitation_mm': 0.0\n",
    "    },\n",
    "    'Los Angeles': {\n",
    "        'temperature_C': [25.0, 26.5, 26.8, 27.2, 25.9],\n",
    "        'humidity_percent': 70.5,\n",
    "        'precipitation_mm': 0.5\n",
    "    },\n",
    "    'Chicago': {\n",
    "        'temperature_C': [18.2, 17.8, 19.0, 18.5, 20.1],\n",
    "        'humidity_percent': 55.8,\n",
    "        'precipitation_mm': 0.0\n",
    "    },\n",
    "    'Miami': {\n",
    "        'temperature_C': [30.8, 31.5, 31.2, 32.0, 30.9],\n",
    "        'humidity_percent': 75.2,\n",
    "        'precipitation_mm': 1.2\n",
    "    },\n",
    "    # ... Add more cities and data here ...\n",
    "    'London': {\n",
    "        'temperature_C': [15.3, 14.8, 16.0, 15.7, 14.5],\n",
    "        'humidity_percent': 80.1,\n",
    "        'precipitation_mm': 3.5\n",
    "    }\n",
    "}]"
   ]
  },
  {
   "cell_type": "code",
   "execution_count": 14,
   "metadata": {
    "colab": {
     "base_uri": "https://localhost:8080/"
    },
    "id": "o2Lon3HrruMK",
    "outputId": "4bc8ac04-9d9a-4675-d1cf-0a0678cd7305"
   },
   "outputs": [
    {
     "data": {
      "text/plain": [
       "20.5"
      ]
     },
     "execution_count": 14,
     "metadata": {},
     "output_type": "execute_result"
    }
   ],
   "source": [
    "# get the 1st recorded temp for New York\n",
    "weather_data[0]['New York']['temperature_C'][0]"
   ]
  },
  {
   "cell_type": "code",
   "execution_count": 15,
   "metadata": {
    "colab": {
     "base_uri": "https://localhost:8080/"
    },
    "id": "wfcYtvVcsHHi",
    "outputId": "cf342e30-fc00-4eb3-8f94-aa267727af40"
   },
   "outputs": [
    {
     "data": {
      "text/plain": [
       "{'London': 15.26}"
      ]
     },
     "execution_count": 15,
     "metadata": {},
     "output_type": "execute_result"
    }
   ],
   "source": [
    "# make a function that just returns a dict with the city and average temperature (avg of all recorded temps)\n",
    "\n",
    "def avg_temp(city):\n",
    "    temps = weather_data[0][city]['temperature_C']\n",
    "    avg_temp = sum(temps) / len(temps)\n",
    "    return {city: avg_temp}\n",
    "\n",
    "avg_temp('London')"
   ]
  },
  {
   "cell_type": "code",
   "execution_count": null,
   "metadata": {},
   "outputs": [],
   "source": []
  }
 ],
 "metadata": {
  "colab": {
   "provenance": []
  },
  "kernelspec": {
   "display_name": "Python 3 (ipykernel)",
   "language": "python",
   "name": "python3"
  },
  "language_info": {
   "codemirror_mode": {
    "name": "ipython",
    "version": 3
   },
   "file_extension": ".py",
   "mimetype": "text/x-python",
   "name": "python",
   "nbconvert_exporter": "python",
   "pygments_lexer": "ipython3",
   "version": "3.11.4"
  }
 },
 "nbformat": 4,
 "nbformat_minor": 1
}
