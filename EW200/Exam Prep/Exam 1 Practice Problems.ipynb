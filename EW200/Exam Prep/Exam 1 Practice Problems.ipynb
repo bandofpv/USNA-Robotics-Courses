{
 "cells": [
  {
   "cell_type": "markdown",
   "id": "42818ec4",
   "metadata": {},
   "source": [
    "<img src=\"https://www.usna.edu/WRC/_files/WRClogos/WRCE-logo-combined-01-crop.png\" width=\"200px\">\n",
    "\n",
    "# EW200: Introduction to Programming and Design\n",
    "\n",
    "## Exam 1 Practice Problems\n"
   ]
  },
  {
   "cell_type": "markdown",
   "id": "f3a615aa",
   "metadata": {},
   "source": [
    "## Instructions:  \n",
    "•\tExam 1 is 50 minutes. \n",
    "\n",
    "•\tExam is closed book, closed notes, but you are allowed one 8.5” x 11” piece of paper with your own **handwritten notes** on it (front and back). This will be checked by your instructor.\n",
    "\n",
    "•\tThe only material you are allowed to use is your handwritten notes. You must not access any other page on your computer at any time.  \n",
    "\n",
    "•\tWhen finished return your exam and any handwritten notes to your instructor and leave the room quietly.  \n"
   ]
  },
  {
   "cell_type": "markdown",
   "id": "add31764",
   "metadata": {},
   "source": [
    "## Part 1: Variables and Simple Data Types "
   ]
  },
  {
   "cell_type": "markdown",
   "id": "336abeac",
   "metadata": {},
   "source": [
    "**1.0** Data types\n",
    "* List three data types you know and indicate the python function to check for a variable type\n",
    "\n",
    "\n",
    "* In the code `x = '1'` what data type is x? Show code to convert x to an integer and then to a float\n",
    "\n",
    "\n",
    "* Create a variable and assign to that variable the number one trillion one hundred and one using _ to group digits\n",
    "\n",
    "\n",
    "* Initialize multiple variables (3 or more) in a single line of code \n",
    "\n",
    "\n",
    "* Create a constant variable with a number of your choice\n",
    "\n",
    "\n",
    "* Create an empty string\n",
    "\n",
    "\n",
    "* Create an unknown variable type\n"
   ]
  },
  {
   "cell_type": "markdown",
   "id": "020740b2",
   "metadata": {},
   "source": [
    "**1-1.** Use a variable to save a person's full name and print a message to greet that person's name in lowercase, uppercase, and title case."
   ]
  },
  {
   "cell_type": "markdown",
   "id": "16abdda7",
   "metadata": {},
   "source": [
    "**1-2.** Find a quote from a famous person you admire. Print the quote and the name of its author. Represent the famous person's name using a variable called famous_person. Then compose your message and represent it with a new variable called message. Print your message: your output should look something like the following, **including the quotation marks**:\n",
    "\n",
    "        Albert Einstein once said, \"A person who never made a mistake never tried anything new\""
   ]
  },
  {
   "cell_type": "markdown",
   "id": "0c8a8a6b",
   "metadata": {},
   "source": [
    "**1-3.** Use a variable to represent a person's first and last name, and include some whitespace characters at the beginning, middle, and end of the first and last name. Make sure you use each character combination, \"\\t\" and \"\\n\", at least once. Print the name using each of the three stripping functions, lstrip(), rstrip(), and strip()"
   ]
  },
  {
   "cell_type": "markdown",
   "id": "c15108ae",
   "metadata": {},
   "source": [
    "**1-4** In the message created in question 1-2, write a loop to count the number of vowels you have in the message."
   ]
  },
  {
   "cell_type": "markdown",
   "id": "8b610970",
   "metadata": {},
   "source": [
    "## Part 2: Lists "
   ]
  },
  {
   "cell_type": "markdown",
   "id": "0e6dc50f",
   "metadata": {},
   "source": [
    "**2-1.** Write code to ask and record five fruits from a user and the cost of these fruits.\n",
    "\n",
    "* Store the fruits and prices in two lists named `fruits` and `prices` . \n",
    "\n",
    "\n",
    "* Print your list of fruits and the corresponding prices using a formatted message.\n",
    "\n",
    "\n",
    "* Use code to identify the most expensive fruit in the list and print out the fruit name and price\n",
    "\n",
    "\n",
    "* Compute the total cost for the list of fruits\n"
   ]
  },
  {
   "cell_type": "markdown",
   "id": "de242b5c",
   "metadata": {},
   "source": [
    "**2-2.** Consider the list of fruits above\n",
    "\n",
    "* Duplicate the first fruit inside the list by inserting it at the end of the list of fruits \n",
    "\n",
    "\n",
    "* Show code to remove any duplicate from the list\n",
    "\n",
    "\n",
    "* Print the list in sorted alphabetical order without modifying the actual list value.\n",
    "\n",
    "\n",
    "* Print your list in reverse alphabetical order without changing the order of the original list.\n"
   ]
  },
  {
   "cell_type": "markdown",
   "id": "58e2a07a",
   "metadata": {},
   "source": [
    "**2-5.** Consider the list of fruits in 2-1\n",
    "\n",
    "* Extract the last 3 fruits from the list and save them into a new list\n",
    "\n",
    "\n",
    "* Sort your list in alphabetical order and print the list to show that its order has changed.\n",
    "\n",
    "\n",
    "* Change the order of your new list again in reverse alphabetical order and print out the list.\n"
   ]
  },
  {
   "cell_type": "markdown",
   "id": "9ded6472",
   "metadata": {},
   "source": [
    "**2-6** Show code to make a copy of the list in 2-1\n",
    "\n",
    "\n",
    "* Remove two items from your list\n",
    "\n",
    "\n",
    "* Print the length of your new list\n",
    "\n",
    "\n",
    "* Show code to check if any fruits in the list start with the letter `m` and print out that fruit.  Otherwise print None."
   ]
  },
  {
   "cell_type": "markdown",
   "id": "b841ef5c",
   "metadata": {},
   "source": [
    "**2.7** List comprehension, slicing, operations on lists\n",
    "\n",
    "* Use list comprehension to generate a list of the odd numbers from 1 to 1001\n",
    "\n",
    "\n",
    "* Print messages to display: the first two items in the list, the middle item in the list, and the last four items in the list.\n",
    "\n",
    "\n",
    "* Print out on separate lines messages to display the length of the list, the min value in the list, the max vaule in the list, the sum of numbers in the list, and the average value of numbers in the list."
   ]
  },
  {
   "cell_type": "markdown",
   "id": "0b0a0faa",
   "metadata": {},
   "source": [
    "**2.8** List and conditional statements\n",
    "\n",
    "* Make a list of integers from 100 to 0 sampled as 100, 95, 90, ...., 0\n",
    "\n",
    "\n",
    "* Write code to count the list values that are divisible by 5.\n",
    "\n",
    "\n",
    "* Write code to print out the list values that are divisible by 5 but not divisble by 2\n"
   ]
  },
  {
   "cell_type": "markdown",
   "id": "484cb553",
   "metadata": {},
   "source": [
    "## Part 3: Dictionnaries"
   ]
  },
  {
   "cell_type": "markdown",
   "id": "83fef183",
   "metadata": {},
   "source": [
    "Consider the following dictionary.\n",
    "```\n",
    "users = {\n",
    "    'aeinstein': {\n",
    "        'first': 'albert',\n",
    "        'last': 'einstein',\n",
    "        'location': 'princeton',\n",
    "        'age': 76,\n",
    "        },\n",
    "\n",
    "    'mcurie': {\n",
    "        'first': 'marie',\n",
    "        'last': 'curie',\n",
    "        'location': 'paris',\n",
    "        'age': 66,\n",
    "        },\n",
    "        \n",
    "     'inewton': {\n",
    "        'first': 'Issaac',\n",
    "        'last': 'Newton',\n",
    "        'location': 'london',\n",
    "        'age': 84,\n",
    "        },\n",
    "\n",
    "    }\n",
    "```\n",
    "**3-1.** Write code to print out detailed info about each scientist including:\n",
    "first and last name as a title \n",
    "    indented location as a title\n",
    "    indented age at death\n",
    "\n",
    "\n",
    "**3-2.** Show code to print out the most aged scientist\n",
    "\n",
    "\n",
    "**3-3.** Write code to extract all scientist ages and sort them out\n",
    "\n",
    "\n",
    "**3-4.** Write code to print all scientists from the yougest to the oldest as: Full name and age\n"
   ]
  },
  {
   "cell_type": "code",
   "execution_count": 3,
   "id": "a7d7ffca",
   "metadata": {},
   "outputs": [
    {
     "name": "stdout",
     "output_type": "stream",
     "text": [
      "84\n",
      "[66, 76, 84]\n",
      "mcurie\n",
      "aeinstein\n",
      "inewton\n"
     ]
    }
   ],
   "source": [
    "users = {\n",
    "    'aeinstein': {\n",
    "        'first': 'albert',\n",
    "        'last': 'einstein',\n",
    "        'location': 'princeton',\n",
    "        'age': 76,\n",
    "        },\n",
    "\n",
    "    'mcurie': {\n",
    "        'first': 'marie',\n",
    "        'last': 'curie',\n",
    "        'location': 'paris',\n",
    "        'age': 66,\n",
    "        },\n",
    "        \n",
    "     'inewton': {\n",
    "        'first': 'Issaac',\n",
    "        'last': 'Newton',\n",
    "        'location': 'london',\n",
    "        'age': 84,\n",
    "        },\n",
    "\n",
    "    }\n",
    "\n",
    "ages = []\n",
    "for v in users.values():\n",
    "    ages.append(v['age'])\n",
    "    \n",
    "print(max(ages))\n",
    "print(sorted(ages))\n",
    "for age in sorted(ages):\n",
    "    for k, v in users.items():\n",
    "        if v['age'] == age:\n",
    "            print(k)"
   ]
  },
  {
   "cell_type": "markdown",
   "id": "bbf3987a",
   "metadata": {},
   "source": [
    "## Part 4: if-else, for and while loop"
   ]
  },
  {
   "cell_type": "markdown",
   "id": "3cf63a8d",
   "metadata": {},
   "source": [
    "**4-1.** Write code asking a student to enter their anticipated grade for 3 courses, display a message if the grade entered is not a decimal between 0 to 100.\n",
    "\n",
    "**4-2.** Write code to assign a letter grade to the averaged student grade in the 3 classes (A above 90, B between 80 to 90, C between 70 to 80, D between 60 to 70, F less than 60)\n",
    "\n",
    "\n",
    "**4-3.** Assume you don't know the number of courses taken by the student. Modify the code above to let the student enter grades of all his/her course grades, stop when the student enter a keyword \"quit\".  Also make sure that the number entered is in the interval [0 100]. Compute the averaged grade value and display the letter grade."
   ]
  },
  {
   "cell_type": "markdown",
   "id": "2564f898",
   "metadata": {},
   "source": [
    "## Part 5: Functions"
   ]
  },
  {
   "cell_type": "markdown",
   "id": "681675d3",
   "metadata": {},
   "source": [
    "**5-1.** What are the two types of arguments in a function?\n",
    "\n",
    "**5-2.** What are three reasons why functions are useful\n",
    "\n",
    "**5-3.** Write code to define a function called making_coffee that accepts one parameter called ingredient.  The function should print out a message that says \"Adding \\<ingredient> to your coffee\".  Call your function with two different arguments.\n",
    "\n",
    "**5-4.** Modify your function in 5-3 above to accept two parameters, ingredient1 and ingredient2.  Set the default value for ingredient2 to be sugar.  The function should print out a message that says \"Adding \\<ingredient1> and \\<ingredient2> to your coffee\".  Call your function twice - once with two arguments and once with only one argument.\n",
    "\n",
    "**5-5.** Modify your function in 5-3 such that if the function is called without an argument, it prints out \"Guess you like your coffee black!\".  Otherwise it should print out \"Adding \\<ingredient> to your coffee\""
   ]
  },
  {
   "cell_type": "markdown",
   "id": "97756057",
   "metadata": {},
   "source": [
    "## Part 6: Hardware and micropython"
   ]
  },
  {
   "cell_type": "markdown",
   "id": "14981654",
   "metadata": {},
   "source": [
    "<img src=\"https://microdigisoft.com/wp-content/uploads/2022/03/Raspi-Pico-PWM_With_LED_bb.jpg?v=1648657538\" width=\"500px\">"
   ]
  },
  {
   "cell_type": "markdown",
   "id": "b00ece82",
   "metadata": {},
   "source": [
    "For the circuit above, assume the following header and initialization code are provided to you:\n",
    "```\n",
    "import board\n",
    "import ______\n",
    "import analogio\n",
    "import time\n",
    "\n",
    "led = digitalio.DigitalInOut(board.______)\n",
    "led.direction = digitalio.Direction.OUTPUT\n",
    "\n",
    "led = pwmio.PWMOut(board.______, frequency=5000, duty_cycle=0)\n",
    "knob = analogio.AnalogIn(board.______)\n",
    "\n",
    "while True:\n",
    "\n",
    "\n",
    "\n",
    "\n",
    "```\n",
    "\n",
    "**5-1.** Fix the `______` values in the code above to match the circuit\n",
    "\n",
    "\n",
    "**5-2.** Insert the lines of code to turn the led on and off in 0.5 second time interval\n",
    "\n",
    "\n",
    "**5-3.** Change the above code to control the blinking pause time with the knob reading values between 0 to 1 second\n",
    "\n",
    "\n",
    "**5-4.** Write the lines of code to control the LED light intensity using the potentiometer knob \n",
    "\n"
   ]
  },
  {
   "cell_type": "markdown",
   "id": "7210546e",
   "metadata": {},
   "source": [
    "<img src=\"https://i.ibb.co/PzkKbMW/PI-PICO-PIN2.jpg\" width=\"400px\">"
   ]
  },
  {
   "cell_type": "code",
   "execution_count": null,
   "id": "5792a60d",
   "metadata": {},
   "outputs": [],
   "source": []
  }
 ],
 "metadata": {
  "kernelspec": {
   "display_name": "Python 3 (ipykernel)",
   "language": "python",
   "name": "python3"
  },
  "language_info": {
   "codemirror_mode": {
    "name": "ipython",
    "version": 3
   },
   "file_extension": ".py",
   "mimetype": "text/x-python",
   "name": "python",
   "nbconvert_exporter": "python",
   "pygments_lexer": "ipython3",
   "version": "3.11.4"
  }
 },
 "nbformat": 4,
 "nbformat_minor": 5
}
