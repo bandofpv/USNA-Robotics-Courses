{
 "cells": [
  {
   "cell_type": "markdown",
   "id": "246dba5f",
   "metadata": {},
   "source": [
    "<img src=\"https://www.usna.edu/WRC/_files/WRClogos/WRCE-logo-combined-01-crop.png\" width=\"200px\">\n",
    "\n",
    "# Quiz 7: Functions"
   ]
  },
  {
   "cell_type": "markdown",
   "id": "e2b79365",
   "metadata": {},
   "source": [
    "Write your code beneath each question. You may create any extra variables you need to solve each problem."
   ]
  },
  {
   "cell_type": "code",
   "execution_count": 4,
   "id": "b53ee75d",
   "metadata": {},
   "outputs": [
    {
     "name": "stdout",
     "output_type": "stream",
     "text": [
      "-1\n",
      "50\n",
      "Hello Andrew\n",
      "Hi Andrew\n"
     ]
    }
   ],
   "source": [
    "# 1. Write a function that accepts two numbers and returns their difference (subtracts them) (2pts)\n",
    "\n",
    "def subtract(x, y):\n",
    "    return x - y\n",
    "\n",
    "# 2. Call your function above twice with two different sets of input and print the results (2pt)\n",
    "\n",
    "print(subtract(2, 3))\n",
    "print(subtract(100, 50))\n",
    "\n",
    "# 3. Write a function called greeter takes one positional string argument called name and another optional\n",
    "#    keyword argument called greeting. The default greeting should be \"Hi\". The function should print the \n",
    "#    name and greeting (4 pts)\n",
    "\n",
    "def greeter(name, greeting='Hi'):\n",
    "    print(f\"{greeting.title()} {name.title()}\")\n",
    "    \n",
    "# 4. Call your greeter function twice, once specifying both parameters and once specifying only the name argument (2pts)\n",
    "\n",
    "greeter('andrew', 'hello')\n",
    "greeter('andrew')"
   ]
  },
  {
   "cell_type": "code",
   "execution_count": null,
   "id": "22a98797",
   "metadata": {},
   "outputs": [],
   "source": []
  }
 ],
 "metadata": {
  "kernelspec": {
   "display_name": "Python 3 (ipykernel)",
   "language": "python",
   "name": "python3"
  },
  "language_info": {
   "codemirror_mode": {
    "name": "ipython",
    "version": 3
   },
   "file_extension": ".py",
   "mimetype": "text/x-python",
   "name": "python",
   "nbconvert_exporter": "python",
   "pygments_lexer": "ipython3",
   "version": "3.11.4"
  }
 },
 "nbformat": 4,
 "nbformat_minor": 5
}
