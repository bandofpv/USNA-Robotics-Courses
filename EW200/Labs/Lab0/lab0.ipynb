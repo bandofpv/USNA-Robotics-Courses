{
 "cells": [
  {
   "cell_type": "markdown",
   "id": "a01f351e",
   "metadata": {},
   "source": [
    "# My Favorite Books\n",
    "1. **Unbroken** by *Laura Hillenbrand*\n",
    "2. **Rocket Boys** by *Homer Hickam*\n",
    "3. **The Boys in the Boat** by *Daniel James Brown*"
   ]
  },
  {
   "cell_type": "code",
   "execution_count": 1,
   "id": "f1d4e46b",
   "metadata": {
    "scrolled": true
   },
   "outputs": [
    {
     "name": "stdout",
     "output_type": "stream",
     "text": [
      "1+1=2\n"
     ]
    }
   ],
   "source": [
    "print(f\"1+1={1+1}\")"
   ]
  },
  {
   "cell_type": "code",
   "execution_count": 2,
   "id": "c601930a",
   "metadata": {},
   "outputs": [
    {
     "name": "stdout",
     "output_type": "stream",
     "text": [
      "Go Navy Beat Army\n"
     ]
    }
   ],
   "source": [
    "print(\"Go Navy Beat Army\")"
   ]
  },
  {
   "cell_type": "markdown",
   "id": "5910e312",
   "metadata": {},
   "source": [
    "![mu_screenshot](mu_screenshot.png)"
   ]
  }
 ],
 "metadata": {
  "kernelspec": {
   "display_name": "Python 3 (ipykernel)",
   "language": "python",
   "name": "python3"
  },
  "language_info": {
   "codemirror_mode": {
    "name": "ipython",
    "version": 3
   },
   "file_extension": ".py",
   "mimetype": "text/x-python",
   "name": "python",
   "nbconvert_exporter": "python",
   "pygments_lexer": "ipython3",
   "version": "3.11.4"
  }
 },
 "nbformat": 4,
 "nbformat_minor": 5
}
