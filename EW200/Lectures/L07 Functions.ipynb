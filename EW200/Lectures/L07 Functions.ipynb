{
 "cells": [
  {
   "cell_type": "markdown",
   "id": "874397ba",
   "metadata": {},
   "source": [
    "<img src=\"https://www.usna.edu/WRC/_files/WRClogos/WRCE-logo-combined-01-crop.png\" width=\"200px\">\n",
    "\n",
    "# Functions (Chapter 8)"
   ]
  },
  {
   "cell_type": "markdown",
   "id": "aeeb762b",
   "metadata": {},
   "source": [
    "Functions are named blocks of code that are designed to do one specific job. Functions are useful to:\n",
    "* *Reduce the amount of code you need to write*- the same function can be called as many times as needed\n",
    "* *Make your code more readable*- breaking code into smaller blocks with meaningful names and roles\n",
    "* *Make it easier to resuse code*- if you need the same function again in the future just `import` it"
   ]
  },
  {
   "cell_type": "code",
   "execution_count": 1,
   "id": "50c01b6b",
   "metadata": {},
   "outputs": [
    {
     "name": "stdout",
     "output_type": "stream",
     "text": [
      "Hello!\n",
      "\n",
      "\n",
      "Help on function greet_user in module __main__:\n",
      "\n",
      "greet_user()\n",
      "    Display a simple greeting\n",
      "\n"
     ]
    }
   ],
   "source": [
    "# defining a function\n",
    "def greet_user():\n",
    "    \"\"\"Display a simple greeting\"\"\"\n",
    "    print(\"Hello!\")\n",
    "    \n",
    "greet_user()\n",
    "print(\"\\n\")\n",
    "help(greet_user) # built in help function prints the comment below the function name"
   ]
  },
  {
   "cell_type": "code",
   "execution_count": 3,
   "id": "50530628",
   "metadata": {},
   "outputs": [
    {
     "name": "stdout",
     "output_type": "stream",
     "text": [
      "Hello, Alice!\n"
     ]
    }
   ],
   "source": [
    "# passing in information (parameters)\n",
    "def greet_user(username):\n",
    "    \"\"\"Display a simple greeting\"\"\"\n",
    "    print(f\"Hello, {username.title()}!\")\n",
    "    \n",
    "greet_user(\"alice\")"
   ]
  },
  {
   "cell_type": "code",
   "execution_count": 3,
   "id": "d153d199",
   "metadata": {},
   "outputs": [
    {
     "name": "stdout",
     "output_type": "stream",
     "text": [
      "\n",
      "I have a hamster.\n",
      "My hamster's name is Harry.\n",
      "\n",
      "I have a harry.\n",
      "My harry's name is Hamster.\n"
     ]
    }
   ],
   "source": [
    "# positional arguments\n",
    "def describe_pet(animal_type, pet_name):\n",
    "    \"\"\"Display information about a pet.\"\"\"\n",
    "    print(f\"\\nI have a {animal_type}.\")\n",
    "    print(f\"My {animal_type}'s name is {pet_name.title()}.\")\n",
    "    \n",
    "describe_pet('hamster','harry')\n",
    "# order matters!\n",
    "describe_pet('harry','hamster')\n"
   ]
  },
  {
   "cell_type": "code",
   "execution_count": 4,
   "id": "c8e9a265",
   "metadata": {},
   "outputs": [
    {
     "name": "stdout",
     "output_type": "stream",
     "text": [
      "\n",
      "I have a whale.\n",
      "My whale's name is Willie.\n",
      "\n",
      "I have a whale.\n",
      "My whale's name is Willie.\n"
     ]
    }
   ],
   "source": [
    "# keyword arguments\n",
    "def describe_pet(pet_name, animal_type):\n",
    "    \"\"\"Display information about a pet.\"\"\"\n",
    "    print(f\"\\nI have a {animal_type}.\")\n",
    "    print(f\"My {animal_type}'s name is {pet_name.title()}.\")\n",
    "    \n",
    "describe_pet(pet_name='willie', animal_type='whale')\n",
    "# order does not matter\n",
    "describe_pet(animal_type='whale',pet_name='willie')\n"
   ]
  },
  {
   "cell_type": "code",
   "execution_count": 5,
   "id": "762d3174",
   "metadata": {},
   "outputs": [
    {
     "name": "stdout",
     "output_type": "stream",
     "text": [
      "\n",
      "I have a dog.\n",
      "My dog's name is Davis.\n",
      "\n",
      "I have a cat.\n",
      "My cat's name is Doggo.\n"
     ]
    }
   ],
   "source": [
    "# default values\n",
    "def describe_pet(pet_name, animal_type='dog'):\n",
    "    \"\"\"Display information about a pet.\"\"\"\n",
    "    print(f\"\\nI have a {animal_type}.\")\n",
    "    print(f\"My {animal_type}'s name is {pet_name.title()}.\")\n",
    "\n",
    "\n",
    "describe_pet('davis')\n",
    "describe_pet('doggo', 'cat')"
   ]
  },
  {
   "cell_type": "code",
   "execution_count": 6,
   "id": "eedcdf5d",
   "metadata": {},
   "outputs": [
    {
     "name": "stdout",
     "output_type": "stream",
     "text": [
      "\n",
      "I have a dog.\n",
      "My dog's name is Davis.\n",
      "\n",
      "I have a dog.\n",
      "My dog's name is Davis.\n",
      "\n",
      "I have a dog.\n",
      "My dog's name is Davis.\n"
     ]
    }
   ],
   "source": [
    "# equivalent function calls\n",
    "\n",
    "# keyword\n",
    "describe_pet(pet_name='davis')\n",
    "# positional\n",
    "describe_pet('davis')\n",
    "# combination (using same value as default)\n",
    "describe_pet('davis',animal_type='dog')"
   ]
  },
  {
   "cell_type": "code",
   "execution_count": 17,
   "id": "9f83f65a",
   "metadata": {},
   "outputs": [
    {
     "data": {
      "text/plain": [
       "18000"
      ]
     },
     "execution_count": 17,
     "metadata": {},
     "output_type": "execute_result"
    }
   ],
   "source": [
    "def class_time(periods=6):\n",
    "    \"\"\"Return the number of seconds of class given a number of class periods\"\"\"\n",
    "    return periods*3000\n",
    "\n",
    "class_time()"
   ]
  },
  {
   "cell_type": "markdown",
   "id": "104d7dd9",
   "metadata": {},
   "source": [
    "### Return Values\n",
    "Functions can optionally return a result rather than outputing data directly."
   ]
  },
  {
   "cell_type": "code",
   "execution_count": 7,
   "id": "3d372c7d",
   "metadata": {},
   "outputs": [
    {
     "name": "stdout",
     "output_type": "stream",
     "text": [
      "Jimi Hendrix\n"
     ]
    }
   ],
   "source": [
    "def get_formatted_name(first_name, last_name):\n",
    "    \"\"\"Return a full name, neatly formatted.\"\"\"\n",
    "    full_name = f\"{first_name} {last_name}\"\n",
    "    return full_name.title()\n",
    "    \n",
    "musician = get_formatted_name('jimi', 'hendrix')\n",
    "print(musician)"
   ]
  },
  {
   "cell_type": "code",
   "execution_count": 8,
   "id": "697fa44d",
   "metadata": {},
   "outputs": [
    {
     "name": "stdout",
     "output_type": "stream",
     "text": [
      "Jimi Hendrix\n",
      "John Lee Hooker\n"
     ]
    }
   ],
   "source": [
    "# optional arguments\n",
    "def get_formatted_name(first_name, last_name, middle_name=''):\n",
    "    \"\"\"Return a full name, neatly formatted.\"\"\"\n",
    "    if middle_name:\n",
    "        full_name = f\"{first_name} {middle_name} {last_name}\"\n",
    "    else:\n",
    "        full_name = f\"{first_name} {last_name}\"\n",
    "    return full_name.title()\n",
    "    \n",
    "musician = get_formatted_name('jimi', 'hendrix')\n",
    "print(musician)\n",
    "\n",
    "musician = get_formatted_name('john', 'hooker', 'lee')\n",
    "print(musician)"
   ]
  },
  {
   "cell_type": "code",
   "execution_count": 9,
   "id": "a2fc61d1",
   "metadata": {},
   "outputs": [
    {
     "name": "stdout",
     "output_type": "stream",
     "text": [
      "{'first': 'jimi', 'last': 'hendrix', 'age': 27}\n"
     ]
    }
   ],
   "source": [
    "# returning other data types like a dictionary\n",
    "\n",
    "def build_person(first_name, last_name, age=None):\n",
    "    \"\"\"Return a dictionary of information about a person.\"\"\"\n",
    "    person = {'first': first_name, 'last': last_name}\n",
    "    if age:\n",
    "        person['age'] = age\n",
    "    return person\n",
    "\n",
    "musician = build_person('jimi', 'hendrix', age=27)\n",
    "print(musician)"
   ]
  },
  {
   "cell_type": "code",
   "execution_count": 10,
   "id": "cabee81f",
   "metadata": {},
   "outputs": [
    {
     "name": "stdout",
     "output_type": "stream",
     "text": [
      "\n",
      "Please tell me your name:\n",
      "(enter 'q' at any time to quit)\n",
      "First name: Andrew\n",
      "Last name: Bernas\n",
      "\n",
      "Hello, Andrew Bernas!\n",
      "\n",
      "Please tell me your name:\n",
      "(enter 'q' at any time to quit)\n",
      "First name: q\n"
     ]
    }
   ],
   "source": [
    "# using functions with a while loop\n",
    "def get_formatted_name(first_name, last_name):\n",
    "    \"\"\"Return a full name, neatly formatted.\"\"\"\n",
    "    full_name = f\"{first_name} {last_name}\"\n",
    "    return full_name.title()\n",
    "\n",
    "# This is an infinite loop!\n",
    "while True:\n",
    "    print(\"\\nPlease tell me your name:\")\n",
    "    print(\"(enter 'q' at any time to quit)\")\n",
    "\n",
    "    f_name = input(\"First name: \")\n",
    "    if f_name == 'q':\n",
    "        break\n",
    "\n",
    "    l_name = input(\"Last name: \")\n",
    "    if l_name == 'q':\n",
    "        break\n",
    "    \n",
    "    formatted_name = get_formatted_name(f_name, l_name)\n",
    "    print(f\"\\nHello, {formatted_name}!\")"
   ]
  },
  {
   "cell_type": "markdown",
   "id": "f5860222",
   "metadata": {},
   "source": [
    "### Passing Lists as Parameters"
   ]
  },
  {
   "cell_type": "code",
   "execution_count": 11,
   "id": "e0d753fa",
   "metadata": {},
   "outputs": [
    {
     "name": "stdout",
     "output_type": "stream",
     "text": [
      "Hello, Hannah!\n",
      "Hello, Ty!\n",
      "Hello, Margot!\n"
     ]
    }
   ],
   "source": [
    "# passing a list\n",
    "def greet_users(names):\n",
    "    \"\"\"Print a simple greeting to each user in the list.\"\"\"\n",
    "    for name in names:\n",
    "        msg = f\"Hello, {name.title()}!\"\n",
    "        print(msg)\n",
    "\n",
    "usernames = ['hannah', 'ty', 'margot']\n",
    "greet_users(usernames)"
   ]
  },
  {
   "cell_type": "code",
   "execution_count": 12,
   "id": "5b98c879",
   "metadata": {},
   "outputs": [
    {
     "name": "stdout",
     "output_type": "stream",
     "text": [
      "Printing model: dodecahedron\n",
      "Printing model: robot pendant\n",
      "Printing model: phone case\n",
      "\n",
      "The following models have been printed:\n",
      "dodecahedron\n",
      "robot pendant\n",
      "phone case\n",
      "\n",
      "There are 0 models left to be printed\n"
     ]
    }
   ],
   "source": [
    "# modifying a list in a function\n",
    "def print_models(unprinted_designs, completed_models):\n",
    "    \"\"\"\n",
    "    Simulate printing each design, until none are left.\n",
    "    Move each design to completed_models after printing.\n",
    "    \"\"\"\n",
    "    while unprinted_designs:\n",
    "        current_design = unprinted_designs.pop()\n",
    "        print(f\"Printing model: {current_design}\")\n",
    "        completed_models.append(current_design)\n",
    "        \n",
    "def show_completed_models(completed_models):\n",
    "    \"\"\"Show all the models that were printed.\"\"\"\n",
    "    print(\"\\nThe following models have been printed:\")\n",
    "    for completed_model in completed_models:\n",
    "        print(completed_model)\n",
    "        \n",
    "unprinted_designs = ['phone case', 'robot pendant', 'dodecahedron']\n",
    "completed_models = []\n",
    "\n",
    "print_models(unprinted_designs, completed_models)\n",
    "show_completed_models(completed_models)\n",
    "print(f\"\\nThere are {len(unprinted_designs)} models left to be printed\")"
   ]
  },
  {
   "cell_type": "code",
   "execution_count": 13,
   "id": "12dd3cb8",
   "metadata": {},
   "outputs": [
    {
     "name": "stdout",
     "output_type": "stream",
     "text": [
      "Printing model: dodecahedron\n",
      "Printing model: robot pendant\n",
      "Printing model: phone case\n",
      "\n",
      "The following models have been printed:\n",
      "dodecahedron\n",
      "robot pendant\n",
      "phone case\n",
      "\n",
      "There are 3 models left to be printed\n"
     ]
    }
   ],
   "source": [
    "# preventing a function from modifying a list\n",
    "# pass in a copy using the slice notation\n",
    "      \n",
    "unprinted_designs = ['phone case', 'robot pendant', 'dodecahedron']\n",
    "completed_models = []\n",
    "\n",
    "print_models(unprinted_designs[:], completed_models) # <--- slice notation for unprinted_designs\n",
    "show_completed_models(completed_models)\n",
    "print(f\"\\nThere are {len(unprinted_designs)} models left to be printed\")"
   ]
  },
  {
   "cell_type": "markdown",
   "id": "8b320492",
   "metadata": {},
   "source": [
    "### Passing an Arbitrary Number of Arguments\n",
    "Useful if you do not know how many arguments you will need ahead of time. In practice this is not very common. Try to avoid using in your code but you may find it in libraries that you use in the future."
   ]
  },
  {
   "cell_type": "code",
   "execution_count": 14,
   "id": "e749726b",
   "metadata": {},
   "outputs": [
    {
     "name": "stdout",
     "output_type": "stream",
     "text": [
      "('pepperoni',)\n",
      "('mushrooms', 'green peppers', 'extra cheese')\n"
     ]
    }
   ],
   "source": [
    "def make_pizza(*toppings):\n",
    "    print(toppings)\n",
    "    \n",
    "make_pizza('pepperoni')\n",
    "make_pizza('mushrooms','green peppers','extra cheese')"
   ]
  },
  {
   "cell_type": "code",
   "execution_count": 15,
   "id": "1a4de0db",
   "metadata": {},
   "outputs": [
    {
     "name": "stdout",
     "output_type": "stream",
     "text": [
      "\n",
      "Making a pizza with the following toppings:\n",
      "- pepperoni\n",
      "\n",
      "Making a pizza with the following toppings:\n",
      "- mushrooms\n",
      "- green peppers\n",
      "- extra cheese\n"
     ]
    }
   ],
   "source": [
    "# add a loop to produce formatted output\n",
    "\n",
    "def make_pizza(*toppings):\n",
    "    \"\"\"Summarize the pizza we are about to make.\"\"\"\n",
    "    print(f\"\\nMaking a pizza with the following toppings:\")\n",
    "    for topping in toppings:\n",
    "        print(f\"- {topping}\")\n",
    "        \n",
    "make_pizza('pepperoni')\n",
    "make_pizza('mushrooms','green peppers','extra cheese')"
   ]
  },
  {
   "cell_type": "code",
   "execution_count": 16,
   "id": "ad17a435",
   "metadata": {},
   "outputs": [
    {
     "name": "stdout",
     "output_type": "stream",
     "text": [
      "\n",
      "Making a 16-inch pizza with the following toppings:\n",
      "- pepperoni\n",
      "\n",
      "Making a 12-inch pizza with the following toppings:\n",
      "- mushrooms\n",
      "- green peppers\n",
      "- extra cheese\n"
     ]
    }
   ],
   "source": [
    "# mixing positional and arbitrary arguments\n",
    "\n",
    "def make_pizza(size, *toppings):\n",
    "    \"\"\"Summarize the pizza we are about to make.\"\"\"\n",
    "    print(f\"\\nMaking a {size}-inch pizza with the following toppings:\")\n",
    "    for topping in toppings:\n",
    "        print(f\"- {topping}\")\n",
    "        \n",
    "make_pizza(16, 'pepperoni')\n",
    "make_pizza(12, 'mushrooms','green peppers','extra cheese')"
   ]
  },
  {
   "cell_type": "markdown",
   "id": "c678e9b6",
   "metadata": {},
   "source": [
    "### Storing Functions in Modules\n",
    "Modules are useful for separating large programs into multiple files with groups of similar functions. This also makes it easier to reuse your code in the future."
   ]
  },
  {
   "cell_type": "code",
   "execution_count": 89,
   "id": "9de7fde3",
   "metadata": {},
   "outputs": [
    {
     "name": "stdout",
     "output_type": "stream",
     "text": [
      "\n",
      "Making a 16-inch pizza with the following toppings:\n",
      "- pepperoni\n",
      "\n",
      "Making a 12-inch pizza with the following toppings:\n",
      "- mushrooms\n",
      "- green peppers\n",
      "- extra cheese\n"
     ]
    }
   ],
   "source": [
    "# importing an entire module (recommended!)\n",
    "import pizza\n",
    "\n",
    "pizza.make_pizza(16, 'pepperoni')\n",
    "pizza.make_pizza(12, 'mushrooms','green peppers','extra cheese')"
   ]
  },
  {
   "cell_type": "code",
   "execution_count": 90,
   "id": "a614ef55",
   "metadata": {},
   "outputs": [
    {
     "name": "stdout",
     "output_type": "stream",
     "text": [
      "\n",
      "Making a 16-inch pizza with the following toppings:\n",
      "- pepperoni\n",
      "\n",
      "Making a 12-inch pizza with the following toppings:\n",
      "- mushrooms\n",
      "- green peppers\n",
      "- extra cheese\n"
     ]
    }
   ],
   "source": [
    "# importing a specific function (less recommended)\n",
    "from pizza import make_pizza\n",
    "\n",
    "make_pizza(16, 'pepperoni')\n",
    "make_pizza(12, 'mushrooms','green peppers','extra cheese')"
   ]
  },
  {
   "cell_type": "code",
   "execution_count": 1,
   "id": "df04ea8e",
   "metadata": {},
   "outputs": [
    {
     "name": "stdout",
     "output_type": "stream",
     "text": [
      "\n",
      "Making a 16-inch pizza with the following toppings:\n",
      "- pepperoni\n",
      "\n",
      "Making a 12-inch pizza with the following toppings:\n",
      "- mushrooms\n",
      "- green peppers\n",
      "- extra cheese\n",
      "\n",
      "Making a 16-inch pizza with the following toppings:\n",
      "- pepperoni\n",
      "\n",
      "Making a 12-inch pizza with the following toppings:\n",
      "- mushrooms\n",
      "- green peppers\n",
      "- extra cheese\n"
     ]
    }
   ],
   "source": [
    "# using aliases (try to avoid)\n",
    "from pizza import make_pizza as mp\n",
    "mp(16, 'pepperoni')\n",
    "mp(12, 'mushrooms','green peppers','extra cheese')\n",
    "\n",
    "import pizza as p\n",
    "p.make_pizza(16, 'pepperoni')\n",
    "p.make_pizza(12, 'mushrooms','green peppers','extra cheese')"
   ]
  },
  {
   "cell_type": "code",
   "execution_count": 2,
   "id": "f57e58d6",
   "metadata": {},
   "outputs": [
    {
     "name": "stdout",
     "output_type": "stream",
     "text": [
      "\n",
      "Making a 16-inch pizza with the following toppings:\n",
      "- pepperoni\n",
      "\n",
      "Making a 12-inch pizza with the following toppings:\n",
      "- mushrooms\n",
      "- green peppers\n",
      "- extra cheese\n",
      "\n",
      "Hello world!\n"
     ]
    }
   ],
   "source": [
    "# importing all functions in a module (really try to avoid!)\n",
    "\n",
    "def say_hello():\n",
    "    print(\"\\nHello world!\")\n",
    "    \n",
    "from pizza import *\n",
    "make_pizza(16, 'pepperoni')\n",
    "make_pizza(12, 'mushrooms','green peppers','extra cheese')\n",
    "\n",
    "say_hello() # runs the pizza module's function!"
   ]
  },
  {
   "cell_type": "markdown",
   "id": "20e482ab",
   "metadata": {},
   "source": [
    "-----\n",
    "\n",
    "## Homework Problems"
   ]
  },
  {
   "cell_type": "markdown",
   "id": "a2eeddc0",
   "metadata": {},
   "source": [
    "**8-1. Message:** Write a function called `display_message()` that prints one sentence telling everyone what you are learning about in this chapter. Call the function, and make sure the message displays correctly."
   ]
  },
  {
   "cell_type": "code",
   "execution_count": 18,
   "id": "36700fb3",
   "metadata": {},
   "outputs": [
    {
     "name": "stdout",
     "output_type": "stream",
     "text": [
      "I am learning about functinos in this chapter\n"
     ]
    }
   ],
   "source": [
    "def display_message():\n",
    "    print(\"I am learning about functinos in this chapter\")\n",
    "\n",
    "display_message()"
   ]
  },
  {
   "cell_type": "markdown",
   "id": "fce32c9a",
   "metadata": {},
   "source": [
    "**8-2. Favorite Book:** Write a function called `favorite_book()` that accepts one parameter, `title`. The function should print a message, such as *One of my favorite books is Alice in Wonderland.* Call the function, making sure to include a book title as an argument in the function call."
   ]
  },
  {
   "cell_type": "code",
   "execution_count": 22,
   "id": "716df0b0",
   "metadata": {},
   "outputs": [
    {
     "name": "stdout",
     "output_type": "stream",
     "text": [
      "One of my favorite books is Alice In Wonderland\n"
     ]
    }
   ],
   "source": [
    "def favorite_book(title):\n",
    "    print(f\"One of my favorite books is {str(title).title()}\")\n",
    "\n",
    "favorite_book(\"alice in wonderland\")"
   ]
  },
  {
   "cell_type": "markdown",
   "id": "64c04784",
   "metadata": {},
   "source": [
    "**8-3. T-Shirt:** Write a function called `make_shirt()` that accepts a size and the text of a message that should be printed on the shirt. The function should print a sentence summarizing the size of the shirt and the message printed on it.\n",
    "\n",
    "Call the function using positional arguments to make a shirt. Call the function a second time using keyword arguments."
   ]
  },
  {
   "cell_type": "code",
   "execution_count": 26,
   "id": "84a580b9",
   "metadata": {},
   "outputs": [
    {
     "name": "stdout",
     "output_type": "stream",
     "text": [
      "The shirt of size small will have the message \"hello world\" printed on it.\n",
      "The shirt of size small will have the message \"hello world\" printed on it.\n"
     ]
    }
   ],
   "source": [
    "def make_shirt(size, text):\n",
    "    print(f'The shirt of size {str(size).lower()} will have the message \"{str(text)}\" printed on it.')\n",
    "    \n",
    "make_shirt('small', 'hello world')\n",
    "make_shirt(text='hello world', size='small')"
   ]
  },
  {
   "cell_type": "markdown",
   "id": "1d15b316",
   "metadata": {},
   "source": [
    "**8-4. Large Shirts:** Modify the `make_shirt()` function so that shirts are large by default with a message that reads *I love Python*. Make a large shirt and a medium shirt with the default message, and a shirt of any size with a different message."
   ]
  },
  {
   "cell_type": "code",
   "execution_count": 29,
   "id": "ca63bc23",
   "metadata": {},
   "outputs": [
    {
     "name": "stdout",
     "output_type": "stream",
     "text": [
      "The shirt of size large will have the message \"I love Python\" printed on it.\n",
      "The shirt of size medium will have the message \"I love Python\" printed on it.\n",
      "The shirt of size large will have the message \"Python is cool\" printed on it.\n"
     ]
    }
   ],
   "source": [
    "def make_shirt(size='large', text='I love Python'):\n",
    "    print(f'The shirt of size {str(size).lower()} will have the message \"{str(text)}\" printed on it.')\n",
    "\n",
    "make_shirt()\n",
    "make_shirt('medium')\n",
    "make_shirt(text='Python is cool')"
   ]
  },
  {
   "cell_type": "markdown",
   "id": "c3f0b783",
   "metadata": {},
   "source": [
    "**8-5. Cities:** Write a function called `describe_city()` that accepts the name of a city and its country. The function should print a simple sentence, such as *Reykjavik is in Iceland.* Give the parameter for the country a default value. Call your function for three different cities, at least one of which is not in the default country (pass the correct country as a keyword parameter)."
   ]
  },
  {
   "cell_type": "code",
   "execution_count": 31,
   "id": "00fd7c83",
   "metadata": {},
   "outputs": [
    {
     "name": "stdout",
     "output_type": "stream",
     "text": [
      "Annapolis is in United States\n",
      "Severna Park is in United States\n",
      "Paris is in France\n"
     ]
    }
   ],
   "source": [
    "def describe_city(city, country='united states'):\n",
    "    print(f\"{str(city).title()} is in {str(country).title()}\")\n",
    "    \n",
    "describe_city('annapolis')\n",
    "describe_city('severna park')\n",
    "describe_city(city='paris', country='france')"
   ]
  },
  {
   "cell_type": "markdown",
   "id": "400e3abb",
   "metadata": {},
   "source": [
    "**8-6. City Names:** Write a function called `city_country()` that takes in the name of a city and its country. The function should return a string formatted like this:\n",
    "\n",
    "    \"Santiago, Chile\"\n",
    "\n",
    "Call your function with at least three city-country pairs, and print the values that are returned."
   ]
  },
  {
   "cell_type": "code",
   "execution_count": 36,
   "id": "d100247b",
   "metadata": {},
   "outputs": [
    {
     "name": "stdout",
     "output_type": "stream",
     "text": [
      "Santiago, Chile\n",
      "Paris, France\n",
      "Annapolis, United States\n"
     ]
    }
   ],
   "source": [
    "def city_country(city, country):\n",
    "    formated_string = f\"{str(city).title()}, {str(country).title()}\"\n",
    "    return formated_string\n",
    "\n",
    "print(city_country('santiago', 'chile'))\n",
    "print(city_country('paris', 'france'))\n",
    "print(city_country('annapolis', 'united states'))"
   ]
  },
  {
   "cell_type": "markdown",
   "id": "2478859d",
   "metadata": {},
   "source": [
    "**8-7. Album:** Write a function called `make_album()` that builds a dictionary describing a music album. The function should take in an artist name and an album title, and it should return a dictionary containing these two pieces of information. Use the function to make three dictionaries representing different albums. Print each return value to show that the dictionaries are storing the album information correctly.\n",
    "\n",
    "Use `None` to add an optional parameter to `make_album()` that alows you to store the number of songs on an album. If the calling line includes a values for the number of songs, add that value to the album's dictionary. Make at least one new function call that includes the number of songs on an album."
   ]
  },
  {
   "cell_type": "code",
   "execution_count": 44,
   "id": "71f617b6",
   "metadata": {},
   "outputs": [
    {
     "name": "stdout",
     "output_type": "stream",
     "text": [
      "{'artist_name': 'Olivia Rodrigo', 'album_title': 'Guts'}\n",
      "{'artist_name': 'Michael Jackson', 'album_title': 'Thriller', 'number_of_songs': 7}\n",
      "{'artist_name': 'Beatles', 'album_title': 'Abbey Road'}\n"
     ]
    }
   ],
   "source": [
    "def make_album(name, title, songs=None):\n",
    "    album = {'artist_name': str(name).title(), 'album_title': str(title).title()}\n",
    "    if songs: \n",
    "        album['number_of_songs'] = int(songs)\n",
    "    return album\n",
    "\n",
    "print(make_album('olivia rodrigo', 'guts'))\n",
    "print(make_album('michael jackson', 'thriller', 7))\n",
    "print(make_album('beatles', 'abbey road'))"
   ]
  },
  {
   "cell_type": "markdown",
   "id": "a79ea950",
   "metadata": {},
   "source": [
    "**8-8. User Albums:** Start with your program from Exercise 8-7. Write a `while` loop that allows users to enter an album's artist and title. Once you have that information, call `make_album()` with the users' input and print the dictionary that's created. Be sure to include a quit value in the while loop."
   ]
  },
  {
   "cell_type": "code",
   "execution_count": 45,
   "id": "1058b307",
   "metadata": {},
   "outputs": [
    {
     "name": "stdout",
     "output_type": "stream",
     "text": [
      "Please enter the name of the artist: michael jackson \n",
      "Please enter the name of the album title: thriller\n",
      "{'artist_name': 'Michael Jackson ', 'album_title': 'Thriller'}\n",
      "Would you like to enter another album? (yes or no)no\n"
     ]
    }
   ],
   "source": [
    "while True:\n",
    "    name = input(\"Please enter the name of the artist: \")\n",
    "    title = input(\"Please enter the name of the album title: \")\n",
    "    print(make_album(name, title))\n",
    "    \n",
    "    quit = input(\"Would you like to enter another album? (yes or no)\")\n",
    "    if quit == 'no': \n",
    "        break"
   ]
  },
  {
   "cell_type": "markdown",
   "id": "a2a32fb4",
   "metadata": {},
   "source": [
    "**8-9. Messages:** Make a list containing a series of short text messages. Pass the list to a function called `show_messages()`, which prints each text message."
   ]
  },
  {
   "cell_type": "code",
   "execution_count": 46,
   "id": "b59c18d9",
   "metadata": {},
   "outputs": [
    {
     "name": "stdout",
     "output_type": "stream",
     "text": [
      "Hello.\n",
      "How are you?\n",
      "Good how are you?\n",
      "I'm doing alright, thanks for asking.\n"
     ]
    }
   ],
   "source": [
    "def show_messages(messages):\n",
    "    for message in messages:\n",
    "        print(message)\n",
    "        \n",
    "messages = ['Hello.', 'How are you?', 'Good how are you?', \"I'm doing alright, thanks for asking.\"]\n",
    "show_messages(messages)"
   ]
  },
  {
   "cell_type": "markdown",
   "id": "2dca00b1",
   "metadata": {},
   "source": [
    "**8-10. Sending Messages:** Start with a copy of your program from Exercise 8-9. Write a function called `send_messages()` that prints each text message and moves each message to a new list called `sent_messages` as it's printed. After calling the function, print both of your lists to make sure the messages were moved correctly."
   ]
  },
  {
   "cell_type": "code",
   "execution_count": 8,
   "id": "fc22f3f2",
   "metadata": {},
   "outputs": [
    {
     "name": "stdout",
     "output_type": "stream",
     "text": [
      "Hello.\n",
      "How are you?\n",
      "Good how are you?\n",
      "I'm doing alright, thanks for asking.\n",
      "[]\n",
      "['Hello.', 'How are you?', 'Good how are you?', \"I'm doing alright, thanks for asking.\"]\n"
     ]
    }
   ],
   "source": [
    "def send_messages(messages, sent_messages):\n",
    "    while messages:\n",
    "        message = messages.pop(0)\n",
    "        sent_messages.append(message)\n",
    "        print(message)\n",
    "        \n",
    "messages = ['Hello.', 'How are you?', 'Good how are you?', \"I'm doing alright, thanks for asking.\"]\n",
    "sent_messages = []\n",
    "send_messages(messages, sent_messages)\n",
    "print(messages)\n",
    "print(sent_messages)"
   ]
  },
  {
   "cell_type": "markdown",
   "id": "aa4dbc8f",
   "metadata": {},
   "source": [
    "**8-11. Archived Messages:** Start with your work from Exercise 8-10. Call the function `send_messages()` with a copy of the list of messages. After calling the function, print both of your lists to show that the original list has retained its messages."
   ]
  },
  {
   "cell_type": "code",
   "execution_count": 9,
   "id": "b56bba01",
   "metadata": {},
   "outputs": [
    {
     "name": "stdout",
     "output_type": "stream",
     "text": [
      "Hello.\n",
      "How are you?\n",
      "Good how are you?\n",
      "I'm doing alright, thanks for asking.\n",
      "['Hello.', 'How are you?', 'Good how are you?', \"I'm doing alright, thanks for asking.\"]\n",
      "[]\n"
     ]
    }
   ],
   "source": [
    "messages = ['Hello.', 'How are you?', 'Good how are you?', \"I'm doing alright, thanks for asking.\"]\n",
    "copy_messages = messages[:]\n",
    "sent_messages = []\n",
    "send_messages(copy_messages, sent_messages)\n",
    "print(messages)\n",
    "print(copy_messages)"
   ]
  },
  {
   "cell_type": "markdown",
   "id": "2adb6fda",
   "metadata": {},
   "source": [
    "**8-12. Sandwiches:** Write a function that accepts a list of items a person wants on a sandwich. The function should have one parameter that collects as many items as the function call provides, and it should print a summary of the sandwich that's being ordered. Call the function three times, using a different number of arguments each time."
   ]
  },
  {
   "cell_type": "code",
   "execution_count": 83,
   "id": "1330299b",
   "metadata": {},
   "outputs": [
    {
     "name": "stdout",
     "output_type": "stream",
     "text": [
      "Your sandwich will have: \n",
      "- ham \n",
      "- cheese \n",
      "Your sandwich will have: \n",
      "- pickles \n",
      "- beef \n",
      "- lettuce \n",
      "Your sandwich will have: \n",
      "- tomatoes \n",
      "- onions \n",
      "- cheese \n",
      "- mayo \n"
     ]
    }
   ],
   "source": [
    "def make_sandwich(*items):\n",
    "    print(f\"Your sandwich will have: \")\n",
    "    for item in items:\n",
    "         print(f\"- {str(item)} \")\n",
    "    \n",
    "make_sandwich('ham', 'cheese')\n",
    "make_sandwich('pickles', 'beef', 'lettuce')\n",
    "make_sandwich('tomatoes', 'onions', 'cheese', 'mayo')"
   ]
  },
  {
   "cell_type": "markdown",
   "id": "e64a3e4e",
   "metadata": {},
   "source": [
    "**8-13. User Profile:** Start with a copy of the user_profile code above (or on page 149). Build a profile of yourself by calling `build_profile()`, using yourfirst and last names and three other key-value pairs that describe you."
   ]
  },
  {
   "cell_type": "code",
   "execution_count": 85,
   "id": "4f7d0628",
   "metadata": {},
   "outputs": [
    {
     "name": "stdout",
     "output_type": "stream",
     "text": [
      "{'major': 'robotics', 'home': 'california', 'company': 26, 'first_name': 'andrew', 'last_name': 'bernas'}\n"
     ]
    }
   ],
   "source": [
    "def build_profile(first, last, **user_info):\n",
    "    \"\"\"Build a dictionary containing everything we know about a user.\"\"\"\n",
    "    user_info['first_name'] = first\n",
    "    user_info['last_name'] = last\n",
    "    return user_info\n",
    "\n",
    "user_profile = build_profile('andrew', 'bernas', major='robotics', home='california', company=26)\n",
    "\n",
    "print(user_profile)"
   ]
  },
  {
   "cell_type": "markdown",
   "id": "83328341",
   "metadata": {},
   "source": [
    "**8-14. Cars:** Write a function that stores information about a car in a dictionary. The function should always receive a manufacturer and a model name. It should then accept an arbitrary number of keyword arguments. Call the function with the required information and two other name-value pairs, such as a color or an optional feature. Your function should work for a call like this one:\n",
    "\n",
    "    car = make_car('subaru', 'outback', color='blue', tow_package=True)\n",
    "    \n",
    "Print the dictionary that's returned to make sure all the information was stored correctly."
   ]
  },
  {
   "cell_type": "code",
   "execution_count": 87,
   "id": "7c4a2042",
   "metadata": {},
   "outputs": [
    {
     "name": "stdout",
     "output_type": "stream",
     "text": [
      "{'color': 'blue', 'tow_package': True, 'manufacturer': 'subaru', 'model': 'outback'}\n"
     ]
    }
   ],
   "source": [
    "def make_car(manufacturer, model, **car_info):\n",
    "    car_info['manufacturer'] = str(manufacturer)\n",
    "    car_info['model'] = str(model)\n",
    "    return car_info\n",
    "\n",
    "car = make_car('subaru', 'outback', color='blue', tow_package=True)\n",
    "print(car)"
   ]
  },
  {
   "cell_type": "markdown",
   "id": "65188e22",
   "metadata": {},
   "source": [
    "**8-15. Printing Models:** Move the functions below into a separate file called *printing_functions.py* Write an `import` statement at the top of the code below so the code uses the module's functions."
   ]
  },
  {
   "cell_type": "code",
   "execution_count": 96,
   "id": "50baebc7",
   "metadata": {},
   "outputs": [
    {
     "name": "stdout",
     "output_type": "stream",
     "text": [
      "Printing model: dodecahedron\n",
      "Printing model: robot pendant\n",
      "Printing model: phone case\n",
      "\n",
      "The following models have been printed:\n",
      "dodecahedron\n",
      "robot pendant\n",
      "phone case\n"
     ]
    }
   ],
   "source": [
    "#TODO: Move to printing_functions.py\n",
    "# def print_models(unprinted_designs, completed_models):\n",
    "#     \"\"\"\n",
    "#     Simulate printing each design, until none are left.\n",
    "#     Move each design to completed_models after printing.\n",
    "#     \"\"\"\n",
    "#     while unprinted_designs:\n",
    "#         current_design = unprinted_designs.pop()\n",
    "#         print(f\"Printing model: {current_design}\")\n",
    "#         completed_models.append(current_design)\n",
    "        \n",
    "# def show_completed_models(completed_models):\n",
    "#     \"\"\"Show all the models that were printed.\"\"\"\n",
    "#     print(\"\\nThe following models have been printed:\")\n",
    "#     for completed_model in completed_models:\n",
    "#         print(completed_model)\n",
    "\n",
    "from printing_functions import *\n",
    "\n",
    "unprinted_designs = ['phone case', 'robot pendant', 'dodecahedron']\n",
    "completed_models = []\n",
    "\n",
    "print_models(unprinted_designs, completed_models)\n",
    "show_completed_models(completed_models)"
   ]
  },
  {
   "cell_type": "markdown",
   "id": "2d3a3422",
   "metadata": {},
   "source": [
    "**8-16.Imports:** Create a file called hello.py with a function that prints a greeting. Import the function using each of these approaches and verify it works by calling the function (you should see 6 copies of the greeting when you run the code)"
   ]
  },
  {
   "cell_type": "code",
   "execution_count": 99,
   "id": "6e08924d",
   "metadata": {},
   "outputs": [
    {
     "name": "stdout",
     "output_type": "stream",
     "text": [
      "Hello!\n",
      "Hello!\n",
      "Hello!\n",
      "Hello!\n",
      "Hello!\n"
     ]
    }
   ],
   "source": [
    "import hello\n",
    "\n",
    "hello.greeting()\n",
    "\n",
    "from hello import greeting\n",
    "\n",
    "greeting()\n",
    "\n",
    "from hello import greeting as g\n",
    "\n",
    "g()\n",
    "\n",
    "import hello as h\n",
    "\n",
    "h.greeting()\n",
    "\n",
    "from hello import *\n",
    "\n",
    "greeting()"
   ]
  }
 ],
 "metadata": {
  "kernelspec": {
   "display_name": "Python 3 (ipykernel)",
   "language": "python",
   "name": "python3"
  },
  "language_info": {
   "codemirror_mode": {
    "name": "ipython",
    "version": 3
   },
   "file_extension": ".py",
   "mimetype": "text/x-python",
   "name": "python",
   "nbconvert_exporter": "python",
   "pygments_lexer": "ipython3",
   "version": "3.11.4"
  }
 },
 "nbformat": 4,
 "nbformat_minor": 5
}
