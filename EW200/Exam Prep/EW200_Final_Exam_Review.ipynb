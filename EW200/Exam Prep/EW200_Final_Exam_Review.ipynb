{
  "nbformat": 4,
  "nbformat_minor": 0,
  "metadata": {
    "colab": {
      "provenance": []
    },
    "kernelspec": {
      "name": "python3",
      "display_name": "Python 3"
    },
    "language_info": {
      "name": "python"
    }
  },
  "cells": [
    {
      "cell_type": "code",
      "execution_count": null,
      "metadata": {
        "id": "C9-ed_wCw5Y0",
        "colab": {
          "base_uri": "https://localhost:8080/"
        },
        "outputId": "1babada9-bc2d-4160-f427-647a20333332"
      },
      "outputs": [
        {
          "name": "stdout",
          "output_type": "stream",
          "text": [
            "what do you want do?\n",
            "run\n",
            "what do you want do?\n",
            "swim\n",
            "what do you want do?\n",
            "cry\n",
            "what do you want do?\n",
            "study for dynamics\n",
            "what do you want do?\n",
            "sleep\n",
            "what do you want do?\n",
            "q\n"
          ]
        }
      ],
      "source": [
        "# Use a While loop and input to make a list of 5 things you want to do when the semester is over. 'q' should exit the loop\n",
        "things = []\n",
        "while 1:\n",
        "  item = input(\"what do you want do?\\n\")\n",
        "  # check if exiting\n",
        "  if item.lower() == 'q':\n",
        "    break\n",
        "  # append to our list otherwise\n",
        "  things.append(item)"
      ]
    },
    {
      "cell_type": "code",
      "source": [
        "# print out each item on the list using a f string\n",
        "for t in things:\n",
        "  print(f'I want to {t}')\n"
      ],
      "metadata": {
        "id": "jHXZfutbxN6Y",
        "colab": {
          "base_uri": "https://localhost:8080/"
        },
        "outputId": "0f022b3f-1be7-47d9-9f71-647b93574347"
      },
      "execution_count": null,
      "outputs": [
        {
          "output_type": "stream",
          "name": "stdout",
          "text": [
            "I want to run\n",
            "I want to swim\n",
            "I want to cry\n",
            "I want to study for dynamics\n",
            "I want to sleep\n"
          ]
        }
      ]
    },
    {
      "cell_type": "code",
      "source": [
        "# print out each item as a numbered list, but capitalize the first letter of every word\n",
        "\n",
        "for n in range(len(things)):\n",
        "  print(f'{n+1}. {things[n]}')\n",
        "\n"
      ],
      "metadata": {
        "id": "qRBovxvdxTfB",
        "colab": {
          "base_uri": "https://localhost:8080/"
        },
        "outputId": "dccd873b-3876-4e37-d707-7089a5beb08a"
      },
      "execution_count": null,
      "outputs": [
        {
          "output_type": "stream",
          "name": "stdout",
          "text": [
            "1. run\n",
            "2. swim\n",
            "3. cry\n",
            "4. study for dynamics\n",
            "5. sleep\n"
          ]
        }
      ]
    },
    {
      "cell_type": "code",
      "source": [
        "# only print the first 3 items\n",
        "things[:3]\n",
        "things[-3:]"
      ],
      "metadata": {
        "id": "7igMkmTrxaSH",
        "colab": {
          "base_uri": "https://localhost:8080/"
        },
        "outputId": "15c12192-ad32-4970-bd9d-95065141e95b"
      },
      "execution_count": null,
      "outputs": [
        {
          "output_type": "execute_result",
          "data": {
            "text/plain": [
              "['cry', 'study for dynamics', 'sleep']"
            ]
          },
          "metadata": {},
          "execution_count": 10
        }
      ]
    },
    {
      "cell_type": "code",
      "source": [
        "# Add \"Review Python\" to your list\n",
        "things.append(\"Review Python\")\n"
      ],
      "metadata": {
        "id": "0wBAwOfvxdci"
      },
      "execution_count": null,
      "outputs": []
    },
    {
      "cell_type": "code",
      "source": [
        "# put the list in alphabetical order\n",
        "sorted_things = sorted(things) # returns a sorted list\n",
        "\n",
        "#things.sort() # permanent\n",
        "\n",
        "sorted_things\n"
      ],
      "metadata": {
        "id": "u5mPJLUR1ZmU",
        "colab": {
          "base_uri": "https://localhost:8080/"
        },
        "outputId": "8c95ac2f-73a1-421b-9b18-fa5bb9ae2617"
      },
      "execution_count": null,
      "outputs": [
        {
          "output_type": "execute_result",
          "data": {
            "text/plain": [
              "['Review Python', 'cry', 'run', 'sleep', 'study for dynamics', 'swim']"
            ]
          },
          "metadata": {},
          "execution_count": 13
        }
      ]
    },
    {
      "cell_type": "code",
      "source": [
        "# remove review python from your list\n",
        "sorted_things.remove('Review Python')"
      ],
      "metadata": {
        "id": "-n7j_9V-2OxE"
      },
      "execution_count": null,
      "outputs": []
    },
    {
      "cell_type": "code",
      "source": [],
      "metadata": {
        "id": "U1Aat-NM2dXN"
      },
      "execution_count": null,
      "outputs": []
    },
    {
      "cell_type": "code",
      "source": [
        "elsberry_list = ['sleep','eat','play with piper and kids']\n",
        "\n",
        "def add_tv(some_list):\n",
        "  some_list.append('watch for all mankind')\n",
        "  print(some_list)\n",
        "\n",
        "add_tv(elsberry_list[:])\n",
        "\n",
        "elsberry_list\n",
        "\n",
        "#"
      ],
      "metadata": {
        "id": "SVwnLLSp1iFF",
        "colab": {
          "base_uri": "https://localhost:8080/"
        },
        "outputId": "bad994f0-f6e4-4db4-d231-b01b57d24a33"
      },
      "execution_count": null,
      "outputs": [
        {
          "output_type": "stream",
          "name": "stdout",
          "text": [
            "['sleep', 'eat', 'play with piper and kids', 'watch for all mankind']\n"
          ]
        },
        {
          "output_type": "execute_result",
          "data": {
            "text/plain": [
              "['sleep', 'eat', 'play with piper and kids']"
            ]
          },
          "metadata": {},
          "execution_count": 18
        }
      ]
    },
    {
      "cell_type": "code",
      "source": [
        "# Create a copy of the list for your friend! Make sure your friend wont change your list when they edit their list\n",
        "things\n",
        "supes_list = things[:]\n",
        "\n",
        "supes_list.append('Take the boat out')\n",
        "\n",
        "print('supes list',supes_list)\n",
        "print('my list', things)"
      ],
      "metadata": {
        "id": "r6e-cQTp2EiG",
        "colab": {
          "base_uri": "https://localhost:8080/"
        },
        "outputId": "7d625bf3-4697-466c-a405-1fc2ece2f3f9"
      },
      "execution_count": null,
      "outputs": [
        {
          "output_type": "stream",
          "name": "stdout",
          "text": [
            "supes list ['run', 'swim', 'cry', 'study for dynamics', 'sleep', 'Review Python', 'Take the boat out', 'Take the boat out']\n",
            "my list ['run', 'swim', 'cry', 'study for dynamics', 'sleep', 'Review Python', 'Take the boat out']\n"
          ]
        }
      ]
    },
    {
      "cell_type": "code",
      "source": [
        "navy_ships = {\n",
        "    'Aircraft carriers': 11,\n",
        "    'Submarines': 66,\n",
        "    'Destroyers': 65,\n",
        "    'Frigates': 0, # No longer in service\n",
        "    'Amphibious assault ships': 9,\n",
        "    'Mine countermeasures ships': 11,\n",
        "    'Patrol boats': 14,\n",
        "    'Auxiliary ships': 29,\n",
        "    'Submarines' : 100\n",
        "}\n",
        "\n",
        "navy_ships"
      ],
      "metadata": {
        "id": "1A63N25LxjIV",
        "colab": {
          "base_uri": "https://localhost:8080/"
        },
        "outputId": "ae02c61e-b0cf-4722-de98-54fef3cf3282"
      },
      "execution_count": null,
      "outputs": [
        {
          "output_type": "execute_result",
          "data": {
            "text/plain": [
              "{'Aircraft carriers': 11,\n",
              " 'Submarines': 100,\n",
              " 'Destroyers': 65,\n",
              " 'Frigates': 0,\n",
              " 'Amphibious assault ships': 9,\n",
              " 'Mine countermeasures ships': 11,\n",
              " 'Patrol boats': 14,\n",
              " 'Auxiliary ships': 29}"
            ]
          },
          "metadata": {},
          "execution_count": 35
        }
      ]
    },
    {
      "cell_type": "code",
      "source": [
        "# New ship created! change Auxiliary ships to 30\n",
        "navy_ships['Auxiliary ships'] = 30\n",
        "\n",
        "\n",
        "navy_ships"
      ],
      "metadata": {
        "id": "qDDiCztC2h6U",
        "colab": {
          "base_uri": "https://localhost:8080/"
        },
        "outputId": "2ea461a8-dc2f-4b2a-a451-1dea74a05514"
      },
      "execution_count": null,
      "outputs": [
        {
          "output_type": "execute_result",
          "data": {
            "text/plain": [
              "{'Aircraft carriers': 11,\n",
              " 'Submarines': 66,\n",
              " 'Destroyers': 65,\n",
              " 'Frigates': 0,\n",
              " 'Amphibious assault ships': 9,\n",
              " 'Mine countermeasures ships': 11,\n",
              " 'Patrol boats': 14,\n",
              " 'Auxiliary ships': 30}"
            ]
          },
          "metadata": {},
          "execution_count": 26
        }
      ]
    },
    {
      "cell_type": "code",
      "source": [
        "# We forgot the YPs! Add 24 YPs to the dictionary\n",
        "navy_ships['YPs'] = 24\n",
        "\n",
        "navy_ships"
      ],
      "metadata": {
        "id": "AZAThtGf2rqw",
        "colab": {
          "base_uri": "https://localhost:8080/"
        },
        "outputId": "8f4c2577-f0a4-4367-f39c-137ca2f8d06c"
      },
      "execution_count": null,
      "outputs": [
        {
          "output_type": "execute_result",
          "data": {
            "text/plain": [
              "{'Aircraft carriers': 11,\n",
              " 'Submarines': 100,\n",
              " 'Destroyers': 65,\n",
              " 'Amphibious assault ships': 9,\n",
              " 'Mine countermeasures ships': 11,\n",
              " 'Patrol boats': 14,\n",
              " 'Auxiliary ships': 29,\n",
              " 'YPs': 24}"
            ]
          },
          "metadata": {},
          "execution_count": 41
        }
      ]
    },
    {
      "cell_type": "code",
      "source": [
        "# Frigates are done! Get rid of the key/value pair\n",
        "try: del navy_ships['Frigates']\n",
        "except: print('Frigates are already gone - it is 2023')\n"
      ],
      "metadata": {
        "id": "fb6xoqx-23PY",
        "colab": {
          "base_uri": "https://localhost:8080/"
        },
        "outputId": "9a21b01a-a45b-4c24-95d1-606ba9f86b73"
      },
      "execution_count": null,
      "outputs": [
        {
          "output_type": "stream",
          "name": "stdout",
          "text": [
            "Frigates are already gone - it is 2023\n"
          ]
        }
      ]
    },
    {
      "cell_type": "code",
      "source": [
        "navy_ships"
      ],
      "metadata": {
        "colab": {
          "base_uri": "https://localhost:8080/"
        },
        "id": "xYeEURPBQHoL",
        "outputId": "04de0fdb-016d-4c53-da4c-d054bbc9febc"
      },
      "execution_count": null,
      "outputs": [
        {
          "output_type": "execute_result",
          "data": {
            "text/plain": [
              "{'Aircraft carriers': 11,\n",
              " 'Submarines': 66,\n",
              " 'Destroyers': 65,\n",
              " 'Amphibious assault ships': 9,\n",
              " 'Mine countermeasures ships': 11,\n",
              " 'Patrol boats': 14,\n",
              " 'Auxiliary ships': 30,\n",
              " 'YPs': 24}"
            ]
          },
          "metadata": {},
          "execution_count": 30
        }
      ]
    },
    {
      "cell_type": "code",
      "source": [
        "# Loop of the dictionary and print \"We have lots of _____\" if we have more than 20 of an item\n",
        "for k,v in navy_ships.items():\n",
        "  if v >20:\n",
        "    print(f'We have lots of {k}')\n"
      ],
      "metadata": {
        "id": "ihGIDz-gxuem",
        "colab": {
          "base_uri": "https://localhost:8080/"
        },
        "outputId": "d2a58494-52ec-4574-c100-5f1870504637"
      },
      "execution_count": null,
      "outputs": [
        {
          "output_type": "stream",
          "name": "stdout",
          "text": [
            "We have lots of Submarines\n",
            "We have lots of Destroyers\n",
            "We have lots of Auxiliary ships\n",
            "We have lots of YPs\n"
          ]
        }
      ]
    },
    {
      "cell_type": "code",
      "source": [
        "# create a function that will return the total number of ships in the dictionary\n",
        "\n",
        "def calc_total(ship_dict):\n",
        "  total = 0\n",
        "  for v in ship_dict.values():\n",
        "    total += v\n",
        "\n",
        "  return total\n",
        "\n",
        "def calc_total2(ship_dict):\n",
        "  return sum([v for v in ship_dict.values()])\n",
        "\n",
        "\n",
        "calc_total(navy_ships)\n",
        "calc_total2(navy_ships)"
      ],
      "metadata": {
        "id": "gjMler6vx0C5",
        "colab": {
          "base_uri": "https://localhost:8080/"
        },
        "outputId": "e1546f8f-4ca7-4501-c30c-8851de87f565"
      },
      "execution_count": null,
      "outputs": [
        {
          "output_type": "execute_result",
          "data": {
            "text/plain": [
              "263"
            ]
          },
          "metadata": {},
          "execution_count": 44
        }
      ]
    },
    {
      "cell_type": "code",
      "source": [
        "# create a function called get_distance.\n",
        "#It should take in the round trip time (in seconds) of a ping from your ultrasonic range sensor and return the 1 way distance in meters\n",
        "\n",
        "def get_distance(delta_t):\n",
        "  '''takes a delta t from us sensor and tells us the distance'''\n",
        "  ss = 340 # speed sound in m/s\n",
        "\n",
        "  return (ss * delta_t)/2\n",
        "\n",
        "get_distance(1e-4)\n"
      ],
      "metadata": {
        "id": "bm0eWmf00_jJ",
        "colab": {
          "base_uri": "https://localhost:8080/"
        },
        "outputId": "62fc0432-2def-4a7e-bae8-13cf529fbc00"
      },
      "execution_count": null,
      "outputs": [
        {
          "output_type": "execute_result",
          "data": {
            "text/plain": [
              "0.017"
            ]
          },
          "metadata": {},
          "execution_count": 47
        }
      ]
    },
    {
      "cell_type": "code",
      "source": [
        "# make a class called DJ. It should have the following attributes:\n",
        "'''\n",
        "name - DJ Name\n",
        "playlist - list of songs\n",
        "track - the current track number (index of playlist), defaults to 0\n",
        "playing - defaults to True\n",
        "'''\n",
        "\n",
        "'''\n",
        "play() - starts playing music\n",
        "stop() - stops music\n",
        "skip() - skips to next track (goes to 0 if at the end)\n",
        "status() - Tells me if it's playing or not and which track it's on\n",
        "up_next() - Tells me what is playing next\n",
        "'''\n",
        "\n",
        "\n",
        "class DJ():\n",
        "  def __init__(self, name, playlist, track =0, playing=True):\n",
        "    self.name = name\n",
        "    self.playlist = playlist\n",
        "    self.track = track\n",
        "    self.playing = playing\n",
        "\n",
        "  def play(self):\n",
        "    self.playing = True\n",
        "    print(\"I am playing music\")\n",
        "\n",
        "  def stop(self):\n",
        "    self.playing = False\n",
        "    print(\"I stopped the music\")\n",
        "\n",
        "  def skip(self):\n",
        "    self.track +=1\n",
        "    if self.track>=len(self.playlist):\n",
        "      self.track = 0\n",
        "\n",
        "  def status(self):\n",
        "    print(f\"DJ {self.name} is playing {self.playlist[self.track]}\")\n",
        "\n",
        "  def up_next(self):\n",
        "    # add some error checking here\n",
        "    print(f\"Up Next from DJ {self.name} is {self.playlist[self.track+1]}\")"
      ],
      "metadata": {
        "id": "TCx5UUszyFNg"
      },
      "execution_count": null,
      "outputs": []
    },
    {
      "cell_type": "code",
      "source": [
        "# make an instance of DJ and call each of the methods\n",
        "dj_e = DJ('E', ['cruel summer', ' anchors aweigh'])\n",
        "\n",
        "dj_e.play()\n",
        "dj_e.status()\n",
        "\n",
        "# switch to track 2\n",
        "dj_e.track = 1\n",
        "\n"
      ],
      "metadata": {
        "id": "T_h_CDduzzmX",
        "colab": {
          "base_uri": "https://localhost:8080/"
        },
        "outputId": "a83a2c85-b9b6-4005-e9e2-9f6f2dbdd43e"
      },
      "execution_count": null,
      "outputs": [
        {
          "output_type": "stream",
          "name": "stdout",
          "text": [
            "I am playing music\n",
            "DJ E is playing cruel summer\n"
          ]
        }
      ]
    },
    {
      "cell_type": "code",
      "source": [
        "import pygame\n",
        "\n",
        "\n",
        "pygame.init()\n",
        "\n",
        "screen = pygame.display.set_mode((500, 500))\n",
        "\n",
        "\n",
        "red = True\n",
        "\n",
        "\n",
        "running = True\n",
        "while running:\n",
        "\n",
        "    if red:\n",
        "        screen.fill((255, 0, 0))\n",
        "    else:\n",
        "        screen.fill((0, 255, 0))\n",
        "\n",
        "\n",
        "    pygame.display.flip()\n",
        "\n",
        "    for event in pygame.event.get():\n",
        "        if event.type == pygame.QUIT:\n",
        "            running = False\n",
        "\n",
        "    red = not red\n",
        "\n",
        "pygame.quit()\n",
        "\n",
        "# what does the above code do?\n"
      ],
      "metadata": {
        "id": "5yGOovXGzwog"
      },
      "execution_count": null,
      "outputs": []
    },
    {
      "cell_type": "code",
      "source": [
        "import pygame\n",
        "\n",
        "\n",
        "pygame.init()\n",
        "\n",
        "SCREEN_WIDTH = 500\n",
        "SCREEN_HEIGHT = 600\n",
        "screen = pygame.display.set_mode((SCREEN_WIDTH, SCREEN_HEIGHT))\n",
        "\n",
        "\n",
        "ship_image = pygame.image.load(\"spaceship.png\")\n",
        "ship_rect = ship_image.get_rect()\n",
        "\n",
        "\n",
        "ship_rect.centerx = SCREEN_WIDTH//2\n",
        "ship_rect.centery = 0\n",
        "\n",
        "\n",
        "move_speed = 3\n",
        "\n",
        "running = True\n",
        "while running:\n",
        "\n",
        "    screen.fill((0, 0, 0))\n",
        "\n",
        "\n",
        "    ship_rect.centery += move_speed\n",
        "    if ship_rect.top > SCREEN_HEIGHT:\n",
        "        ship_rect.top = 0\n",
        "\n",
        "    screen.blit(ship_image, ship_rect)\n",
        "\n",
        "    pygame.display.update()\n",
        "    for event in pygame.event.get():\n",
        "        if event.type == pygame.QUIT:\n",
        "            running = False\n",
        "\n",
        "pygame.quit()\n",
        "\n",
        "# What does the above code do?"
      ],
      "metadata": {
        "id": "Sm6icbsx0Q75"
      },
      "execution_count": null,
      "outputs": []
    }
  ]
}