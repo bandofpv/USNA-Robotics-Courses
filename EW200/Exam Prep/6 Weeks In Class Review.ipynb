{
 "cells": [
  {
   "cell_type": "code",
   "execution_count": 8,
   "id": "260f2588",
   "metadata": {},
   "outputs": [
    {
     "name": "stdout",
     "output_type": "stream",
     "text": [
      "['running', '           walking', 'running', 'reading', 'running', 'ew200']\n",
      "['           walking', 'running', 'reading', 'running']\n",
      "['           walking', 'reading']\n",
      "I like walking\n",
      "I like reading\n"
     ]
    }
   ],
   "source": [
    "hobbies = ['running', '           walking', 'running', 'reading', 'running']\n",
    "\n",
    "# add to end of list\n",
    "hobbies.append('ew200')\n",
    "\n",
    "print(hobbies)\n",
    "\n",
    "# remove last item in list\n",
    "hobbies.pop()\n",
    "\n",
    "# remove specific item \n",
    "hobbies.remove('running')\n",
    "\n",
    "print(hobbies)\n",
    "\n",
    "# remove all instances of 'running'\n",
    "while 'running' in hobbies:\n",
    "    hobbies.remove('running')\n",
    "    \n",
    "print(hobbies)\n",
    "    \n",
    "# print all values of list\n",
    "for hobby in hobbies: \n",
    "    print(f\"I like {hobby.strip()}\")"
   ]
  },
  {
   "cell_type": "code",
   "execution_count": 10,
   "id": "41c852b5",
   "metadata": {},
   "outputs": [
    {
     "name": "stdout",
     "output_type": "stream",
     "text": [
      "-40.0\n",
      "68.0\n",
      "68.0\n",
      "2.0\n"
     ]
    }
   ],
   "source": [
    "# write a function to convert C to F\n",
    "def convert_c_f(c_temp=20):\n",
    "    return 32 + c_temp * 9/5\n",
    "\n",
    "print(convert_c_f(-40))\n",
    "print(convert_c_f(20))\n",
    "print(convert_c_f())\n",
    "\n",
    "# write a function to calculate the average of a list of numbers\n",
    "def calc_avg(nums):\n",
    "    \"\"\"Calculate the average of a list of numbers\"\"\"\n",
    "    return sum(nums) / len(nums)\n",
    "\n",
    "print(calc_avg([1, 2, 3]))"
   ]
  },
  {
   "cell_type": "code",
   "execution_count": 17,
   "id": "4cc926c2",
   "metadata": {},
   "outputs": [
    {
     "name": "stdout",
     "output_type": "stream",
     "text": [
      "85.33333333333333\n",
      "[95, 82, 88, 99]\n",
      "'goose' was called!\n",
      "Stay seated\n",
      "Stay seated\n",
      "Stay seated\n",
      "RUN!\n",
      "Stay seated\n",
      "Stay seated\n"
     ]
    }
   ],
   "source": [
    "grades =  [95, 82, 88, 99, 78, 70]\n",
    "\n",
    "# calculate average\n",
    "print(calc_avg(grades))\n",
    "\n",
    "# drop the lowest grade from grades\n",
    "grades.remove(min(grades))\n",
    "\n",
    "# add any grade greater than 80 and add to grades_to_keep\n",
    "grades_to_keep = []\n",
    "for grade in grades:\n",
    "    if grade > 80:\n",
    "        grades_to_keep.append(grade)\n",
    "\n",
    "print(grades_to_keep)\n",
    "\n",
    "game = ['duck', 'duck', 'duck', 'goose', 'duck', 'duck']\n",
    "\n",
    "# check if goose has been called in this game\n",
    "if 'goose' in game:\n",
    "    print(\"'goose' was called!\")\n",
    "\n",
    "# if goose is called, print RUN! Otherwise print stay seated\n",
    "for c in game:\n",
    "    if c == 'goose':\n",
    "        print(\"RUN!\")\n",
    "    \n",
    "    else:\n",
    "        print(\"Stay seated\")"
   ]
  },
  {
   "cell_type": "code",
   "execution_count": 23,
   "id": "3c3f21f5",
   "metadata": {},
   "outputs": [
    {
     "name": "stdout",
     "output_type": "stream",
     "text": [
      "Charlie has 2 kids, their ages are: \n",
      "2\n",
      "3\n",
      "Dennis has 4 kids, their ages are: \n",
      "5\n",
      "7\n",
      "9\n",
      "11\n",
      "Dee has 3 kids, their ages are: \n",
      "1\n",
      "2\n",
      "4\n",
      "Mac has 1 kids, their ages are: \n",
      "3\n",
      "Charlie's kids average age is 2.5 years\n",
      "Dennis's kids average age is 8.0 years\n",
      "Dee's kids average age is 2.3333333333333335 years\n",
      "Mac's kids average age is 3.0 years\n"
     ]
    }
   ],
   "source": [
    "parents = {\n",
    "    'Charlie':[2,3],\n",
    "    'Dennis':[5, 7, 9, 11],\n",
    "    'Dee':[1, 2, 4],\n",
    "    'Mac':[3]\n",
    "}\n",
    "\n",
    "# loop over and print \"Charlie has 2 kids, their ages are: 2 3\"\n",
    "\n",
    "for k, v in parents.items():\n",
    "    print(f\"{k} has {len(v)} kids, their ages are: \")\n",
    "    for x in v:\n",
    "        print(x)\n",
    "        \n",
    "# for each parent find the average age of their kids\n",
    "\n",
    "for k, v in parents.items():\n",
    "    print(f\"{k}'s kids average age is {calc_avg(v)} years\")\n",
    "    \n"
   ]
  },
  {
   "cell_type": "code",
   "execution_count": 26,
   "id": "ac838b31",
   "metadata": {},
   "outputs": [
    {
     "name": "stdout",
     "output_type": "stream",
     "text": [
      "Give me a favorite show (q to quit):\n",
      "The Office\n",
      "Give me a favorite show (q to quit):\n",
      "Friends\n",
      "Give me a favorite show (q to quit):\n",
      "q\n",
      "['The Office', 'Friends']\n"
     ]
    }
   ],
   "source": [
    "# ask a user for a favorite TV show. Quit when we enter 'q'\n",
    "\n",
    "favorite_shows = []\n",
    "while True:\n",
    "    answer = input(\"Give me a favorite show (q to quit):\\n\")\n",
    "    \n",
    "    if answer == 'q':\n",
    "        break\n",
    "    \n",
    "    favorite_shows.append(answer)\n",
    "    \n",
    "print(favorite_shows)"
   ]
  }
 ],
 "metadata": {
  "kernelspec": {
   "display_name": "Python 3 (ipykernel)",
   "language": "python",
   "name": "python3"
  },
  "language_info": {
   "codemirror_mode": {
    "name": "ipython",
    "version": 3
   },
   "file_extension": ".py",
   "mimetype": "text/x-python",
   "name": "python",
   "nbconvert_exporter": "python",
   "pygments_lexer": "ipython3",
   "version": "3.11.4"
  }
 },
 "nbformat": 4,
 "nbformat_minor": 5
}
