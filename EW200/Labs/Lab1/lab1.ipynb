{
 "cells": [
  {
   "cell_type": "markdown",
   "id": "4cbfbcc0",
   "metadata": {},
   "source": [
    "<img src=\"https://www.usna.edu/WRC/_files/WRClogos/WRCE-logo-combined-01-crop.png\" width=\"200px\">\n",
    "\n",
    "# Lab 1\n",
    "\n",
    "### Part 1: Blinky\n",
    "Original `blink.py` code:"
   ]
  },
  {
   "cell_type": "code",
   "execution_count": null,
   "id": "74987199",
   "metadata": {},
   "outputs": [],
   "source": [
    "import time\n",
    "import digitalio\n",
    "import board\n",
    "\n",
    "# assign pin and pin function\n",
    "led = digitalio.DigitalInOut(board.GP15)\n",
    "led.direction = digitalio.Direction.OUTPUT\n",
    "\n",
    "# blink led 3 times\n",
    "for x in range(3):\n",
    "    led.value = True\n",
    "    print(\"ON\")\n",
    "    time.sleep(1)\n",
    "    led.value = False\n",
    "    print(\"OFF\")\n",
    "    time.sleep(1)"
   ]
  },
  {
   "cell_type": "markdown",
   "id": "8e15033c",
   "metadata": {},
   "source": [
    "### Part 2: SOS\n",
    "`sos.py` code:"
   ]
  },
  {
   "cell_type": "code",
   "execution_count": null,
   "id": "de7528b4",
   "metadata": {},
   "outputs": [],
   "source": [
    "import time\n",
    "import digitalio\n",
    "import board\n",
    "\n",
    "# assign pin and pin function\n",
    "led = digitalio.DigitalInOut(board.GP15)\n",
    "led.direction = digitalio.Direction.OUTPUT\n",
    "\n",
    "# blink led in SOS morse code sequence\n",
    "while True:\n",
    "    # 3 dots\n",
    "    for x in range(3):\n",
    "        led.value = True\n",
    "        time.sleep(0.25)\n",
    "        led.value = False\n",
    "        time.sleep(0.25)\n",
    "    time.sleep(1)\n",
    "    \n",
    "    # 3 dashes\n",
    "    for x in range(3):\n",
    "        led.value = True\n",
    "        time.sleep(1)\n",
    "        led.value = False\n",
    "        time.sleep(0.25)\n",
    "    time.sleep(1)\n",
    "    \n",
    "    # 3 dots\n",
    "    for x in range(3):\n",
    "        led.value = True\n",
    "        time.sleep(0.25)\n",
    "        led.value = False\n",
    "        time.sleep(0.25)\n",
    "    time.sleep(2)"
   ]
  },
  {
   "cell_type": "markdown",
   "id": "a38caacb",
   "metadata": {},
   "source": [
    "### Part 3: Fast Blinky\n",
    "Modified `blink.py`"
   ]
  },
  {
   "cell_type": "code",
   "execution_count": null,
   "id": "5201e629",
   "metadata": {},
   "outputs": [],
   "source": [
    "import time\n",
    "import digitalio\n",
    "import board\n",
    "\n",
    "# assign pin and pin function\n",
    "led = digitalio.DigitalInOut(board.GP15)\n",
    "led.direction = digitalio.Direction.OUTPUT\n",
    "\n",
    "# set sleep time variables (in seconds)\n",
    "ON = 0.01\n",
    "OFF = 0.01\n",
    "\n",
    "# blink led with different sleep times\n",
    "while True:\n",
    "    led.value = True\n",
    "    time.sleep(ON)\n",
    "    led.value = False\n",
    "    time.sleep(OFF)"
   ]
  },
  {
   "cell_type": "markdown",
   "id": "1b1261c1",
   "metadata": {},
   "source": [
    "| Description | ON | OFF | Observations (Brightness?) |\n",
    "| :----------- | :----------- | :----------- | :----------- | \n",
    "| Faster Blink | 0.100 | 0.100 | Flashes rapidly. No change in brightness. |\n",
    "| Fast Blink: Balanced | 0.010 | 0.010 | Low brightness |\n",
    "| Fast Blink: Mostly ON | 0.019 | 0.001 | Low brightness |\n",
    "|Fast Blink: Mostly OFF | 0.001 | 0.019 | Very low brightness |\n",
    "\n",
    "*What happens when you shake the board back and forth?*\n",
    "\n",
    "You can see the LED blinking.\n",
    "\n",
    "\n"
   ]
  }
 ],
 "metadata": {
  "kernelspec": {
   "display_name": "Python 3 (ipykernel)",
   "language": "python",
   "name": "python3"
  },
  "language_info": {
   "codemirror_mode": {
    "name": "ipython",
    "version": 3
   },
   "file_extension": ".py",
   "mimetype": "text/x-python",
   "name": "python",
   "nbconvert_exporter": "python",
   "pygments_lexer": "ipython3",
   "version": "3.11.4"
  }
 },
 "nbformat": 4,
 "nbformat_minor": 5
}
